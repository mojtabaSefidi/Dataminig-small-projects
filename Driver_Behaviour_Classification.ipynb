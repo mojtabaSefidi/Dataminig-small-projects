{
  "nbformat": 4,
  "nbformat_minor": 0,
  "metadata": {
    "colab": {
      "name": "Driver_Behaviour_Classification.ipynb",
      "provenance": [],
      "collapsed_sections": [],
      "authorship_tag": "ABX9TyO5JwkDQ3+QckAkSQxLSLkN",
      "include_colab_link": true
    },
    "kernelspec": {
      "name": "python3",
      "display_name": "Python 3"
    },
    "language_info": {
      "name": "python"
    }
  },
  "cells": [
    {
      "cell_type": "markdown",
      "metadata": {
        "id": "view-in-github",
        "colab_type": "text"
      },
      "source": [
        "<a href=\"https://colab.research.google.com/github/mojtabaSefidi/Dataminig-small-projects/blob/main/Driver_Behaviour_Classification.ipynb\" target=\"_parent\"><img src=\"https://colab.research.google.com/assets/colab-badge.svg\" alt=\"Open In Colab\"/></a>"
      ]
    },
    {
      "cell_type": "code",
      "source": [
        "from sklearn.model_selection import train_test_split, GridSearchCV\n",
        "from sklearn.metrics import classification_report, confusion_matrix\n",
        "from sklearn.ensemble import RandomForestClassifier\n",
        "from sklearn.svm import SVC\n",
        "from sklearn.preprocessing import StandardScaler\n",
        "from sklearn.tree import DecisionTreeClassifier\n",
        "import matplotlib.pyplot as plt\n",
        "import seaborn as sn\n",
        "import pandas as pd\n",
        "import numpy as np\n",
        "sn.set()"
      ],
      "metadata": {
        "id": "K_Csjxvo0zZO"
      },
      "execution_count": 485,
      "outputs": []
    },
    {
      "cell_type": "code",
      "source": [
        "!gdown --id 1SnKjUF251FLwoZ0AejsGOpIdKd43kO91\n",
        "! mkdir ~/.kaggle\n",
        "! cp kaggle.json ~/.kaggle/\n",
        "! chmod 600 ~/.kaggle/kaggle.json\n",
        "! kaggle datasets download -d veeralakrishna/aggressive-driving-data\n",
        "! unzip aggressive-driving-data.zip"
      ],
      "metadata": {
        "id": "RrSeUDTvbz3D"
      },
      "execution_count": null,
      "outputs": []
    },
    {
      "cell_type": "code",
      "source": [
        "data_part1 = pd.read_csv('Train_Data/Train.csv')\n",
        "data_part2 = pd.read_csv('Train_Data/Train_Vehicletravellingdata.csv').drop_duplicates(subset=['ID'], keep='last').drop(['ID'],axis=1).reset_index()\n",
        "data_part3 = pd.read_csv('Train_Data/Train_WeatherData.csv').drop_duplicates(subset=['ID'], keep='last').drop(['ID','V1'],axis=1).reset_index()\n",
        "dataset = pd.concat([data_part1, data_part2, data_part3],axis=1)\n",
        "dataset = dataset[['ID','V1','V2','V3','V4','V5','V6','V7','V8','V9','V10','V11','V12','V13','V14','V15','V16','V17','V18','V19','DrivingStyle']]\n",
        "dataset.rename(columns={'V1':'date','V2':'vehicle_length','V3':'road_lane','V4':'speed','V5':'vehicle_weight','V6':'num_axles','V7':'Id_preceding_car',\n",
        "                      'V8':'speed_preceding','V9':'weight_preceding','V10':'length_preceding','V11':'time_gap','V12':'temperature','V13':'weather',\n",
        "                      'V14':'intensity','V15':'humidity','V16':'wind_direction','V17':'wind_speed','V18':'road_condition','V19':'lighting_condition'},\n",
        "               inplace=True)\n",
        "dataset.head(2).T"
      ],
      "metadata": {
        "colab": {
          "base_uri": "https://localhost:8080/",
          "height": 708
        },
        "id": "zIbf_1HT0nlP",
        "outputId": "150acd49-59e8-4b36-b567-cd630b956e96"
      },
      "execution_count": 449,
      "outputs": [
        {
          "output_type": "execute_result",
          "data": {
            "text/html": [
              "\n",
              "  <div id=\"df-81bc808a-f03b-4032-a9db-625a6e7414d7\">\n",
              "    <div class=\"colab-df-container\">\n",
              "      <div>\n",
              "<style scoped>\n",
              "    .dataframe tbody tr th:only-of-type {\n",
              "        vertical-align: middle;\n",
              "    }\n",
              "\n",
              "    .dataframe tbody tr th {\n",
              "        vertical-align: top;\n",
              "    }\n",
              "\n",
              "    .dataframe thead th {\n",
              "        text-align: right;\n",
              "    }\n",
              "</style>\n",
              "<table border=\"1\" class=\"dataframe\">\n",
              "  <thead>\n",
              "    <tr style=\"text-align: right;\">\n",
              "      <th></th>\n",
              "      <th>0</th>\n",
              "      <th>1</th>\n",
              "    </tr>\n",
              "  </thead>\n",
              "  <tbody>\n",
              "    <tr>\n",
              "      <th>ID</th>\n",
              "      <td>DR_24526</td>\n",
              "      <td>DR_30052</td>\n",
              "    </tr>\n",
              "    <tr>\n",
              "      <th>date</th>\n",
              "      <td>2012-03-21 09:24:51</td>\n",
              "      <td>2012-03-21 09:40:25</td>\n",
              "    </tr>\n",
              "    <tr>\n",
              "      <th>vehicle_length</th>\n",
              "      <td>1265</td>\n",
              "      <td>1680</td>\n",
              "    </tr>\n",
              "    <tr>\n",
              "      <th>road_lane</th>\n",
              "      <td>1</td>\n",
              "      <td>2</td>\n",
              "    </tr>\n",
              "    <tr>\n",
              "      <th>speed</th>\n",
              "      <td>82</td>\n",
              "      <td>79</td>\n",
              "    </tr>\n",
              "    <tr>\n",
              "      <th>vehicle_weight</th>\n",
              "      <td>10243</td>\n",
              "      <td>30871</td>\n",
              "    </tr>\n",
              "    <tr>\n",
              "      <th>num_axles</th>\n",
              "      <td>2</td>\n",
              "      <td>6</td>\n",
              "    </tr>\n",
              "    <tr>\n",
              "      <th>Id_preceding_car</th>\n",
              "      <td>57246</td>\n",
              "      <td>57259</td>\n",
              "    </tr>\n",
              "    <tr>\n",
              "      <th>speed_preceding</th>\n",
              "      <td>79</td>\n",
              "      <td>78</td>\n",
              "    </tr>\n",
              "    <tr>\n",
              "      <th>weight_preceding</th>\n",
              "      <td>26187</td>\n",
              "      <td>1682</td>\n",
              "    </tr>\n",
              "    <tr>\n",
              "      <th>length_preceding</th>\n",
              "      <td>1705</td>\n",
              "      <td>508</td>\n",
              "    </tr>\n",
              "    <tr>\n",
              "      <th>time_gap</th>\n",
              "      <td>4</td>\n",
              "      <td>81</td>\n",
              "    </tr>\n",
              "    <tr>\n",
              "      <th>temperature</th>\n",
              "      <td>7</td>\n",
              "      <td>1</td>\n",
              "    </tr>\n",
              "    <tr>\n",
              "      <th>weather</th>\n",
              "      <td>clear</td>\n",
              "      <td>clear</td>\n",
              "    </tr>\n",
              "    <tr>\n",
              "      <th>intensity</th>\n",
              "      <td>None</td>\n",
              "      <td>None</td>\n",
              "    </tr>\n",
              "    <tr>\n",
              "      <th>humidity</th>\n",
              "      <td>95</td>\n",
              "      <td>96</td>\n",
              "    </tr>\n",
              "    <tr>\n",
              "      <th>wind_direction</th>\n",
              "      <td>124</td>\n",
              "      <td>191</td>\n",
              "    </tr>\n",
              "    <tr>\n",
              "      <th>wind_speed</th>\n",
              "      <td>0</td>\n",
              "      <td>6</td>\n",
              "    </tr>\n",
              "    <tr>\n",
              "      <th>road_condition</th>\n",
              "      <td>Dry</td>\n",
              "      <td>Dry</td>\n",
              "    </tr>\n",
              "    <tr>\n",
              "      <th>lighting_condition</th>\n",
              "      <td>daylight</td>\n",
              "      <td>daylight</td>\n",
              "    </tr>\n",
              "    <tr>\n",
              "      <th>DrivingStyle</th>\n",
              "      <td>2</td>\n",
              "      <td>2</td>\n",
              "    </tr>\n",
              "  </tbody>\n",
              "</table>\n",
              "</div>\n",
              "      <button class=\"colab-df-convert\" onclick=\"convertToInteractive('df-81bc808a-f03b-4032-a9db-625a6e7414d7')\"\n",
              "              title=\"Convert this dataframe to an interactive table.\"\n",
              "              style=\"display:none;\">\n",
              "        \n",
              "  <svg xmlns=\"http://www.w3.org/2000/svg\" height=\"24px\"viewBox=\"0 0 24 24\"\n",
              "       width=\"24px\">\n",
              "    <path d=\"M0 0h24v24H0V0z\" fill=\"none\"/>\n",
              "    <path d=\"M18.56 5.44l.94 2.06.94-2.06 2.06-.94-2.06-.94-.94-2.06-.94 2.06-2.06.94zm-11 1L8.5 8.5l.94-2.06 2.06-.94-2.06-.94L8.5 2.5l-.94 2.06-2.06.94zm10 10l.94 2.06.94-2.06 2.06-.94-2.06-.94-.94-2.06-.94 2.06-2.06.94z\"/><path d=\"M17.41 7.96l-1.37-1.37c-.4-.4-.92-.59-1.43-.59-.52 0-1.04.2-1.43.59L10.3 9.45l-7.72 7.72c-.78.78-.78 2.05 0 2.83L4 21.41c.39.39.9.59 1.41.59.51 0 1.02-.2 1.41-.59l7.78-7.78 2.81-2.81c.8-.78.8-2.07 0-2.86zM5.41 20L4 18.59l7.72-7.72 1.47 1.35L5.41 20z\"/>\n",
              "  </svg>\n",
              "      </button>\n",
              "      \n",
              "  <style>\n",
              "    .colab-df-container {\n",
              "      display:flex;\n",
              "      flex-wrap:wrap;\n",
              "      gap: 12px;\n",
              "    }\n",
              "\n",
              "    .colab-df-convert {\n",
              "      background-color: #E8F0FE;\n",
              "      border: none;\n",
              "      border-radius: 50%;\n",
              "      cursor: pointer;\n",
              "      display: none;\n",
              "      fill: #1967D2;\n",
              "      height: 32px;\n",
              "      padding: 0 0 0 0;\n",
              "      width: 32px;\n",
              "    }\n",
              "\n",
              "    .colab-df-convert:hover {\n",
              "      background-color: #E2EBFA;\n",
              "      box-shadow: 0px 1px 2px rgba(60, 64, 67, 0.3), 0px 1px 3px 1px rgba(60, 64, 67, 0.15);\n",
              "      fill: #174EA6;\n",
              "    }\n",
              "\n",
              "    [theme=dark] .colab-df-convert {\n",
              "      background-color: #3B4455;\n",
              "      fill: #D2E3FC;\n",
              "    }\n",
              "\n",
              "    [theme=dark] .colab-df-convert:hover {\n",
              "      background-color: #434B5C;\n",
              "      box-shadow: 0px 1px 3px 1px rgba(0, 0, 0, 0.15);\n",
              "      filter: drop-shadow(0px 1px 2px rgba(0, 0, 0, 0.3));\n",
              "      fill: #FFFFFF;\n",
              "    }\n",
              "  </style>\n",
              "\n",
              "      <script>\n",
              "        const buttonEl =\n",
              "          document.querySelector('#df-81bc808a-f03b-4032-a9db-625a6e7414d7 button.colab-df-convert');\n",
              "        buttonEl.style.display =\n",
              "          google.colab.kernel.accessAllowed ? 'block' : 'none';\n",
              "\n",
              "        async function convertToInteractive(key) {\n",
              "          const element = document.querySelector('#df-81bc808a-f03b-4032-a9db-625a6e7414d7');\n",
              "          const dataTable =\n",
              "            await google.colab.kernel.invokeFunction('convertToInteractive',\n",
              "                                                     [key], {});\n",
              "          if (!dataTable) return;\n",
              "\n",
              "          const docLinkHtml = 'Like what you see? Visit the ' +\n",
              "            '<a target=\"_blank\" href=https://colab.research.google.com/notebooks/data_table.ipynb>data table notebook</a>'\n",
              "            + ' to learn more about interactive tables.';\n",
              "          element.innerHTML = '';\n",
              "          dataTable['output_type'] = 'display_data';\n",
              "          await google.colab.output.renderOutput(dataTable, element);\n",
              "          const docLink = document.createElement('div');\n",
              "          docLink.innerHTML = docLinkHtml;\n",
              "          element.appendChild(docLink);\n",
              "        }\n",
              "      </script>\n",
              "    </div>\n",
              "  </div>\n",
              "  "
            ],
            "text/plain": [
              "                                      0                    1\n",
              "ID                             DR_24526             DR_30052\n",
              "date                2012-03-21 09:24:51  2012-03-21 09:40:25\n",
              "vehicle_length                     1265                 1680\n",
              "road_lane                             1                    2\n",
              "speed                                82                   79\n",
              "vehicle_weight                    10243                30871\n",
              "num_axles                             2                    6\n",
              "Id_preceding_car                  57246                57259\n",
              "speed_preceding                      79                   78\n",
              "weight_preceding                  26187                 1682\n",
              "length_preceding                   1705                  508\n",
              "time_gap                              4                   81\n",
              "temperature                           7                    1\n",
              "weather                           clear                clear\n",
              "intensity                          None                 None\n",
              "humidity                             95                   96\n",
              "wind_direction                      124                  191\n",
              "wind_speed                            0                    6\n",
              "road_condition                      Dry                  Dry\n",
              "lighting_condition             daylight             daylight\n",
              "DrivingStyle                          2                    2"
            ]
          },
          "metadata": {},
          "execution_count": 449
        }
      ]
    },
    {
      "cell_type": "code",
      "source": [
        "plt.figure(figsize=(6,5))\n",
        "sn.countplot(x = dataset['DrivingStyle'])"
      ],
      "metadata": {
        "colab": {
          "base_uri": "https://localhost:8080/",
          "height": 356
        },
        "id": "nBIP8bjcFJrn",
        "outputId": "10c2bf83-0635-4f35-aa19-3ead625e6e69"
      },
      "execution_count": 455,
      "outputs": [
        {
          "output_type": "execute_result",
          "data": {
            "text/plain": [
              "<matplotlib.axes._subplots.AxesSubplot at 0x7f2b2b241a90>"
            ]
          },
          "metadata": {},
          "execution_count": 455
        },
        {
          "output_type": "display_data",
          "data": {
            "image/png": "[encoded data removed]",
            "text/plain": [
              "<Figure size 432x360 with 1 Axes>"
            ]
          },
          "metadata": {}
        }
      ]
    },
    {
      "cell_type": "code",
      "source": [
        "Alldata = pd.read_csv('Train_Data/Train_Vehicletravellingdata.csv')\n",
        "Alldata.rename(columns={'V1':'date','V3':'road_lane','V4':'speed','V7':'Id_preceding_car','V8':'speed_preceding','V9':'weight_preceding',\n",
        "                     'V10':'length_preceding','V11':'time_gap','V18':'road_condition','V19':'lighting_condition'},\n",
        "               inplace=True)\n",
        "Alldata.head()"
      ],
      "metadata": {
        "colab": {
          "base_uri": "https://localhost:8080/",
          "height": 206
        },
        "id": "b--vSy9RatCL",
        "outputId": "64db387b-3494-433d-cb1c-cf26849444d1"
      },
      "execution_count": 357,
      "outputs": [
        {
          "output_type": "execute_result",
          "data": {
            "text/html": [
              "\n",
              "  <div id=\"df-231d6583-bf67-4a55-9db8-7685fe72e88d\">\n",
              "    <div class=\"colab-df-container\">\n",
              "      <div>\n",
              "<style scoped>\n",
              "    .dataframe tbody tr th:only-of-type {\n",
              "        vertical-align: middle;\n",
              "    }\n",
              "\n",
              "    .dataframe tbody tr th {\n",
              "        vertical-align: top;\n",
              "    }\n",
              "\n",
              "    .dataframe thead th {\n",
              "        text-align: right;\n",
              "    }\n",
              "</style>\n",
              "<table border=\"1\" class=\"dataframe\">\n",
              "  <thead>\n",
              "    <tr style=\"text-align: right;\">\n",
              "      <th></th>\n",
              "      <th>ID</th>\n",
              "      <th>date</th>\n",
              "      <th>road_lane</th>\n",
              "      <th>speed</th>\n",
              "      <th>Id_preceding_car</th>\n",
              "      <th>speed_preceding</th>\n",
              "      <th>weight_preceding</th>\n",
              "      <th>length_preceding</th>\n",
              "      <th>time_gap</th>\n",
              "      <th>road_condition</th>\n",
              "    </tr>\n",
              "  </thead>\n",
              "  <tbody>\n",
              "    <tr>\n",
              "      <th>0</th>\n",
              "      <td>DR_24526</td>\n",
              "      <td>2012-03-21 09:14:55</td>\n",
              "      <td>1</td>\n",
              "      <td>81</td>\n",
              "      <td>57227</td>\n",
              "      <td>87</td>\n",
              "      <td>16986</td>\n",
              "      <td>941</td>\n",
              "      <td>94.0</td>\n",
              "      <td>Dry</td>\n",
              "    </tr>\n",
              "    <tr>\n",
              "      <th>1</th>\n",
              "      <td>DR_24526</td>\n",
              "      <td>2012-03-21 09:15:07</td>\n",
              "      <td>1</td>\n",
              "      <td>88</td>\n",
              "      <td>57229</td>\n",
              "      <td>81</td>\n",
              "      <td>1708</td>\n",
              "      <td>551</td>\n",
              "      <td>11.0</td>\n",
              "      <td>Dry</td>\n",
              "    </tr>\n",
              "    <tr>\n",
              "      <th>2</th>\n",
              "      <td>DR_24526</td>\n",
              "      <td>2012-03-21 09:15:12</td>\n",
              "      <td>1</td>\n",
              "      <td>88</td>\n",
              "      <td>57230</td>\n",
              "      <td>88</td>\n",
              "      <td>22892</td>\n",
              "      <td>1698</td>\n",
              "      <td>4.0</td>\n",
              "      <td>Dry</td>\n",
              "    </tr>\n",
              "    <tr>\n",
              "      <th>3</th>\n",
              "      <td>DR_24526</td>\n",
              "      <td>2012-03-21 09:15:48</td>\n",
              "      <td>2</td>\n",
              "      <td>84</td>\n",
              "      <td>57228</td>\n",
              "      <td>89</td>\n",
              "      <td>1945</td>\n",
              "      <td>544</td>\n",
              "      <td>127.0</td>\n",
              "      <td>Dry</td>\n",
              "    </tr>\n",
              "    <tr>\n",
              "      <th>4</th>\n",
              "      <td>DR_24526</td>\n",
              "      <td>2012-03-21 09:15:54</td>\n",
              "      <td>1</td>\n",
              "      <td>89</td>\n",
              "      <td>57231</td>\n",
              "      <td>88</td>\n",
              "      <td>13787</td>\n",
              "      <td>1893</td>\n",
              "      <td>42.0</td>\n",
              "      <td>Dry</td>\n",
              "    </tr>\n",
              "  </tbody>\n",
              "</table>\n",
              "</div>\n",
              "      <button class=\"colab-df-convert\" onclick=\"convertToInteractive('df-231d6583-bf67-4a55-9db8-7685fe72e88d')\"\n",
              "              title=\"Convert this dataframe to an interactive table.\"\n",
              "              style=\"display:none;\">\n",
              "        \n",
              "  <svg xmlns=\"http://www.w3.org/2000/svg\" height=\"24px\"viewBox=\"0 0 24 24\"\n",
              "       width=\"24px\">\n",
              "    <path d=\"M0 0h24v24H0V0z\" fill=\"none\"/>\n",
              "    <path d=\"M18.56 5.44l.94 2.06.94-2.06 2.06-.94-2.06-.94-.94-2.06-.94 2.06-2.06.94zm-11 1L8.5 8.5l.94-2.06 2.06-.94-2.06-.94L8.5 2.5l-.94 2.06-2.06.94zm10 10l.94 2.06.94-2.06 2.06-.94-2.06-.94-.94-2.06-.94 2.06-2.06.94z\"/><path d=\"M17.41 7.96l-1.37-1.37c-.4-.4-.92-.59-1.43-.59-.52 0-1.04.2-1.43.59L10.3 9.45l-7.72 7.72c-.78.78-.78 2.05 0 2.83L4 21.41c.39.39.9.59 1.41.59.51 0 1.02-.2 1.41-.59l7.78-7.78 2.81-2.81c.8-.78.8-2.07 0-2.86zM5.41 20L4 18.59l7.72-7.72 1.47 1.35L5.41 20z\"/>\n",
              "  </svg>\n",
              "      </button>\n",
              "      \n",
              "  <style>\n",
              "    .colab-df-container {\n",
              "      display:flex;\n",
              "      flex-wrap:wrap;\n",
              "      gap: 12px;\n",
              "    }\n",
              "\n",
              "    .colab-df-convert {\n",
              "      background-color: #E8F0FE;\n",
              "      border: none;\n",
              "      border-radius: 50%;\n",
              "      cursor: pointer;\n",
              "      display: none;\n",
              "      fill: #1967D2;\n",
              "      height: 32px;\n",
              "      padding: 0 0 0 0;\n",
              "      width: 32px;\n",
              "    }\n",
              "\n",
              "    .colab-df-convert:hover {\n",
              "      background-color: #E2EBFA;\n",
              "      box-shadow: 0px 1px 2px rgba(60, 64, 67, 0.3), 0px 1px 3px 1px rgba(60, 64, 67, 0.15);\n",
              "      fill: #174EA6;\n",
              "    }\n",
              "\n",
              "    [theme=dark] .colab-df-convert {\n",
              "      background-color: #3B4455;\n",
              "      fill: #D2E3FC;\n",
              "    }\n",
              "\n",
              "    [theme=dark] .colab-df-convert:hover {\n",
              "      background-color: #434B5C;\n",
              "      box-shadow: 0px 1px 3px 1px rgba(0, 0, 0, 0.15);\n",
              "      filter: drop-shadow(0px 1px 2px rgba(0, 0, 0, 0.3));\n",
              "      fill: #FFFFFF;\n",
              "    }\n",
              "  </style>\n",
              "\n",
              "      <script>\n",
              "        const buttonEl =\n",
              "          document.querySelector('#df-231d6583-bf67-4a55-9db8-7685fe72e88d button.colab-df-convert');\n",
              "        buttonEl.style.display =\n",
              "          google.colab.kernel.accessAllowed ? 'block' : 'none';\n",
              "\n",
              "        async function convertToInteractive(key) {\n",
              "          const element = document.querySelector('#df-231d6583-bf67-4a55-9db8-7685fe72e88d');\n",
              "          const dataTable =\n",
              "            await google.colab.kernel.invokeFunction('convertToInteractive',\n",
              "                                                     [key], {});\n",
              "          if (!dataTable) return;\n",
              "\n",
              "          const docLinkHtml = 'Like what you see? Visit the ' +\n",
              "            '<a target=\"_blank\" href=https://colab.research.google.com/notebooks/data_table.ipynb>data table notebook</a>'\n",
              "            + ' to learn more about interactive tables.';\n",
              "          element.innerHTML = '';\n",
              "          dataTable['output_type'] = 'display_data';\n",
              "          await google.colab.output.renderOutput(dataTable, element);\n",
              "          const docLink = document.createElement('div');\n",
              "          docLink.innerHTML = docLinkHtml;\n",
              "          element.appendChild(docLink);\n",
              "        }\n",
              "      </script>\n",
              "    </div>\n",
              "  </div>\n",
              "  "
            ],
            "text/plain": [
              "         ID                 date  ...  time_gap  road_condition\n",
              "0  DR_24526  2012-03-21 09:14:55  ...      94.0             Dry\n",
              "1  DR_24526  2012-03-21 09:15:07  ...      11.0             Dry\n",
              "2  DR_24526  2012-03-21 09:15:12  ...       4.0             Dry\n",
              "3  DR_24526  2012-03-21 09:15:48  ...     127.0             Dry\n",
              "4  DR_24526  2012-03-21 09:15:54  ...      42.0             Dry\n",
              "\n",
              "[5 rows x 10 columns]"
            ]
          },
          "metadata": {},
          "execution_count": 357
        }
      ]
    },
    {
      "cell_type": "code",
      "source": [
        "f, axes = plt.subplots(2, 2, figsize=(12, 8), sharex=True)\n",
        "epoch1 = list(range(1,Alldata['ID'].value_counts()['DR_49418'] + 1))\n",
        "epoch2 = list(range(1,Alldata['ID'].value_counts()['DR_12145'] + 1))\n",
        "epoch3 = list(range(1,Alldata['ID'].value_counts()['DR_57192'] + 1))\n",
        "epoch4 = list(range(1,Alldata['ID'].value_counts()['DR_22231'] + 1))\n",
        "sn.lineplot(x=epoch1, y = Alldata[Alldata['ID']=='DR_49418']['speed'],ax=axes[0, 0])\n",
        "sn.lineplot(x=epoch2, y = Alldata[Alldata['ID']=='DR_12145']['speed'],ax=axes[0, 1])\n",
        "sn.lineplot(x=epoch3, y = Alldata[Alldata['ID']=='DR_57192']['speed'],ax=axes[1, 0])\n",
        "sn.lineplot(x=epoch4, y = Alldata[Alldata['ID']=='DR_22231']['speed'],ax=axes[1, 1])\n",
        "axes[0, 0].set_title(\"Id = DR_49418\")\n",
        "axes[0, 1].set_title(\"Id = DR_12145\")\n",
        "axes[1, 0].set_title(\"Id = DR_57192\")\n",
        "axes[1, 1].set_title(\"Id = DR_22231\")"
      ],
      "metadata": {
        "colab": {
          "base_uri": "https://localhost:8080/",
          "height": 518
        },
        "id": "SbA3nYlFJ4H5",
        "outputId": "653cda10-ceb8-4edc-cec8-f1032799049a"
      },
      "execution_count": 484,
      "outputs": [
        {
          "output_type": "execute_result",
          "data": {
            "text/plain": [
              "Text(0.5, 1.0, 'Id = DR_22231')"
            ]
          },
          "metadata": {},
          "execution_count": 484
        },
        {
          "output_type": "display_data",
          "data": {
            "image/png": "[encoded data removed]",
            "text/plain": [
              "<Figure size 864x576 with 4 Axes>"
            ]
          },
          "metadata": {}
        }
      ]
    },
    {
      "cell_type": "code",
      "source": [
        "Alldata.isnull().sum()"
      ],
      "metadata": {
        "colab": {
          "base_uri": "https://localhost:8080/"
        },
        "id": "RMYdDvZTaCJq",
        "outputId": "20d4273c-7874-4d45-ff1b-8dabbace77d7"
      },
      "execution_count": 358,
      "outputs": [
        {
          "output_type": "execute_result",
          "data": {
            "text/plain": [
              "ID                     0\n",
              "date                   0\n",
              "road_lane              0\n",
              "speed                  0\n",
              "Id_preceding_car       0\n",
              "speed_preceding        0\n",
              "weight_preceding       0\n",
              "length_preceding       0\n",
              "time_gap            2455\n",
              "road_condition         0\n",
              "dtype: int64"
            ]
          },
          "metadata": {},
          "execution_count": 358
        }
      ]
    },
    {
      "cell_type": "code",
      "source": [
        "Alldata['time_gap'].fillna(round(Alldata['time_gap'].mean()) , inplace=True)\n",
        "Alldata.isnull().sum()"
      ],
      "metadata": {
        "colab": {
          "base_uri": "https://localhost:8080/"
        },
        "id": "_IvrQysqX29I",
        "outputId": "d31f2082-2204-491b-d94b-4d6afa9bda08"
      },
      "execution_count": 359,
      "outputs": [
        {
          "output_type": "execute_result",
          "data": {
            "text/plain": [
              "ID                  0\n",
              "date                0\n",
              "road_lane           0\n",
              "speed               0\n",
              "Id_preceding_car    0\n",
              "speed_preceding     0\n",
              "weight_preceding    0\n",
              "length_preceding    0\n",
              "time_gap            0\n",
              "road_condition      0\n",
              "dtype: int64"
            ]
          },
          "metadata": {},
          "execution_count": 359
        }
      ]
    },
    {
      "cell_type": "code",
      "source": [
        "learning_data = Alldata[['ID','speed','road_lane']]\n",
        "window_size = int(learning_data['ID'].value_counts().mean())\n",
        "window = window_size * (learning_data.shape[1]-1)\n",
        "new_dataset = np.empty((0, window+1), float)\n"
      ],
      "metadata": {
        "id": "gM5uvJqiEVHH"
      },
      "execution_count": null,
      "outputs": []
    },
    {
      "cell_type": "code",
      "source": [
        "(learning_data['ID'].value_counts()>learning_data['ID'].value_counts().mean()).sum()"
      ],
      "metadata": {
        "colab": {
          "base_uri": "https://localhost:8080/"
        },
        "id": "kqT-ZGPgc2mZ",
        "outputId": "5426d921-012c-4253-cd86-0eb7ec12d28a"
      },
      "execution_count": 361,
      "outputs": [
        {
          "output_type": "execute_result",
          "data": {
            "text/plain": [
              "4917"
            ]
          },
          "metadata": {},
          "execution_count": 361
        }
      ]
    },
    {
      "cell_type": "code",
      "source": [
        "id_list = learning_data['ID'].unique()\n",
        "for id in id_list:\n",
        "  temp_data = learning_data[learning_data['ID']==id].drop('ID',axis=1).to_numpy()\n",
        "  cut = temp_data.shape[0] % window_size\n",
        "  temp_data = temp_data[:-cut,:]\n",
        "  temp_data = temp_data.ravel().reshape(temp_data.size//window,window)\n",
        "  label = np.ones(temp_data.size//window)*list(data_part1[data_part1['ID']==id]['DrivingStyle'])[0]\n",
        "  new_dataset = np.concatenate((new_dataset,np.c_[temp_data,label]),axis=0)\n",
        "\n",
        "new_dataset"
      ],
      "metadata": {
        "colab": {
          "base_uri": "https://localhost:8080/"
        },
        "id": "8Oc2W0uWe2A_",
        "outputId": "c404d35a-d747-4a32-db73-c3d81808fa35"
      },
      "execution_count": 362,
      "outputs": [
        {
          "output_type": "execute_result",
          "data": {
            "text/plain": [
              "array([[81.,  1., 88., ..., 85.,  2.,  2.],\n",
              "       [87.,  1., 98., ..., 96.,  2.,  2.],\n",
              "       [83.,  2., 82., ..., 89.,  2.,  2.],\n",
              "       ...,\n",
              "       [89.,  2., 90., ..., 87.,  2.,  3.],\n",
              "       [90.,  2., 79., ..., 97.,  2.,  1.],\n",
              "       [71.,  1., 78., ..., 87.,  1.,  2.]])"
            ]
          },
          "metadata": {},
          "execution_count": 362
        }
      ]
    },
    {
      "cell_type": "code",
      "source": [
        "new_dataset_df = pd.DataFrame(new_dataset,columns = None)\n",
        "new_dataset_df.columns = [*new_dataset_df.columns[:-1], 'DrivingStyle']\n",
        "new_dataset_df['DrivingStyle'].value_counts()"
      ],
      "metadata": {
        "colab": {
          "base_uri": "https://localhost:8080/"
        },
        "id": "StxXvGPChZn2",
        "outputId": "ce8928cc-7a50-4907-da4f-0002766ccbdc"
      },
      "execution_count": 377,
      "outputs": [
        {
          "output_type": "execute_result",
          "data": {
            "text/plain": [
              "2.0    3805\n",
              "3.0    2265\n",
              "1.0     884\n",
              "Name: DrivingStyle, dtype: int64"
            ]
          },
          "metadata": {},
          "execution_count": 377
        }
      ]
    },
    {
      "cell_type": "code",
      "source": [
        "df = new_dataset_df[new_dataset_df['DrivingStyle']==2.0]\n",
        "new_dataset_df = new_dataset_df.append([df]*1,ignore_index=True)\n",
        "df = new_dataset_df[new_dataset_df['DrivingStyle']==3.0]\n",
        "new_dataset_df = new_dataset_df.append([df]*2,ignore_index=True)\n",
        "df = new_dataset_df[new_dataset_df['DrivingStyle']==1.0]\n",
        "new_dataset_df = new_dataset_df.append([df]*9,ignore_index=True)\n",
        "\n",
        "new_dataset_df['DrivingStyle'].value_counts()"
      ],
      "metadata": {
        "colab": {
          "base_uri": "https://localhost:8080/"
        },
        "id": "zr59DveXjVaO",
        "outputId": "e72782ea-fa10-4b6a-bf38-b92013a2af9b"
      },
      "execution_count": 378,
      "outputs": [
        {
          "output_type": "execute_result",
          "data": {
            "text/plain": [
              "1.0    8840\n",
              "2.0    7610\n",
              "3.0    6795\n",
              "Name: DrivingStyle, dtype: int64"
            ]
          },
          "metadata": {},
          "execution_count": 378
        }
      ]
    },
    {
      "cell_type": "code",
      "source": [
        "dataset = new_dataset_df.sample(frac=1).reset_index(drop=True).to_numpy()"
      ],
      "metadata": {
        "id": "Muw3zJf2qpXy"
      },
      "execution_count": 379,
      "outputs": []
    },
    {
      "cell_type": "code",
      "source": [
        "features = dataset[:,:-1]\n",
        "labels = dataset[:,-1]\n",
        "print(dataset.shape)\n",
        "print(features.shape)\n",
        "print(labels.shape)"
      ],
      "metadata": {
        "colab": {
          "base_uri": "https://localhost:8080/"
        },
        "id": "pXOUEaycrzx7",
        "outputId": "9e83a442-79cf-4dce-f1a5-ac7ed48e4cd2"
      },
      "execution_count": 380,
      "outputs": [
        {
          "output_type": "stream",
          "name": "stdout",
          "text": [
            "(23245, 25)\n",
            "(23245, 24)\n",
            "(23245,)\n"
          ]
        }
      ]
    },
    {
      "cell_type": "code",
      "source": [
        "from sklearn import preprocessing\n",
        "scaler = StandardScaler()\n",
        "scaler.fit(features)\n",
        "features = scaler.transform(features)\n"
      ],
      "metadata": {
        "id": "E7zBOog3uSyL"
      },
      "execution_count": 381,
      "outputs": []
    },
    {
      "cell_type": "code",
      "source": [
        "X_train, X_test, y_train, y_test = train_test_split(features, labels, test_size=0.33, shuffle=True)\n",
        "X_test.shape"
      ],
      "metadata": {
        "colab": {
          "base_uri": "https://localhost:8080/"
        },
        "id": "x46W5b1zu09S",
        "outputId": "fe581e84-d503-4120-bd49-4a13d4f575f7"
      },
      "execution_count": 382,
      "outputs": [
        {
          "output_type": "execute_result",
          "data": {
            "text/plain": [
              "(7671, 24)"
            ]
          },
          "metadata": {},
          "execution_count": 382
        }
      ]
    },
    {
      "cell_type": "code",
      "source": [
        "rfc = RandomForestClassifier(random_state=1)\n",
        "rfc.fit(X_train, y_train)\n",
        "\n",
        "print(\"Accuracy on Train: \" + str(rfc.score(X_train, y_train).round(3)))\n",
        "print(\"Accuracy on Test: \" + str(rfc.score(X_test, y_test).round(3)))\n",
        "\n",
        "y_pred = rfc.predict(X_test)\n",
        "print(classification_report(y_test, y_pred))\n",
        "print(confusion_matrix(y_test, y_pred))"
      ],
      "metadata": {
        "colab": {
          "base_uri": "https://localhost:8080/"
        },
        "id": "MVXI_gJhFmjz",
        "outputId": "e3594c52-1dae-4a2a-ba47-a8b688711728"
      },
      "execution_count": 406,
      "outputs": [
        {
          "output_type": "stream",
          "name": "stdout",
          "text": [
            "Accuracy on Train: 1.0\n",
            "Accuracy on Test: 0.955\n",
            "              precision    recall  f1-score   support\n",
            "\n",
            "         1.0       1.00      1.00      1.00      2886\n",
            "         2.0       0.92      0.94      0.93      2541\n",
            "         3.0       0.93      0.91      0.92      2244\n",
            "\n",
            "    accuracy                           0.95      7671\n",
            "   macro avg       0.95      0.95      0.95      7671\n",
            "weighted avg       0.95      0.95      0.95      7671\n",
            "\n",
            "[[2886    0    0]\n",
            " [   4 2387  150]\n",
            " [   0  195 2049]]\n"
          ]
        }
      ]
    },
    {
      "cell_type": "code",
      "source": [
        "rfc.get_params()"
      ],
      "metadata": {
        "colab": {
          "base_uri": "https://localhost:8080/"
        },
        "id": "uOh4RvLnyEVs",
        "outputId": "ce21405a-c69e-4b5e-fbcd-776f1b390d7e"
      },
      "execution_count": 407,
      "outputs": [
        {
          "output_type": "execute_result",
          "data": {
            "text/plain": [
              "{'bootstrap': True,\n",
              " 'ccp_alpha': 0.0,\n",
              " 'class_weight': None,\n",
              " 'criterion': 'gini',\n",
              " 'max_depth': None,\n",
              " 'max_features': 'auto',\n",
              " 'max_leaf_nodes': None,\n",
              " 'max_samples': None,\n",
              " 'min_impurity_decrease': 0.0,\n",
              " 'min_samples_leaf': 1,\n",
              " 'min_samples_split': 2,\n",
              " 'min_weight_fraction_leaf': 0.0,\n",
              " 'n_estimators': 100,\n",
              " 'n_jobs': None,\n",
              " 'oob_score': False,\n",
              " 'random_state': 1,\n",
              " 'verbose': 0,\n",
              " 'warm_start': False}"
            ]
          },
          "metadata": {},
          "execution_count": 407
        }
      ]
    },
    {
      "cell_type": "code",
      "source": [
        "param_dict = {\n",
        "    'n_estimators' : range(1,1001,100),\n",
        "    'min_samples_split' : [1, 2, 3],\n",
        "    'min_samples_leaf' : [1, 2, 4],\n",
        "}\n",
        "\n",
        "grid = GridSearchCV(RandomForestClassifier(),param_dict,cv=5,verbose=1)\n",
        "grid.fit(X_train, y_train)\n",
        "optimal_params = grid.best_params_\n"
      ],
      "metadata": {
        "id": "VlwMgi0eyp9L"
      },
      "execution_count": null,
      "outputs": []
    },
    {
      "cell_type": "code",
      "source": [
        "print('optimal Parameters :',optimal_params)"
      ],
      "metadata": {
        "colab": {
          "base_uri": "https://localhost:8080/"
        },
        "id": "XY90YQyF3ozE",
        "outputId": "52792382-1991-4649-d046-c98c59ecb3d5"
      },
      "execution_count": 404,
      "outputs": [
        {
          "output_type": "stream",
          "name": "stdout",
          "text": [
            "optimal Parameters : {'min_samples_leaf': 1, 'min_samples_split': 3, 'n_estimators': 90}\n"
          ]
        }
      ]
    },
    {
      "cell_type": "code",
      "source": [
        "rfc = RandomForestClassifier(random_state=1)\n",
        "rfc.set_params(**optimal_params)\n",
        "rfc.fit(X_train, y_train)\n",
        "print(\"Accuracy on Train: \" + str(rfc.score(X_train, y_train).round(3)))\n",
        "print(\"Accuracy on Test: \" + str(rfc.score(X_test, y_test).round(3)))\n",
        "\n",
        "\n",
        "y_pred = rfc.predict(X_test)\n",
        "print(classification_report(y_test, y_pred))\n",
        "print(confusion_matrix(y_test, y_pred))"
      ],
      "metadata": {
        "colab": {
          "base_uri": "https://localhost:8080/"
        },
        "id": "sxoLztfq3-fD",
        "outputId": "617a62f4-44bd-46c4-ae0b-8ebce19b73f6"
      },
      "execution_count": 408,
      "outputs": [
        {
          "output_type": "stream",
          "name": "stdout",
          "text": [
            "Accuracy on Train: 1.0\n",
            "Accuracy on Test: 0.957\n",
            "              precision    recall  f1-score   support\n",
            "\n",
            "         1.0       1.00      1.00      1.00      2886\n",
            "         2.0       0.93      0.94      0.94      2541\n",
            "         3.0       0.93      0.92      0.93      2244\n",
            "\n",
            "    accuracy                           0.96      7671\n",
            "   macro avg       0.95      0.95      0.95      7671\n",
            "weighted avg       0.96      0.96      0.96      7671\n",
            "\n",
            "[[2886    0    0]\n",
            " [   4 2389  148]\n",
            " [   0  180 2064]]\n"
          ]
        }
      ]
    },
    {
      "cell_type": "code",
      "source": [
        "dtc = DecisionTreeClassifier(random_state=1)\n",
        "dtc = dtc.fit(X_train, y_train)\n",
        "print(\"Accuracy on Train: \" + str(dtc.score(X_train, y_train).round(3)))\n",
        "print(\"Accuracy on Test: \" + str(dtc.score(X_test, y_test).round(3)))\n",
        "\n",
        "\n",
        "y_pred = dtc.predict(X_test)\n",
        "print(classification_report(y_test, y_pred))\n",
        "print(confusion_matrix(y_test, y_pred))"
      ],
      "metadata": {
        "colab": {
          "base_uri": "https://localhost:8080/"
        },
        "id": "k5gJB9rpvBex",
        "outputId": "6431aff2-a965-435a-fa45-d11b76bb90cf"
      },
      "execution_count": 409,
      "outputs": [
        {
          "output_type": "stream",
          "name": "stdout",
          "text": [
            "Accuracy on Train: 1.0\n",
            "Accuracy on Test: 0.928\n",
            "              precision    recall  f1-score   support\n",
            "\n",
            "         1.0       0.95      1.00      0.97      2886\n",
            "         2.0       0.93      0.85      0.89      2541\n",
            "         3.0       0.89      0.92      0.91      2244\n",
            "\n",
            "    accuracy                           0.93      7671\n",
            "   macro avg       0.93      0.92      0.92      7671\n",
            "weighted avg       0.93      0.93      0.93      7671\n",
            "\n",
            "[[2886    0    0]\n",
            " [ 126 2171  244]\n",
            " [  30  153 2061]]\n"
          ]
        }
      ]
    },
    {
      "cell_type": "code",
      "source": [
        "dtc.get_params()"
      ],
      "metadata": {
        "colab": {
          "base_uri": "https://localhost:8080/"
        },
        "id": "Uhypu1bczHWp",
        "outputId": "ffb9b9a3-37fb-40b8-8fa4-5218520cd5b1"
      },
      "execution_count": 410,
      "outputs": [
        {
          "output_type": "execute_result",
          "data": {
            "text/plain": [
              "{'ccp_alpha': 0.0,\n",
              " 'class_weight': None,\n",
              " 'criterion': 'gini',\n",
              " 'max_depth': None,\n",
              " 'max_features': None,\n",
              " 'max_leaf_nodes': None,\n",
              " 'min_impurity_decrease': 0.0,\n",
              " 'min_samples_leaf': 1,\n",
              " 'min_samples_split': 2,\n",
              " 'min_weight_fraction_leaf': 0.0,\n",
              " 'random_state': 1,\n",
              " 'splitter': 'best'}"
            ]
          },
          "metadata": {},
          "execution_count": 410
        }
      ]
    },
    {
      "cell_type": "code",
      "source": [
        "max_depth = [int(x) for x in np.linspace(10, 110, num = 22)]\n",
        "max_depth.append(None)\n",
        "param_dict = {\n",
        "    'criterion': ['gini','entropy'],\n",
        "    'max_depth' : max_depth ,\n",
        "    'min_samples_split' : [1,2,3],\n",
        "    'min_samples_leaf' : [1,2,4],\n",
        "}\n",
        "\n",
        "grid = GridSearchCV(DecisionTreeClassifier(),param_dict,cv=5,verbose=1)\n",
        "grid.fit(X_train, y_train)\n",
        "optimal_params = grid.best_params_\n",
        "print('optimal Parameters :',optimal_params)"
      ],
      "metadata": {
        "id": "DrV9tl8vRRXS"
      },
      "execution_count": null,
      "outputs": []
    },
    {
      "cell_type": "code",
      "source": [
        "optimal_params"
      ],
      "metadata": {
        "colab": {
          "base_uri": "https://localhost:8080/"
        },
        "outputId": "d76da7e7-f621-48cb-ebba-a105da281639",
        "id": "9PSnTOxiSlGi"
      },
      "execution_count": null,
      "outputs": [
        {
          "output_type": "execute_result",
          "data": {
            "text/plain": [
              "{'criterion': 'gini',\n",
              " 'max_depth': 90,\n",
              " 'min_samples_leaf': 1,\n",
              " 'min_samples_split': 2}"
            ]
          },
          "metadata": {},
          "execution_count": 35
        }
      ]
    },
    {
      "cell_type": "code",
      "source": [
        "dtc = DecisionTreeClassifier(random_state=1)\n",
        "dtc.set_params(**optimal_params)\n",
        "dtc = dtc.fit(X_train, y_train)\n",
        "print(\"Accuracy on Train: \" + str(dtc.score(X_train, y_train).round(3)))\n",
        "print(\"Accuracy on Test: \" + str(dtc.score(X_test, y_test).round(3)))\n",
        "\n",
        "\n",
        "y_pred = dtc.predict(X_test)\n",
        "print(classification_report(y_test, y_pred))\n",
        "print(confusion_matrix(y_test, y_pred))"
      ],
      "metadata": {
        "colab": {
          "base_uri": "https://localhost:8080/"
        },
        "id": "MSUbTyBYSc3v",
        "outputId": "4b8ebec1-d2c8-497d-e778-189e42c74fa7"
      },
      "execution_count": null,
      "outputs": [
        {
          "output_type": "stream",
          "name": "stdout",
          "text": [
            "Accuracy on Train: 1.0\n",
            "Accuracy on Test: 0.93\n",
            "              precision    recall  f1-score   support\n",
            "\n",
            "         1.0       0.95      1.00      0.97      2962\n",
            "         2.0       0.95      0.84      0.90      2489\n",
            "         3.0       0.88      0.93      0.91      2220\n",
            "\n",
            "    accuracy                           0.93      7671\n",
            "   macro avg       0.93      0.93      0.93      7671\n",
            "weighted avg       0.93      0.93      0.93      7671\n",
            "\n",
            "[[2962    0    0]\n",
            " [ 116 2099  274]\n",
            " [  48   99 2073]]\n"
          ]
        }
      ]
    },
    {
      "cell_type": "code",
      "source": [
        "svm=SVC()\n",
        "svm.fit(X_train, y_train)\n",
        "print(\"Accuracy on Train: \" + str(svm.score(X_train, y_train).round(3)))\n",
        "print(\"Accuracy on Test: \" + str(svm.score(X_test, y_test).round(3)))\n",
        "print()\n",
        "y_pred = svm.predict(X_test)\n",
        "print(classification_report(y_test, y_pred))\n",
        "print(confusion_matrix(y_test, y_pred))"
      ],
      "metadata": {
        "colab": {
          "base_uri": "https://localhost:8080/"
        },
        "id": "1O1yl4_QBLZx",
        "outputId": "161ac588-bbf1-4bd7-9578-15f1a4aae121"
      },
      "execution_count": null,
      "outputs": [
        {
          "output_type": "stream",
          "name": "stdout",
          "text": [
            "Accuracy on Train: 0.775\n",
            "Accuracy on Test: 0.691\n",
            "\n",
            "              precision    recall  f1-score   support\n",
            "\n",
            "         1.0       0.75      0.87      0.80      2962\n",
            "         2.0       0.65      0.57      0.60      2489\n",
            "         3.0       0.64      0.60      0.62      2220\n",
            "\n",
            "    accuracy                           0.69      7671\n",
            "   macro avg       0.68      0.68      0.68      7671\n",
            "weighted avg       0.68      0.69      0.69      7671\n",
            "\n",
            "[[2564  216  182]\n",
            " [ 518 1409  562]\n",
            " [ 341  550 1329]]\n"
          ]
        }
      ]
    },
    {
      "cell_type": "code",
      "source": [
        "svm.get_params()"
      ],
      "metadata": {
        "colab": {
          "base_uri": "https://localhost:8080/"
        },
        "id": "-AqnJVFICBZV",
        "outputId": "9c031776-f3d5-487e-ff28-037631c369b3"
      },
      "execution_count": null,
      "outputs": [
        {
          "output_type": "execute_result",
          "data": {
            "text/plain": [
              "{'C': 1.0,\n",
              " 'break_ties': False,\n",
              " 'cache_size': 200,\n",
              " 'class_weight': None,\n",
              " 'coef0': 0.0,\n",
              " 'decision_function_shape': 'ovr',\n",
              " 'degree': 3,\n",
              " 'gamma': 'scale',\n",
              " 'kernel': 'rbf',\n",
              " 'max_iter': -1,\n",
              " 'probability': False,\n",
              " 'random_state': None,\n",
              " 'shrinking': True,\n",
              " 'tol': 0.001,\n",
              " 'verbose': False}"
            ]
          },
          "metadata": {},
          "execution_count": 21
        }
      ]
    },
    {
      "cell_type": "code",
      "source": [
        "param_dict = {\n",
        "    'C' : [0.01,0.5,1,4],\n",
        "    'kernel' : ['linear','rbf']\n",
        "}\n",
        "\n",
        "grid = GridSearchCV(SVC(),param_dict,cv=5,verbose=1)\n",
        "grid.fit(X_train, y_train)\n",
        "optimal_params = grid.best_params_\n",
        "optimal_params"
      ],
      "metadata": {
        "colab": {
          "base_uri": "https://localhost:8080/"
        },
        "id": "lFnozuf9CtEm",
        "outputId": "bf34c5ab-94df-4beb-f21b-242ada45a852"
      },
      "execution_count": null,
      "outputs": [
        {
          "output_type": "stream",
          "name": "stdout",
          "text": [
            "Fitting 5 folds for each of 8 candidates, totalling 40 fits\n"
          ]
        },
        {
          "output_type": "execute_result",
          "data": {
            "text/plain": [
              "{'C': 4, 'kernel': 'rbf'}"
            ]
          },
          "metadata": {},
          "execution_count": 24
        }
      ]
    },
    {
      "cell_type": "code",
      "source": [
        "svm = SVC(random_state=1)\n",
        "svm.set_params(**optimal_params)\n",
        "svm.fit(X_train, y_train)\n",
        "print(\"Accuracy on Train: \" + str(svm.score(X_train, y_train).round(3)))\n",
        "print(\"Accuracy on Test: \" + str(svm.score(X_test, y_test).round(3)))\n",
        "\n",
        "\n",
        "y_pred = svm.predict(X_test)\n",
        "print(classification_report(y_test, y_pred))\n",
        "print(confusion_matrix(y_test, y_pred))"
      ],
      "metadata": {
        "colab": {
          "base_uri": "https://localhost:8080/"
        },
        "id": "JtZ-Tx-FJWwp",
        "outputId": "fa05caff-2e8d-4ecd-ee94-f890cbba7b6f"
      },
      "execution_count": null,
      "outputs": [
        {
          "output_type": "stream",
          "name": "stdout",
          "text": [
            "Accuracy on Train: 0.912\n",
            "Accuracy on Test: 0.807\n",
            "              precision    recall  f1-score   support\n",
            "\n",
            "         1.0       0.86      0.96      0.91      2962\n",
            "         2.0       0.78      0.68      0.73      2489\n",
            "         3.0       0.74      0.74      0.74      2220\n",
            "\n",
            "    accuracy                           0.81      7671\n",
            "   macro avg       0.80      0.79      0.79      7671\n",
            "weighted avg       0.80      0.81      0.80      7671\n",
            "\n",
            "[[2855   49   58]\n",
            " [ 289 1695  505]\n",
            " [ 158  422 1640]]\n"
          ]
        }
      ]
    },
    {
      "cell_type": "code",
      "source": [
        "param_dict = {\n",
        "    'C' : [4,8,16,32]\n",
        "}\n",
        "\n",
        "grid = GridSearchCV(SVC(),param_dict,cv=5,verbose=1)\n",
        "grid.fit(X_train, y_train)\n",
        "optimal_params = grid.best_params_\n",
        "optimal_params"
      ],
      "metadata": {
        "colab": {
          "base_uri": "https://localhost:8080/"
        },
        "id": "d0Wta06kKlXu",
        "outputId": "f717648f-0394-49fb-9219-a8d22b45c916"
      },
      "execution_count": null,
      "outputs": [
        {
          "output_type": "stream",
          "name": "stdout",
          "text": [
            "Fitting 5 folds for each of 4 candidates, totalling 20 fits\n"
          ]
        },
        {
          "output_type": "execute_result",
          "data": {
            "text/plain": [
              "{'C': 32}"
            ]
          },
          "metadata": {},
          "execution_count": 28
        }
      ]
    },
    {
      "cell_type": "code",
      "source": [
        "svm = SVC(random_state=1)\n",
        "svm.set_params(**optimal_params)\n",
        "svm.fit(X_train, y_train)\n",
        "print(\"Accuracy on Train: \" + str(svm.score(X_train, y_train).round(3)))\n",
        "print(\"Accuracy on Test: \" + str(svm.score(X_test, y_test).round(3)))\n",
        "\n",
        "\n",
        "y_pred = svm.predict(X_test)\n",
        "print(classification_report(y_test, y_pred))\n",
        "print(confusion_matrix(y_test, y_pred))"
      ],
      "metadata": {
        "colab": {
          "base_uri": "https://localhost:8080/"
        },
        "id": "xEo2HIH_NesN",
        "outputId": "841d6aa2-c248-4fea-91a5-2867783e2f2a"
      },
      "execution_count": null,
      "outputs": [
        {
          "output_type": "stream",
          "name": "stdout",
          "text": [
            "Accuracy on Train: 0.992\n",
            "Accuracy on Test: 0.912\n",
            "              precision    recall  f1-score   support\n",
            "\n",
            "         1.0       0.94      1.00      0.97      2962\n",
            "         2.0       0.92      0.81      0.86      2489\n",
            "         3.0       0.86      0.91      0.89      2220\n",
            "\n",
            "    accuracy                           0.91      7671\n",
            "   macro avg       0.91      0.91      0.91      7671\n",
            "weighted avg       0.91      0.91      0.91      7671\n",
            "\n",
            "[[2957    5    0]\n",
            " [ 148 2023  318]\n",
            " [  29  174 2017]]\n"
          ]
        }
      ]
    },
    {
      "cell_type": "code",
      "source": [
        "param_dict = {\n",
        "    'C' : [512,1024,2048,4096]\n",
        "}\n",
        "\n",
        "grid = GridSearchCV(SVC(),param_dict,cv=5,verbose=1)\n",
        "grid.fit(X_train, y_train)\n",
        "optimal_params = grid.best_params_\n",
        "optimal_params"
      ],
      "metadata": {
        "colab": {
          "base_uri": "https://localhost:8080/"
        },
        "id": "fbOWNNnTOPnK",
        "outputId": "ca65cce4-b20b-4439-fb53-785312ba7358"
      },
      "execution_count": null,
      "outputs": [
        {
          "output_type": "stream",
          "name": "stdout",
          "text": [
            "Fitting 5 folds for each of 4 candidates, totalling 20 fits\n"
          ]
        },
        {
          "output_type": "execute_result",
          "data": {
            "text/plain": [
              "{'C': 1024}"
            ]
          },
          "metadata": {},
          "execution_count": 32
        }
      ]
    },
    {
      "cell_type": "code",
      "source": [
        "svm = SVC(random_state=1)\n",
        "svm.set_params(**optimal_params)\n",
        "svm.fit(X_train, y_train)\n",
        "print(\"Accuracy on Train: \" + str(svm.score(X_train, y_train).round(3)))\n",
        "print(\"Accuracy on Test: \" + str(svm.score(X_test, y_test).round(3)))\n",
        "\n",
        "\n",
        "y_pred = svm.predict(X_test)\n",
        "print(classification_report(y_test, y_pred))\n",
        "print(confusion_matrix(y_test, y_pred))"
      ],
      "metadata": {
        "colab": {
          "base_uri": "https://localhost:8080/"
        },
        "id": "awLeRec7RC17",
        "outputId": "1a5ad3ec-1d30-4868-fc86-2b76859500fb"
      },
      "execution_count": null,
      "outputs": [
        {
          "output_type": "stream",
          "name": "stdout",
          "text": [
            "Accuracy on Train: 1.0\n",
            "Accuracy on Test: 0.925\n",
            "              precision    recall  f1-score   support\n",
            "\n",
            "         1.0       0.94      1.00      0.97      2962\n",
            "         2.0       0.94      0.83      0.88      2489\n",
            "         3.0       0.88      0.93      0.91      2220\n",
            "\n",
            "    accuracy                           0.92      7671\n",
            "   macro avg       0.92      0.92      0.92      7671\n",
            "weighted avg       0.93      0.92      0.92      7671\n",
            "\n",
            "[[2962    0    0]\n",
            " [ 150 2069  270]\n",
            " [  33  123 2064]]\n"
          ]
        }
      ]
    },
    {
      "cell_type": "code",
      "source": [
        "conclusion = pd.DataFrame([['Random forest',0.95,0.95,0.95,0.95],\n",
        "              ['Random forest after tuning',0.95,0.95,0.95,0.96],\n",
        "              ['Decision tree',0.93,0.92,0.92,0.93],\n",
        "              ['Decision tree after tuning',0.93,0.93,0.93,0.93],\n",
        "              ['SVM',0.68,0.68,0.68,0.69],\n",
        "              ['Decision tree after tuning(C=4)',0.80,0.79,0.79,0.81],\n",
        "              ['Decision tree after tuning(C=1024)',0.92,0.92,0.92,0.92]],\n",
        "              columns=[\"Algorithm\",\"Precision\",\"Recall\",\"F1score\",'Accuracy'])\n",
        "conclusion = conclusion.set_index('Algorithm')\n",
        "conclusion.style.background_gradient(cmap=\"Blues\")\n"
      ],
      "metadata": {
        "colab": {
          "base_uri": "https://localhost:8080/",
          "height": 300
        },
        "id": "ceDhCeZZTsxd",
        "outputId": "a86e887f-02b4-4c99-aa78-315e158c5336"
      },
      "execution_count": 487,
      "outputs": [
        {
          "output_type": "execute_result",
          "data": {
            "text/html": [
              "<style  type=\"text/css\" >\n",
              "#T_a9b0210e_61a4_11ec_9175_0242ac1c0002row0_col0,#T_a9b0210e_61a4_11ec_9175_0242ac1c0002row0_col1,#T_a9b0210e_61a4_11ec_9175_0242ac1c0002row0_col2,#T_a9b0210e_61a4_11ec_9175_0242ac1c0002row1_col0,#T_a9b0210e_61a4_11ec_9175_0242ac1c0002row1_col1,#T_a9b0210e_61a4_11ec_9175_0242ac1c0002row1_col2,#T_a9b0210e_61a4_11ec_9175_0242ac1c0002row1_col3{\n",
              "            background-color:  #08306b;\n",
              "            color:  #f1f1f1;\n",
              "        }#T_a9b0210e_61a4_11ec_9175_0242ac1c0002row0_col3{\n",
              "            background-color:  #083979;\n",
              "            color:  #f1f1f1;\n",
              "        }#T_a9b0210e_61a4_11ec_9175_0242ac1c0002row2_col0,#T_a9b0210e_61a4_11ec_9175_0242ac1c0002row3_col0,#T_a9b0210e_61a4_11ec_9175_0242ac1c0002row3_col1,#T_a9b0210e_61a4_11ec_9175_0242ac1c0002row3_col2{\n",
              "            background-color:  #084387;\n",
              "            color:  #f1f1f1;\n",
              "        }#T_a9b0210e_61a4_11ec_9175_0242ac1c0002row2_col1,#T_a9b0210e_61a4_11ec_9175_0242ac1c0002row2_col2,#T_a9b0210e_61a4_11ec_9175_0242ac1c0002row2_col3,#T_a9b0210e_61a4_11ec_9175_0242ac1c0002row3_col3,#T_a9b0210e_61a4_11ec_9175_0242ac1c0002row6_col0,#T_a9b0210e_61a4_11ec_9175_0242ac1c0002row6_col1,#T_a9b0210e_61a4_11ec_9175_0242ac1c0002row6_col2{\n",
              "            background-color:  #084d96;\n",
              "            color:  #f1f1f1;\n",
              "        }#T_a9b0210e_61a4_11ec_9175_0242ac1c0002row4_col0,#T_a9b0210e_61a4_11ec_9175_0242ac1c0002row4_col1,#T_a9b0210e_61a4_11ec_9175_0242ac1c0002row4_col2,#T_a9b0210e_61a4_11ec_9175_0242ac1c0002row4_col3{\n",
              "            background-color:  #f7fbff;\n",
              "            color:  #000000;\n",
              "        }#T_a9b0210e_61a4_11ec_9175_0242ac1c0002row5_col0,#T_a9b0210e_61a4_11ec_9175_0242ac1c0002row5_col3{\n",
              "            background-color:  #82bbdb;\n",
              "            color:  #000000;\n",
              "        }#T_a9b0210e_61a4_11ec_9175_0242ac1c0002row5_col1,#T_a9b0210e_61a4_11ec_9175_0242ac1c0002row5_col2{\n",
              "            background-color:  #91c3de;\n",
              "            color:  #000000;\n",
              "        }#T_a9b0210e_61a4_11ec_9175_0242ac1c0002row6_col3{\n",
              "            background-color:  #0c56a0;\n",
              "            color:  #f1f1f1;\n",
              "        }</style><table id=\"T_a9b0210e_61a4_11ec_9175_0242ac1c0002\" class=\"dataframe\"><thead>    <tr>        <th class=\"blank level0\" ></th>        <th class=\"col_heading level0 col0\" >Precision</th>        <th class=\"col_heading level0 col1\" >Recall</th>        <th class=\"col_heading level0 col2\" >F1score</th>        <th class=\"col_heading level0 col3\" >Accuracy</th>    </tr>    <tr>        <th class=\"index_name level0\" >Algorithm</th>        <th class=\"blank\" ></th>        <th class=\"blank\" ></th>        <th class=\"blank\" ></th>        <th class=\"blank\" ></th>    </tr></thead><tbody>\n",
              "                <tr>\n",
              "                        <th id=\"T_a9b0210e_61a4_11ec_9175_0242ac1c0002level0_row0\" class=\"row_heading level0 row0\" >Random forest</th>\n",
              "                        <td id=\"T_a9b0210e_61a4_11ec_9175_0242ac1c0002row0_col0\" class=\"data row0 col0\" >0.950000</td>\n",
              "                        <td id=\"T_a9b0210e_61a4_11ec_9175_0242ac1c0002row0_col1\" class=\"data row0 col1\" >0.950000</td>\n",
              "                        <td id=\"T_a9b0210e_61a4_11ec_9175_0242ac1c0002row0_col2\" class=\"data row0 col2\" >0.950000</td>\n",
              "                        <td id=\"T_a9b0210e_61a4_11ec_9175_0242ac1c0002row0_col3\" class=\"data row0 col3\" >0.950000</td>\n",
              "            </tr>\n",
              "            <tr>\n",
              "                        <th id=\"T_a9b0210e_61a4_11ec_9175_0242ac1c0002level0_row1\" class=\"row_heading level0 row1\" >Random forest after tuning</th>\n",
              "                        <td id=\"T_a9b0210e_61a4_11ec_9175_0242ac1c0002row1_col0\" class=\"data row1 col0\" >0.950000</td>\n",
              "                        <td id=\"T_a9b0210e_61a4_11ec_9175_0242ac1c0002row1_col1\" class=\"data row1 col1\" >0.950000</td>\n",
              "                        <td id=\"T_a9b0210e_61a4_11ec_9175_0242ac1c0002row1_col2\" class=\"data row1 col2\" >0.950000</td>\n",
              "                        <td id=\"T_a9b0210e_61a4_11ec_9175_0242ac1c0002row1_col3\" class=\"data row1 col3\" >0.960000</td>\n",
              "            </tr>\n",
              "            <tr>\n",
              "                        <th id=\"T_a9b0210e_61a4_11ec_9175_0242ac1c0002level0_row2\" class=\"row_heading level0 row2\" >Decision tree</th>\n",
              "                        <td id=\"T_a9b0210e_61a4_11ec_9175_0242ac1c0002row2_col0\" class=\"data row2 col0\" >0.930000</td>\n",
              "                        <td id=\"T_a9b0210e_61a4_11ec_9175_0242ac1c0002row2_col1\" class=\"data row2 col1\" >0.920000</td>\n",
              "                        <td id=\"T_a9b0210e_61a4_11ec_9175_0242ac1c0002row2_col2\" class=\"data row2 col2\" >0.920000</td>\n",
              "                        <td id=\"T_a9b0210e_61a4_11ec_9175_0242ac1c0002row2_col3\" class=\"data row2 col3\" >0.930000</td>\n",
              "            </tr>\n",
              "            <tr>\n",
              "                        <th id=\"T_a9b0210e_61a4_11ec_9175_0242ac1c0002level0_row3\" class=\"row_heading level0 row3\" >Decision tree after tuning</th>\n",
              "                        <td id=\"T_a9b0210e_61a4_11ec_9175_0242ac1c0002row3_col0\" class=\"data row3 col0\" >0.930000</td>\n",
              "                        <td id=\"T_a9b0210e_61a4_11ec_9175_0242ac1c0002row3_col1\" class=\"data row3 col1\" >0.930000</td>\n",
              "                        <td id=\"T_a9b0210e_61a4_11ec_9175_0242ac1c0002row3_col2\" class=\"data row3 col2\" >0.930000</td>\n",
              "                        <td id=\"T_a9b0210e_61a4_11ec_9175_0242ac1c0002row3_col3\" class=\"data row3 col3\" >0.930000</td>\n",
              "            </tr>\n",
              "            <tr>\n",
              "                        <th id=\"T_a9b0210e_61a4_11ec_9175_0242ac1c0002level0_row4\" class=\"row_heading level0 row4\" >SVM</th>\n",
              "                        <td id=\"T_a9b0210e_61a4_11ec_9175_0242ac1c0002row4_col0\" class=\"data row4 col0\" >0.680000</td>\n",
              "                        <td id=\"T_a9b0210e_61a4_11ec_9175_0242ac1c0002row4_col1\" class=\"data row4 col1\" >0.680000</td>\n",
              "                        <td id=\"T_a9b0210e_61a4_11ec_9175_0242ac1c0002row4_col2\" class=\"data row4 col2\" >0.680000</td>\n",
              "                        <td id=\"T_a9b0210e_61a4_11ec_9175_0242ac1c0002row4_col3\" class=\"data row4 col3\" >0.690000</td>\n",
              "            </tr>\n",
              "            <tr>\n",
              "                        <th id=\"T_a9b0210e_61a4_11ec_9175_0242ac1c0002level0_row5\" class=\"row_heading level0 row5\" >Decision tree after tuning(C=4)</th>\n",
              "                        <td id=\"T_a9b0210e_61a4_11ec_9175_0242ac1c0002row5_col0\" class=\"data row5 col0\" >0.800000</td>\n",
              "                        <td id=\"T_a9b0210e_61a4_11ec_9175_0242ac1c0002row5_col1\" class=\"data row5 col1\" >0.790000</td>\n",
              "                        <td id=\"T_a9b0210e_61a4_11ec_9175_0242ac1c0002row5_col2\" class=\"data row5 col2\" >0.790000</td>\n",
              "                        <td id=\"T_a9b0210e_61a4_11ec_9175_0242ac1c0002row5_col3\" class=\"data row5 col3\" >0.810000</td>\n",
              "            </tr>\n",
              "            <tr>\n",
              "                        <th id=\"T_a9b0210e_61a4_11ec_9175_0242ac1c0002level0_row6\" class=\"row_heading level0 row6\" >Decision tree after tuning(C=1024)</th>\n",
              "                        <td id=\"T_a9b0210e_61a4_11ec_9175_0242ac1c0002row6_col0\" class=\"data row6 col0\" >0.920000</td>\n",
              "                        <td id=\"T_a9b0210e_61a4_11ec_9175_0242ac1c0002row6_col1\" class=\"data row6 col1\" >0.920000</td>\n",
              "                        <td id=\"T_a9b0210e_61a4_11ec_9175_0242ac1c0002row6_col2\" class=\"data row6 col2\" >0.920000</td>\n",
              "                        <td id=\"T_a9b0210e_61a4_11ec_9175_0242ac1c0002row6_col3\" class=\"data row6 col3\" >0.920000</td>\n",
              "            </tr>\n",
              "    </tbody></table>"
            ],
            "text/plain": [
              "<pandas.io.formats.style.Styler at 0x7f2b2b69ae10>"
            ]
          },
          "metadata": {},
          "execution_count": 487
        }
      ]
    }
  ]
}