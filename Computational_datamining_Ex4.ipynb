{
  "nbformat": 4,
  "nbformat_minor": 0,
  "metadata": {
    "colab": {
      "name": "Computational_datamining_Ex4.ipynb",
      "provenance": [],
      "authorship_tag": "ABX9TyM8YmXUR0QLBGwOkOguez6R",
      "include_colab_link": true
    },
    "kernelspec": {
      "name": "python3",
      "display_name": "Python 3"
    },
    "language_info": {
      "name": "python"
    }
  },
  "cells": [
    {
      "cell_type": "markdown",
      "metadata": {
        "id": "view-in-github",
        "colab_type": "text"
      },
      "source": [
        "<a href=\"https://colab.research.google.com/github/mojtabaSefidi/Dataminig-small-projects/blob/main/Computational_datamining_Ex4.ipynb\" target=\"_parent\"><img src=\"https://colab.research.google.com/assets/colab-badge.svg\" alt=\"Open In Colab\"/></a>"
      ]
    },
    {
      "cell_type": "code",
      "execution_count": 22,
      "metadata": {
        "id": "6YgT8Nc7x41N"
      },
      "outputs": [],
      "source": [
        "import numpy as np\n",
        "from numpy import linalg as LA\n",
        "import time"
      ]
    },
    {
      "cell_type": "code",
      "source": [
        "def symmetric_matrix_generator(n):\n",
        "  b = np.random.randint(100, size=(n, n))\n",
        "  b_symm = (b + b.T)/2\n",
        "  return b_symm"
      ],
      "metadata": {
        "id": "GAUItj3qyRck"
      },
      "execution_count": 23,
      "outputs": []
    },
    {
      "cell_type": "code",
      "source": [
        "def normalize(x):\n",
        "  fac = abs(x).max()\n",
        "  x_n = x / x.max()\n",
        "  return fac, x_n\n",
        "\n",
        "def max_Eigenvalue(A,k):\n",
        "  x = np.ones(A.shape[0])\n",
        "  for i in range(k):\n",
        "      x = np.dot(A, x)\n",
        "      lambda_1, x = normalize(x)  \n",
        "  return lambda_1, x\n",
        "\n",
        "def min_Eigenvalue(A,k,x):\n",
        "  for i in range(k):\n",
        "      x = np.dot(LA.inv(A), x)\n",
        "      lambda_1, x = normalize(x)  \n",
        "  return lambda_1, x\n",
        "  "
      ],
      "metadata": {
        "id": "AkvLltnA3xgF"
      },
      "execution_count": 24,
      "outputs": []
    },
    {
      "cell_type": "code",
      "source": [
        "A = symmetric_matrix_generator(5)\n",
        "A"
      ],
      "metadata": {
        "colab": {
          "base_uri": "https://localhost:8080/"
        },
        "id": "5CbsL9etAzOT",
        "outputId": "21db0750-3d48-40df-92cc-91c72a37ad05"
      },
      "execution_count": 25,
      "outputs": [
        {
          "output_type": "execute_result",
          "data": {
            "text/plain": [
              "array([[79. , 26. , 33. , 67. , 76.5],\n",
              "       [26. , 75. , 61.5, 11. , 37.5],\n",
              "       [33. , 61.5, 22. , 53. , 78. ],\n",
              "       [67. , 11. , 53. , 98. , 27.5],\n",
              "       [76.5, 37.5, 78. , 27.5,  0. ]])"
            ]
          },
          "metadata": {},
          "execution_count": 25
        }
      ]
    },
    {
      "cell_type": "code",
      "source": [
        "w, v = LA.eig(A)\n",
        "\n",
        "print('The eigenvalues are: \\n', w)\n",
        "print('\\n The corresponding eigenvector are: \\n', v)"
      ],
      "metadata": {
        "colab": {
          "base_uri": "https://localhost:8080/"
        },
        "id": "IHTspPNaA11c",
        "outputId": "0ce367e6-150e-4fd8-cb88-05c4e842cb18"
      },
      "execution_count": 26,
      "outputs": [
        {
          "output_type": "stream",
          "name": "stdout",
          "text": [
            "The eigenvalues are: \n",
            " [246.52310588 -83.47132288  84.94484402  32.86600491  -6.86263195]\n",
            "\n",
            " The corresponding eigenvector are: \n",
            " [[-0.52459293 -0.30920612  0.25739569  0.66128802 -0.35445655]\n",
            " [-0.35585866  0.09169539 -0.72368436 -0.24258006 -0.53140608]\n",
            " [-0.43310108 -0.58004413 -0.24926334 -0.18800837  0.61521777]\n",
            " [-0.4932801   0.16753363  0.57524873 -0.61400097 -0.14387125]\n",
            " [-0.40898051  0.72901634 -0.13032685  0.30250411  0.43906298]]\n"
          ]
        }
      ]
    },
    {
      "cell_type": "code",
      "source": [
        "Eigenvalue,Eigenvector = max_Eigenvalue(A,100)\n",
        "    \n",
        "print('Largest Eigenvalue:', Eigenvalue)\n",
        "print('Eigenvector of Largest Eigenvalue:', Eigenvector)"
      ],
      "metadata": {
        "colab": {
          "base_uri": "https://localhost:8080/"
        },
        "id": "rsPKnTns72VZ",
        "outputId": "ea2affb0-bd69-41eb-cc85-d6e81d8d699e"
      },
      "execution_count": 27,
      "outputs": [
        {
          "output_type": "stream",
          "name": "stdout",
          "text": [
            "Largest Eigenvalue: 246.5231058843797\n",
            "Eigenvector of Largest Eigenvalue: [1.         0.678352   0.82559458 0.94031024 0.77961499]\n"
          ]
        }
      ]
    },
    {
      "cell_type": "code",
      "source": [
        "Eigenvalue,Eigenvector = min_Eigenvalue(A,100,Eigenvector)\n",
        "    \n",
        "print('Smallest Eigenvalue:', Eigenvalue)\n",
        "print('Eigenvector of Smallest Eigenvalue:', Eigenvector)"
      ],
      "metadata": {
        "colab": {
          "base_uri": "https://localhost:8080/"
        },
        "id": "hiHFGNKP75no",
        "outputId": "1a59ecaf-7bdf-4186-be29-a760c77c0301"
      },
      "execution_count": 28,
      "outputs": [
        {
          "output_type": "stream",
          "name": "stdout",
          "text": [
            "Smallest Eigenvalue: 0.16869866403989303\n",
            "Eigenvector of Smallest Eigenvalue: [-0.57614811 -0.86376907  1.         -0.23385418  0.71367083]\n"
          ]
        }
      ]
    },
    {
      "cell_type": "code",
      "source": [
        "q, r = LA.qr(A)\n",
        "\n",
        "print('Q:', q)\n",
        "print()\n",
        "print('R:', r)\n",
        "\n",
        "print()\n",
        "b = np.dot(q, r)\n",
        "print('QR:', b)"
      ],
      "metadata": {
        "colab": {
          "base_uri": "https://localhost:8080/"
        },
        "id": "OvvWkXul31M7",
        "outputId": "fbc31f01-4215-412c-c143-80ed635b995c"
      },
      "execution_count": 29,
      "outputs": [
        {
          "output_type": "stream",
          "name": "stdout",
          "text": [
            "Q: [[-0.58323235  0.19163409 -0.54790939  0.28878882 -0.48940037]\n",
            " [-0.19194989 -0.75813885  0.37002218 -0.03075369 -0.50051825]\n",
            " [-0.2436287  -0.54583026 -0.54172797 -0.25076944  0.53512604]\n",
            " [-0.49464009  0.29910634  0.24973914 -0.77623021 -0.03104196]\n",
            " [-0.56477563  0.03326523  0.45501654  0.50023653  0.47185302]]\n",
            "\n",
            "R: [[-135.45202103  -71.16357458 -106.67984051 -118.10639575  -84.42103642]\n",
            " [   0.          -80.90887253  -33.86255584    5.79816882  -48.11953445]\n",
            " [   0.            0.           41.48480373  -24.36387678  -63.42619192]\n",
            " [   0.            0.            0.          -56.5942756   -19.96726544]\n",
            " [   0.            0.            0.            0.          -15.32238569]]\n",
            "\n",
            "QR: [[7.9000000e+01 2.6000000e+01 3.3000000e+01 6.7000000e+01 7.6500000e+01]\n",
            " [2.6000000e+01 7.5000000e+01 6.1500000e+01 1.1000000e+01 3.7500000e+01]\n",
            " [3.3000000e+01 6.1500000e+01 2.2000000e+01 5.3000000e+01 7.8000000e+01]\n",
            " [6.7000000e+01 1.1000000e+01 5.3000000e+01 9.8000000e+01 2.7500000e+01]\n",
            " [7.6500000e+01 3.7500000e+01 7.8000000e+01 2.7500000e+01 8.2529781e-15]]\n"
          ]
        }
      ]
    },
    {
      "cell_type": "code",
      "source": [
        "def QR_Eigenvalue(A,p):\n",
        "  for i in range(p[-1]):\n",
        "      q, r = LA.qr(A)\n",
        "      A = np.dot(r, q)\n",
        "      if i+1 in p:\n",
        "          print(f'Iteration {i+1}:')\n",
        "          print(A.diagonal())\n",
        "\n",
        "p = [1]\n",
        "p += list(range(5,30,5))\n",
        "QR_Eigenvalue(A,p)"
      ],
      "metadata": {
        "colab": {
          "base_uri": "https://localhost:8080/"
        },
        "id": "IC2QS7lK38I7",
        "outputId": "313e8bd7-1b2d-4fff-ef13-e87c95a54911"
      },
      "execution_count": 30,
      "outputs": [
        {
          "output_type": "stream",
          "name": "stdout",
          "text": [
            "Iteration 1:\n",
            "[224.7492131   79.95692915 -57.41805892  33.94183067  -7.229914  ]\n",
            "Iteration 5:\n",
            "[246.51991688  70.39947146 -68.92045915  32.86369979  -6.86262898]\n",
            "Iteration 10:\n",
            "[246.52310582  72.56229001 -71.08876853  32.86600465  -6.86263195]\n",
            "Iteration 15:\n",
            "[246.52310588  74.42596488 -72.95244373  32.86600491  -6.86263195]\n",
            "Iteration 20:\n",
            "[246.52310588  76.02517619 -74.55165505  32.86600491  -6.86263195]\n",
            "Iteration 25:\n",
            "[246.52310588  77.39288403 -75.91936289  32.86600491  -6.86263195]\n"
          ]
        }
      ]
    },
    {
      "cell_type": "code",
      "source": [
        "def lanczos(A,v=None,k=None):\n",
        "\n",
        "  if k == None:\n",
        "    k=len(A) \n",
        "  V = [] \n",
        "  T = np.zeros((k, k))\n",
        "  if v == None:\n",
        "    v = np.random.rand(len(A), 1) \n",
        "  elif v != None and v.shape != (len(A), 1):\n",
        "    v  = v.reshape(len(A), 1)\n",
        "  v_norm = np. linalg.norm(v, 2) \n",
        "  if v_norm != 1:\n",
        "    v = v / v_norm \n",
        "  V.append(v)\n",
        "\n",
        "  w_prime = np.matmul(A, v) \n",
        "  a = np.matmul(np.transpose(w_prime), v)\n",
        "  w = w_prime - a*v \n",
        "  T[0][0] = a\n",
        "\n",
        "  for i in range(1, k):\n",
        "    b = np.linalg.norm(w)\n",
        "    if b != 0:\n",
        "      v = w / b\n",
        "      V.append(v)\n",
        "    else:\n",
        "      z = np.zeros(O.shape[1] + 1)\n",
        "      z[-1] = 1\n",
        "      v = np.linalg.lstsa(np.hstack((np.array(V), np.random.rand(len(A), 1))), z)[0]\n",
        "      V.append()\n",
        "    w_prime = np.matmul(A, v)\n",
        "    a = np.matmul(np.transpose(w_prime), v)\n",
        "    W = w_prime - a*v - b*V[i-1] \n",
        "    T[i][i-1]= b \n",
        "    T[i-1][i] = b \n",
        "    T[i][i] = a\n",
        "  return LA.eig(T)[0]\n"
      ],
      "metadata": {
        "id": "yFeox4au24I2"
      },
      "execution_count": 31,
      "outputs": []
    },
    {
      "cell_type": "code",
      "source": [
        "print('The eigenvalues are: \\n', lanczos(A))"
      ],
      "metadata": {
        "colab": {
          "base_uri": "https://localhost:8080/"
        },
        "id": "9Uzr1Pmk28dG",
        "outputId": "f095971a-8372-45a3-d638-9af38976943d"
      },
      "execution_count": 34,
      "outputs": [
        {
          "output_type": "stream",
          "name": "stdout",
          "text": [
            "The eigenvalues are: \n",
            " [-112.72009402  -23.24763604  265.63322948   93.93636802  201.62684798]\n"
          ]
        }
      ]
    },
    {
      "cell_type": "code",
      "source": [
        "def QR_Eigenvalue(A,p):\n",
        "  for i in range(p[-1]):\n",
        "      q, r = LA.qr(A)\n",
        "      A = np.dot(r, q)\n",
        "  return A.diagonal()\n",
        "\n",
        "p = [1]\n",
        "p += list(range(5,30,5))\n"
      ],
      "metadata": {
        "id": "MxFZAXjoPmMp"
      },
      "execution_count": 12,
      "outputs": []
    },
    {
      "cell_type": "code",
      "source": [
        "A = symmetric_matrix_generator(100)\n",
        "\n",
        "start_time = time.time()\n",
        "LA.eig(A)\n",
        "print('Numpy built-in function runtime on 100*100 matrix:',round((time.time() - start_time),2),'s')\n",
        "\n",
        "start_time = time.time()\n",
        "max_Eigenvalue(A,25)\n",
        "print('Power Method runtime on 100*100 matrix:',round((time.time() - start_time),2),'s')\n",
        "\n",
        "start_time = time.time()\n",
        "QR_Eigenvalue(A,p)\n",
        "print('QR algortithm runtime on 100*100 matrix:',round((time.time() - start_time),2),'s')\n",
        "\n",
        "start_time = time.time()\n",
        "lanczos(A)\n",
        "print('lanczos algortithm runtime on 100*100 matrix:',round((time.time() - start_time),2),'s')\n",
        "\n"
      ],
      "metadata": {
        "colab": {
          "base_uri": "https://localhost:8080/"
        },
        "id": "vN5xXEI9OudB",
        "outputId": "b7968d21-0dbf-4760-dfec-8295e1f513a5"
      },
      "execution_count": 13,
      "outputs": [
        {
          "output_type": "stream",
          "name": "stdout",
          "text": [
            "Numpy built-in function runtime on 100*100 matrix: 0.02 s\n",
            "Power Method runtime on 100*100 matrix: 0.0 s\n",
            "QR algortithm runtime on 100*100 matrix: 0.04 s\n",
            "lanczos algortithm runtime on 100*100 matrix: 0.02 s\n"
          ]
        }
      ]
    },
    {
      "cell_type": "code",
      "source": [
        "A = symmetric_matrix_generator(500)\n",
        "\n",
        "start_time = time.time()\n",
        "LA.eig(A)\n",
        "print('Numpy built-in function runtime on 500*500 matrix:',round((time.time() - start_time),2),'s')\n",
        "\n",
        "start_time = time.time()\n",
        "max_Eigenvalue(A,25)\n",
        "print('Power Method runtime on 500*500 matrix:',round((time.time() - start_time),2),'s')\n",
        "\n",
        "start_time = time.time()\n",
        "QR_Eigenvalue(A,p)\n",
        "print('QR algortithm runtime on 500*500 matrix:',round((time.time() - start_time),2),'s')\n",
        "\n",
        "start_time = time.time()\n",
        "lanczos(A)\n",
        "print('lanczos algortithm runtime on 500*500 matrix:',round((time.time() - start_time),2),'s')\n",
        "\n"
      ],
      "metadata": {
        "colab": {
          "base_uri": "https://localhost:8080/"
        },
        "id": "MSwKnrbDQQH0",
        "outputId": "6ef8046c-5cd3-4f92-edfc-82e8214f9684"
      },
      "execution_count": 14,
      "outputs": [
        {
          "output_type": "stream",
          "name": "stdout",
          "text": [
            "Numpy built-in function runtime on 500*500 matrix: 0.38 s\n",
            "Power Method runtime on 500*500 matrix: 0.0 s\n",
            "QR algortithm runtime on 500*500 matrix: 1.2 s\n",
            "lanczos algortithm runtime on 500*500 matrix: 0.66 s\n"
          ]
        }
      ]
    },
    {
      "cell_type": "code",
      "source": [
        "A = symmetric_matrix_generator(1000)\n",
        "\n",
        "start_time = time.time()\n",
        "LA.eig(A)\n",
        "print('Numpy built-in function runtime on 1000*1000 matrix:',round((time.time() - start_time),2),'s')\n",
        "\n",
        "start_time = time.time()\n",
        "max_Eigenvalue(A,25)\n",
        "print('Power Method runtime on 1000*1000 matrix:',round((time.time() - start_time),2),'s')\n",
        "\n",
        "start_time = time.time()\n",
        "QR_Eigenvalue(A,p)\n",
        "print('QR algortithm runtime on 1000*1000 matrix:',round((time.time() - start_time),2),'s')\n",
        "\n",
        "start_time = time.time()\n",
        "lanczos(A)\n",
        "print('lanczos algortithm runtime on 1000*1000 matrix:',round((time.time() - start_time),2),'s')\n",
        "\n"
      ],
      "metadata": {
        "colab": {
          "base_uri": "https://localhost:8080/"
        },
        "id": "GgUIhcTTQxJa",
        "outputId": "794208e5-0d1b-48ee-f3ba-11e8006b03ad"
      },
      "execution_count": 15,
      "outputs": [
        {
          "output_type": "stream",
          "name": "stdout",
          "text": [
            "Numpy built-in function runtime on 1000*1000 matrix: 1.93 s\n",
            "Power Method runtime on 1000*1000 matrix: 0.02 s\n",
            "QR algortithm runtime on 1000*1000 matrix: 6.82 s\n",
            "lanczos algortithm runtime on 1000*1000 matrix: 2.86 s\n"
          ]
        }
      ]
    },
    {
      "cell_type": "code",
      "source": [
        "A = symmetric_matrix_generator(2500)\n",
        "\n",
        "start_time = time.time()\n",
        "LA.eig(A)\n",
        "print('Numpy built-in function runtime on 2500*2500 matrix:',round((time.time() - start_time),2),'s')\n",
        "\n",
        "start_time = time.time()\n",
        "max_Eigenvalue(A,25)\n",
        "print('Power Method runtime on 2500*2500 matrix:',round((time.time() - start_time),2),'s')\n",
        "\n",
        "start_time = time.time()\n",
        "QR_Eigenvalue(A,p)\n",
        "print('QR algortithm runtime on 2500*2500 matrix:',round((time.time() - start_time),2),'s')\n",
        "\n",
        "start_time = time.time()\n",
        "lanczos(A)\n",
        "print('lanczos algortithm runtime on 2500*2500 matrix:',round((time.time() - start_time),2),'s')\n",
        "\n"
      ],
      "metadata": {
        "colab": {
          "base_uri": "https://localhost:8080/"
        },
        "id": "1VCzCuHrRMZU",
        "outputId": "692fa5d2-5f33-4264-e8a6-92fcc784ccc5"
      },
      "execution_count": 16,
      "outputs": [
        {
          "output_type": "stream",
          "name": "stdout",
          "text": [
            "Numpy built-in function runtime on 2500*2500 matrix: 23.99 s\n",
            "Power Method runtime on 2500*2500 matrix: 0.13 s\n",
            "QR algortithm runtime on 2500*2500 matrix: 89.18 s\n",
            "lanczos algortithm runtime on 2500*2500 matrix: 40.85 s\n"
          ]
        }
      ]
    },
    {
      "cell_type": "code",
      "source": [
        "A = symmetric_matrix_generator(5000)\n",
        "\n",
        "start_time = time.time()\n",
        "LA.eig(A)\n",
        "print('Numpy built-in function runtime on 5000*5000 matrix:',round((time.time() - start_time),2),'s')\n",
        "\n",
        "start_time = time.time()\n",
        "max_Eigenvalue(A,25)\n",
        "print('Power Method runtime on 5000*5000 matrix:',round((time.time() - start_time),2),'s')\n",
        "\n",
        "start_time = time.time()\n",
        "QR_Eigenvalue(A,p)\n",
        "print('QR algortithm runtime on 5000*5000 matrix:',round((time.time() - start_time),2),'s')\n",
        "\n",
        "start_time = time.time()\n",
        "lanczos(A)\n",
        "print('lanczos algortithm runtime on 5000*5000 matrix:',round((time.time() - start_time),2),'s')\n",
        "\n"
      ],
      "metadata": {
        "colab": {
          "base_uri": "https://localhost:8080/"
        },
        "id": "sfNzVMebQ5gv",
        "outputId": "422b636a-86ae-4f01-9226-0b929d2cbf1c"
      },
      "execution_count": 17,
      "outputs": [
        {
          "output_type": "stream",
          "name": "stdout",
          "text": [
            "Numpy built-in function runtime on 5000*5000 matrix: 151.58 s\n",
            "Power Method runtime on 5000*5000 matrix: 0.52 s\n",
            "QR algortithm runtime on 5000*5000 matrix: 649.87 s\n",
            "lanczos algortithm runtime on 5000*5000 matrix: 296.44 s\n"
          ]
        }
      ]
    },
    {
      "cell_type": "code",
      "source": [
        "A = symmetric_matrix_generator(10000)\n",
        "\n",
        "start_time = time.time()\n",
        "LA.eig(A)\n",
        "print('Numpy built-in function runtime on 10000*10000 matrix:',round((time.time() - start_time),2),'s')\n",
        "\n",
        "start_time = time.time()\n",
        "max_Eigenvalue(A,25)\n",
        "print('Power Method runtime on 10000*10000 matrix:',round((time.time() - start_time),2),'s')\n",
        "\n",
        "start_time = time.time()\n",
        "lanczos(A)\n",
        "print('lanczos algortithm runtime on 10000*10000 matrix:',round((time.time() - start_time),2),'s')\n",
        "\n"
      ],
      "metadata": {
        "colab": {
          "base_uri": "https://localhost:8080/"
        },
        "id": "SenqWnViRGHb",
        "outputId": "f2ac749a-d7eb-4342-ad86-90895e30195c"
      },
      "execution_count": 18,
      "outputs": [
        {
          "output_type": "stream",
          "name": "stdout",
          "text": [
            "Numpy built-in function runtime on 10000*10000 matrix: 1113.4 s\n",
            "Power Method runtime on 10000*10000 matrix: 1.91 s\n",
            "lanczos algortithm runtime on 10000*10000 matrix: 2167.3 s\n"
          ]
        }
      ]
    },
    {
      "cell_type": "code",
      "source": [
        "import pandas as pd\n",
        "conclusion = pd.DataFrame([['100 * 100',0.02 ,0,0.04,0.02],\n",
        "              ['500 * 500',0.38 ,0,1.2,0.66],\n",
        "              ['1000 * 1000',1.93 ,0.02,6.82,2.86],\n",
        "              ['2500 * 2500',23.99 ,0.13,89.18,40.85],\n",
        "              ['5000 * 5000',151.58 ,0.52,649.87,296.44],\n",
        "              ['10000 * 10000',1113.4,1.91,'runtime error',2167.3]],\n",
        "              columns=['Dimension of Matrix',\"Numpy Built-in Function\",\"Power Method\",\"QR Algortithm\",\"lanczos Algortithm\"])\n",
        "conclusion\n",
        "\n"
      ],
      "metadata": {
        "colab": {
          "base_uri": "https://localhost:8080/",
          "height": 238
        },
        "id": "304e0uBGW-_1",
        "outputId": "25b06d08-3ccb-499d-a773-7db570f0c863"
      },
      "execution_count": 21,
      "outputs": [
        {
          "output_type": "execute_result",
          "data": {
            "text/plain": [
              "  Dimension of Matrix  Numpy Built-in Function  Power Method  QR Algortithm  \\\n",
              "0           100 * 100                     0.02          0.00           0.04   \n",
              "1           500 * 500                     0.38          0.00            1.2   \n",
              "2         1000 * 1000                     1.93          0.02           6.82   \n",
              "3         2500 * 2500                    23.99          0.13          89.18   \n",
              "4         5000 * 5000                   151.58          0.52         649.87   \n",
              "5       10000 * 10000                  1113.40          1.91  runtime error   \n",
              "\n",
              "   lanczos Algortithm  \n",
              "0                0.02  \n",
              "1                0.66  \n",
              "2                2.86  \n",
              "3               40.85  \n",
              "4              296.44  \n",
              "5             2167.30  "
            ],
            "text/html": [
              "\n",
              "  <div id=\"df-2d82dbc6-75ca-4dbf-a621-c41072d61bdb\">\n",
              "    <div class=\"colab-df-container\">\n",
              "      <div>\n",
              "<style scoped>\n",
              "    .dataframe tbody tr th:only-of-type {\n",
              "        vertical-align: middle;\n",
              "    }\n",
              "\n",
              "    .dataframe tbody tr th {\n",
              "        vertical-align: top;\n",
              "    }\n",
              "\n",
              "    .dataframe thead th {\n",
              "        text-align: right;\n",
              "    }\n",
              "</style>\n",
              "<table border=\"1\" class=\"dataframe\">\n",
              "  <thead>\n",
              "    <tr style=\"text-align: right;\">\n",
              "      <th></th>\n",
              "      <th>Dimension of Matrix</th>\n",
              "      <th>Numpy Built-in Function</th>\n",
              "      <th>Power Method</th>\n",
              "      <th>QR Algortithm</th>\n",
              "      <th>lanczos Algortithm</th>\n",
              "    </tr>\n",
              "  </thead>\n",
              "  <tbody>\n",
              "    <tr>\n",
              "      <th>0</th>\n",
              "      <td>100 * 100</td>\n",
              "      <td>0.02</td>\n",
              "      <td>0.00</td>\n",
              "      <td>0.04</td>\n",
              "      <td>0.02</td>\n",
              "    </tr>\n",
              "    <tr>\n",
              "      <th>1</th>\n",
              "      <td>500 * 500</td>\n",
              "      <td>0.38</td>\n",
              "      <td>0.00</td>\n",
              "      <td>1.2</td>\n",
              "      <td>0.66</td>\n",
              "    </tr>\n",
              "    <tr>\n",
              "      <th>2</th>\n",
              "      <td>1000 * 1000</td>\n",
              "      <td>1.93</td>\n",
              "      <td>0.02</td>\n",
              "      <td>6.82</td>\n",
              "      <td>2.86</td>\n",
              "    </tr>\n",
              "    <tr>\n",
              "      <th>3</th>\n",
              "      <td>2500 * 2500</td>\n",
              "      <td>23.99</td>\n",
              "      <td>0.13</td>\n",
              "      <td>89.18</td>\n",
              "      <td>40.85</td>\n",
              "    </tr>\n",
              "    <tr>\n",
              "      <th>4</th>\n",
              "      <td>5000 * 5000</td>\n",
              "      <td>151.58</td>\n",
              "      <td>0.52</td>\n",
              "      <td>649.87</td>\n",
              "      <td>296.44</td>\n",
              "    </tr>\n",
              "    <tr>\n",
              "      <th>5</th>\n",
              "      <td>10000 * 10000</td>\n",
              "      <td>1113.40</td>\n",
              "      <td>1.91</td>\n",
              "      <td>runtime error</td>\n",
              "      <td>2167.30</td>\n",
              "    </tr>\n",
              "  </tbody>\n",
              "</table>\n",
              "</div>\n",
              "      <button class=\"colab-df-convert\" onclick=\"convertToInteractive('df-2d82dbc6-75ca-4dbf-a621-c41072d61bdb')\"\n",
              "              title=\"Convert this dataframe to an interactive table.\"\n",
              "              style=\"display:none;\">\n",
              "        \n",
              "  <svg xmlns=\"http://www.w3.org/2000/svg\" height=\"24px\"viewBox=\"0 0 24 24\"\n",
              "       width=\"24px\">\n",
              "    <path d=\"M0 0h24v24H0V0z\" fill=\"none\"/>\n",
              "    <path d=\"M18.56 5.44l.94 2.06.94-2.06 2.06-.94-2.06-.94-.94-2.06-.94 2.06-2.06.94zm-11 1L8.5 8.5l.94-2.06 2.06-.94-2.06-.94L8.5 2.5l-.94 2.06-2.06.94zm10 10l.94 2.06.94-2.06 2.06-.94-2.06-.94-.94-2.06-.94 2.06-2.06.94z\"/><path d=\"M17.41 7.96l-1.37-1.37c-.4-.4-.92-.59-1.43-.59-.52 0-1.04.2-1.43.59L10.3 9.45l-7.72 7.72c-.78.78-.78 2.05 0 2.83L4 21.41c.39.39.9.59 1.41.59.51 0 1.02-.2 1.41-.59l7.78-7.78 2.81-2.81c.8-.78.8-2.07 0-2.86zM5.41 20L4 18.59l7.72-7.72 1.47 1.35L5.41 20z\"/>\n",
              "  </svg>\n",
              "      </button>\n",
              "      \n",
              "  <style>\n",
              "    .colab-df-container {\n",
              "      display:flex;\n",
              "      flex-wrap:wrap;\n",
              "      gap: 12px;\n",
              "    }\n",
              "\n",
              "    .colab-df-convert {\n",
              "      background-color: #E8F0FE;\n",
              "      border: none;\n",
              "      border-radius: 50%;\n",
              "      cursor: pointer;\n",
              "      display: none;\n",
              "      fill: #1967D2;\n",
              "      height: 32px;\n",
              "      padding: 0 0 0 0;\n",
              "      width: 32px;\n",
              "    }\n",
              "\n",
              "    .colab-df-convert:hover {\n",
              "      background-color: #E2EBFA;\n",
              "      box-shadow: 0px 1px 2px rgba(60, 64, 67, 0.3), 0px 1px 3px 1px rgba(60, 64, 67, 0.15);\n",
              "      fill: #174EA6;\n",
              "    }\n",
              "\n",
              "    [theme=dark] .colab-df-convert {\n",
              "      background-color: #3B4455;\n",
              "      fill: #D2E3FC;\n",
              "    }\n",
              "\n",
              "    [theme=dark] .colab-df-convert:hover {\n",
              "      background-color: #434B5C;\n",
              "      box-shadow: 0px 1px 3px 1px rgba(0, 0, 0, 0.15);\n",
              "      filter: drop-shadow(0px 1px 2px rgba(0, 0, 0, 0.3));\n",
              "      fill: #FFFFFF;\n",
              "    }\n",
              "  </style>\n",
              "\n",
              "      <script>\n",
              "        const buttonEl =\n",
              "          document.querySelector('#df-2d82dbc6-75ca-4dbf-a621-c41072d61bdb button.colab-df-convert');\n",
              "        buttonEl.style.display =\n",
              "          google.colab.kernel.accessAllowed ? 'block' : 'none';\n",
              "\n",
              "        async function convertToInteractive(key) {\n",
              "          const element = document.querySelector('#df-2d82dbc6-75ca-4dbf-a621-c41072d61bdb');\n",
              "          const dataTable =\n",
              "            await google.colab.kernel.invokeFunction('convertToInteractive',\n",
              "                                                     [key], {});\n",
              "          if (!dataTable) return;\n",
              "\n",
              "          const docLinkHtml = 'Like what you see? Visit the ' +\n",
              "            '<a target=\"_blank\" href=https://colab.research.google.com/notebooks/data_table.ipynb>data table notebook</a>'\n",
              "            + ' to learn more about interactive tables.';\n",
              "          element.innerHTML = '';\n",
              "          dataTable['output_type'] = 'display_data';\n",
              "          await google.colab.output.renderOutput(dataTable, element);\n",
              "          const docLink = document.createElement('div');\n",
              "          docLink.innerHTML = docLinkHtml;\n",
              "          element.appendChild(docLink);\n",
              "        }\n",
              "      </script>\n",
              "    </div>\n",
              "  </div>\n",
              "  "
            ]
          },
          "metadata": {},
          "execution_count": 21
        }
      ]
    }
  ]
}