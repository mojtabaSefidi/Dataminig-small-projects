{
  "nbformat": 4,
  "nbformat_minor": 0,
  "metadata": {
    "colab": {
      "name": "Computational_datamining_Ex6.ipynb",
      "provenance": [],
      "authorship_tag": "ABX9TyMapCPNhD8hnNC6u5Mk0kE/",
      "include_colab_link": true
    },
    "kernelspec": {
      "name": "python3",
      "display_name": "Python 3"
    },
    "language_info": {
      "name": "python"
    }
  },
  "cells": [
    {
      "cell_type": "markdown",
      "metadata": {
        "id": "view-in-github",
        "colab_type": "text"
      },
      "source": [
        "<a href=\"https://colab.research.google.com/github/mojtabaSefidi/Dataminig-small-projects/blob/main/Computational_datamining_Ex6.ipynb\" target=\"_parent\"><img src=\"https://colab.research.google.com/assets/colab-badge.svg\" alt=\"Open In Colab\"/></a>"
      ]
    },
    {
      "cell_type": "code",
      "execution_count": 44,
      "metadata": {
        "id": "6YgT8Nc7x41N",
        "colab": {
          "base_uri": "https://localhost:8080/"
        },
        "outputId": "d7b0fee7-44ca-444a-8f01-05e0e51fc335"
      },
      "outputs": [
        {
          "output_type": "stream",
          "name": "stdout",
          "text": [
            "Requirement already satisfied: tensorly in /usr/local/lib/python3.7/dist-packages (0.7.0)\n",
            "Requirement already satisfied: scipy in /usr/local/lib/python3.7/dist-packages (from tensorly) (1.4.1)\n",
            "Requirement already satisfied: nose in /usr/local/lib/python3.7/dist-packages (from tensorly) (1.3.7)\n",
            "Requirement already satisfied: numpy in /usr/local/lib/python3.7/dist-packages (from tensorly) (1.21.6)\n"
          ]
        }
      ],
      "source": [
        "!pip install tensorly\n",
        "import numpy as np\n",
        "import tensorly as tl\n",
        "from tensorly.decomposition import parafac\n",
        "from tensorly.decomposition import tucker\n",
        "from tensorly.decomposition import matrix_product_state\n",
        "from tensorly import tt_to_tensor\n"
      ]
    },
    {
      "cell_type": "code",
      "source": [
        "T = np.array([\n",
        "  [[1,2,3],    [4,5,6],    [7,8,9]],\n",
        "  [[11,12,13], [14,15,16], [17,18,19]],\n",
        "  [[21,22,23], [24,25,26], [27,28,29]],\n",
        "  ])\n",
        "\n",
        "print('T is:\\n', T)\n",
        "print('shape of This tensor:' ,T.shape)"
      ],
      "metadata": {
        "colab": {
          "base_uri": "https://localhost:8080/"
        },
        "id": "TBucNBj7jiP_",
        "outputId": "9905ec34-0572-4a2a-bd2c-e1a87b5cb13b"
      },
      "execution_count": 45,
      "outputs": [
        {
          "output_type": "stream",
          "name": "stdout",
          "text": [
            "T is:\n",
            " [[[ 1  2  3]\n",
            "  [ 4  5  6]\n",
            "  [ 7  8  9]]\n",
            "\n",
            " [[11 12 13]\n",
            "  [14 15 16]\n",
            "  [17 18 19]]\n",
            "\n",
            " [[21 22 23]\n",
            "  [24 25 26]\n",
            "  [27 28 29]]]\n",
            "shape of This tensor: (3, 3, 3)\n"
          ]
        }
      ]
    },
    {
      "cell_type": "code",
      "source": [
        "A = np.array([\n",
        "  [[1,2,3],    [4,5,6],    [7,8,9]],\n",
        "  [[11,12,13], [14,15,16], [17,18,19]],\n",
        "  [[21,22,23], [24,25,26], [27,28,29]],\n",
        "  ])\n",
        "B = np.array([\n",
        "  [[1,2,3],    [4,5,6],    [7,8,9]],\n",
        "  [[11,12,13], [14,15,16], [17,18,19]],\n",
        "  [[21,22,23], [24,25,26], [27,28,29]],\n",
        "  ])\n",
        "\n",
        "C = A + B\n",
        "print('A + B = C:\\n', C)\n"
      ],
      "metadata": {
        "colab": {
          "base_uri": "https://localhost:8080/"
        },
        "id": "nWqr7-O8juV_",
        "outputId": "56cbb561-78d2-4f82-9a64-afee044bfe03"
      },
      "execution_count": 46,
      "outputs": [
        {
          "output_type": "stream",
          "name": "stdout",
          "text": [
            "A + B = C:\n",
            " [[[ 2  4  6]\n",
            "  [ 8 10 12]\n",
            "  [14 16 18]]\n",
            "\n",
            " [[22 24 26]\n",
            "  [28 30 32]\n",
            "  [34 36 38]]\n",
            "\n",
            " [[42 44 46]\n",
            "  [48 50 52]\n",
            "  [54 56 58]]]\n"
          ]
        }
      ]
    },
    {
      "cell_type": "code",
      "source": [
        "A = np.array([\n",
        "  [[1,2,3],    [4,5,6],    [7,8,9]],\n",
        "  [[11,12,13], [14,15,16], [17,18,19]],\n",
        "  [[21,22,23], [24,25,26], [27,28,29]],\n",
        "  ])\n",
        "B = np.array([\n",
        "  [[1,2,3],    [4,5,6],    [7,8,9]],\n",
        "  [[11,12,13], [14,15,16], [17,18,19]],\n",
        "  [[21,22,23], [24,25,26], [27,28,29]],\n",
        "  ])\n",
        "C = A - B\n",
        "print('A - B = C:\\n', C)"
      ],
      "metadata": {
        "colab": {
          "base_uri": "https://localhost:8080/"
        },
        "id": "dNv7HV6Pkn8E",
        "outputId": "2fdbfae0-7592-47ea-fe98-6f3619710692"
      },
      "execution_count": 47,
      "outputs": [
        {
          "output_type": "stream",
          "name": "stdout",
          "text": [
            "A - B = C:\n",
            " [[[0 0 0]\n",
            "  [0 0 0]\n",
            "  [0 0 0]]\n",
            "\n",
            " [[0 0 0]\n",
            "  [0 0 0]\n",
            "  [0 0 0]]\n",
            "\n",
            " [[0 0 0]\n",
            "  [0 0 0]\n",
            "  [0 0 0]]]\n"
          ]
        }
      ]
    },
    {
      "cell_type": "code",
      "source": [
        "A = np.array([\n",
        "  [[1,2,3],    [4,5,6],    [7,8,9]],\n",
        "  [[11,12,13], [14,15,16], [17,18,19]],\n",
        "  [[21,22,23], [24,25,26], [27,28,29]],\n",
        "  ])\n",
        "B = np.array([\n",
        "  [[1,2,3],    [4,5,6],    [7,8,9]],\n",
        "  [[11,12,13], [14,15,16], [17,18,19]],\n",
        "  [[21,22,23], [24,25,26], [27,28,29]],\n",
        "  ])\n",
        "\n",
        "C = A * B\n",
        "print('A * B = C:\\n', C)"
      ],
      "metadata": {
        "colab": {
          "base_uri": "https://localhost:8080/"
        },
        "id": "XBmnin9wlAWS",
        "outputId": "59513e49-5f20-4851-b969-0fe5e3b813fe"
      },
      "execution_count": 48,
      "outputs": [
        {
          "output_type": "stream",
          "name": "stdout",
          "text": [
            "A * B = C:\n",
            " [[[  1   4   9]\n",
            "  [ 16  25  36]\n",
            "  [ 49  64  81]]\n",
            "\n",
            " [[121 144 169]\n",
            "  [196 225 256]\n",
            "  [289 324 361]]\n",
            "\n",
            " [[441 484 529]\n",
            "  [576 625 676]\n",
            "  [729 784 841]]]\n"
          ]
        }
      ]
    },
    {
      "cell_type": "code",
      "source": [
        "A = np.array([\n",
        "  [[1,2,3],    [4,5,6],    [7,8,9]],\n",
        "  [[11,12,13], [14,15,16], [17,18,19]],\n",
        "  [[21,22,23], [24,25,26], [27,28,29]],\n",
        "  ])\n",
        "B = np.array([\n",
        "  [[1,2,3],    [4,5,6],    [7,8,9]],\n",
        "  [[11,12,13], [14,15,16], [17,18,19]],\n",
        "  [[21,22,23], [24,25,26], [27,28,29]],\n",
        "  ])\n",
        "C = A / B / 2\n",
        "print('A / B / 2 = C:\\n', C)"
      ],
      "metadata": {
        "colab": {
          "base_uri": "https://localhost:8080/"
        },
        "id": "T4-raDZhh6kc",
        "outputId": "326687f3-9772-48ea-9f44-94965af0365c"
      },
      "execution_count": 49,
      "outputs": [
        {
          "output_type": "stream",
          "name": "stdout",
          "text": [
            "A / B / 2 = C:\n",
            " [[[0.5 0.5 0.5]\n",
            "  [0.5 0.5 0.5]\n",
            "  [0.5 0.5 0.5]]\n",
            "\n",
            " [[0.5 0.5 0.5]\n",
            "  [0.5 0.5 0.5]\n",
            "  [0.5 0.5 0.5]]\n",
            "\n",
            " [[0.5 0.5 0.5]\n",
            "  [0.5 0.5 0.5]\n",
            "  [0.5 0.5 0.5]]]\n"
          ]
        }
      ]
    },
    {
      "cell_type": "code",
      "source": [
        "A = np.array([1,2])\n",
        "B = np.array([3,4])\n",
        "C = np.tensordot(A, B, axes=0)\n",
        "print('A * B = C:\\n', C)"
      ],
      "metadata": {
        "colab": {
          "base_uri": "https://localhost:8080/"
        },
        "id": "Qnf6NdBziY1C",
        "outputId": "a9a3f94d-f960-4cdb-8adf-7a860fd2b936"
      },
      "execution_count": 50,
      "outputs": [
        {
          "output_type": "stream",
          "name": "stdout",
          "text": [
            "A * B = C:\n",
            " [[3 4]\n",
            " [6 8]]\n"
          ]
        }
      ]
    },
    {
      "cell_type": "code",
      "source": [
        "tensor = tl.tensor([[ 0.,  0.,  0.,  0.,  0.,  0.,  0.,  0.,  0.,  0.,  0.,  0.],\n",
        "                        [ 0.,  0.,  0.,  0.,  1.,  1.,  1.,  1.,  0.,  0.,  0.,  0.],\n",
        "                        [ 0.,  0.,  0.,  0.,  1.,  1.,  1.,  1.,  0.,  0.,  0.,  0.],\n",
        "                        [ 0.,  0.,  0.,  0.,  1.,  1.,  1.,  1.,  0.,  0.,  0.,  0.],\n",
        "                        [ 0.,  1.,  1.,  1.,  1.,  1.,  1.,  1.,  1.,  1.,  1.,  0.],\n",
        "                        [ 0.,  1.,  1.,  1.,  1.,  1.,  1.,  1.,  1.,  1.,  1.,  0.],\n",
        "                        [ 0.,  1.,  1.,  1.,  1.,  1.,  1.,  1.,  1.,  1.,  1.,  0.],\n",
        "                        [ 0.,  1.,  1.,  1.,  1.,  1.,  1.,  1.,  1.,  1.,  1.,  0.],\n",
        "                        [ 0.,  0.,  0.,  0.,  1.,  1.,  1.,  1.,  0.,  0.,  0.,  0.],\n",
        "                        [ 0.,  0.,  0.,  0.,  1.,  1.,  1.,  1.,  0.,  0.,  0.,  0.],\n",
        "                        [ 0.,  0.,  0.,  0.,  1.,  1.,  1.,  1.,  0.,  0.,  0.,  0.],\n",
        "                        [ 0.,  0.,  0.,  0.,  0.,  0.,  0.,  0.,  0.,  0.,  0.,  0.]])\n",
        "tensor"
      ],
      "metadata": {
        "id": "QBdi5gXtiBOr",
        "colab": {
          "base_uri": "https://localhost:8080/"
        },
        "outputId": "231a946b-008c-44cd-d0b1-88f54c5aeb44"
      },
      "execution_count": 51,
      "outputs": [
        {
          "output_type": "execute_result",
          "data": {
            "text/plain": [
              "array([[0., 0., 0., 0., 0., 0., 0., 0., 0., 0., 0., 0.],\n",
              "       [0., 0., 0., 0., 1., 1., 1., 1., 0., 0., 0., 0.],\n",
              "       [0., 0., 0., 0., 1., 1., 1., 1., 0., 0., 0., 0.],\n",
              "       [0., 0., 0., 0., 1., 1., 1., 1., 0., 0., 0., 0.],\n",
              "       [0., 1., 1., 1., 1., 1., 1., 1., 1., 1., 1., 0.],\n",
              "       [0., 1., 1., 1., 1., 1., 1., 1., 1., 1., 1., 0.],\n",
              "       [0., 1., 1., 1., 1., 1., 1., 1., 1., 1., 1., 0.],\n",
              "       [0., 1., 1., 1., 1., 1., 1., 1., 1., 1., 1., 0.],\n",
              "       [0., 0., 0., 0., 1., 1., 1., 1., 0., 0., 0., 0.],\n",
              "       [0., 0., 0., 0., 1., 1., 1., 1., 0., 0., 0., 0.],\n",
              "       [0., 0., 0., 0., 1., 1., 1., 1., 0., 0., 0., 0.],\n",
              "       [0., 0., 0., 0., 0., 0., 0., 0., 0., 0., 0., 0.]])"
            ]
          },
          "metadata": {},
          "execution_count": 51
        }
      ]
    },
    {
      "cell_type": "code",
      "source": [
        "factors = parafac(tensor, rank=2)\n",
        "len(factors)\n",
        "factors"
      ],
      "metadata": {
        "colab": {
          "base_uri": "https://localhost:8080/"
        },
        "outputId": "08402841-3ec7-4654-c06f-99df83622a62",
        "id": "QfH0YB9jlXlm"
      },
      "execution_count": 52,
      "outputs": [
        {
          "output_type": "execute_result",
          "data": {
            "text/plain": [
              "(weights, factors) : rank-2 CPTensor of shape (12, 12) "
            ]
          },
          "metadata": {},
          "execution_count": 52
        }
      ]
    },
    {
      "cell_type": "code",
      "source": [
        "tl.cp_to_tensor(factors)"
      ],
      "metadata": {
        "colab": {
          "base_uri": "https://localhost:8080/"
        },
        "outputId": "d44efa57-c9b8-42cc-8c27-3966054fda9a",
        "id": "9r7AocqglXlw"
      },
      "execution_count": 53,
      "outputs": [
        {
          "output_type": "execute_result",
          "data": {
            "text/plain": [
              "array([[ 0.00000000e+00,  0.00000000e+00,  0.00000000e+00,\n",
              "         0.00000000e+00,  0.00000000e+00,  0.00000000e+00,\n",
              "         0.00000000e+00,  0.00000000e+00,  0.00000000e+00,\n",
              "         0.00000000e+00,  0.00000000e+00,  0.00000000e+00],\n",
              "       [ 0.00000000e+00, -3.79947183e-17, -3.79947183e-17,\n",
              "        -3.79947183e-17,  1.00000000e+00,  1.00000000e+00,\n",
              "         1.00000000e+00,  1.00000000e+00, -3.79947183e-17,\n",
              "        -3.79947183e-17, -3.79947183e-17,  0.00000000e+00],\n",
              "       [ 0.00000000e+00, -3.79947183e-17, -3.79947183e-17,\n",
              "        -3.79947183e-17,  1.00000000e+00,  1.00000000e+00,\n",
              "         1.00000000e+00,  1.00000000e+00, -3.79947183e-17,\n",
              "        -3.79947183e-17, -3.79947183e-17,  0.00000000e+00],\n",
              "       [ 0.00000000e+00, -3.79947183e-17, -3.79947183e-17,\n",
              "        -3.79947183e-17,  1.00000000e+00,  1.00000000e+00,\n",
              "         1.00000000e+00,  1.00000000e+00, -3.79947183e-17,\n",
              "        -3.79947183e-17, -3.79947183e-17,  0.00000000e+00],\n",
              "       [ 0.00000000e+00,  1.00000000e+00,  1.00000000e+00,\n",
              "         1.00000000e+00,  1.00000000e+00,  1.00000000e+00,\n",
              "         1.00000000e+00,  1.00000000e+00,  1.00000000e+00,\n",
              "         1.00000000e+00,  1.00000000e+00,  0.00000000e+00],\n",
              "       [ 0.00000000e+00,  1.00000000e+00,  1.00000000e+00,\n",
              "         1.00000000e+00,  1.00000000e+00,  1.00000000e+00,\n",
              "         1.00000000e+00,  1.00000000e+00,  1.00000000e+00,\n",
              "         1.00000000e+00,  1.00000000e+00,  0.00000000e+00],\n",
              "       [ 0.00000000e+00,  1.00000000e+00,  1.00000000e+00,\n",
              "         1.00000000e+00,  1.00000000e+00,  1.00000000e+00,\n",
              "         1.00000000e+00,  1.00000000e+00,  1.00000000e+00,\n",
              "         1.00000000e+00,  1.00000000e+00,  0.00000000e+00],\n",
              "       [ 0.00000000e+00,  1.00000000e+00,  1.00000000e+00,\n",
              "         1.00000000e+00,  1.00000000e+00,  1.00000000e+00,\n",
              "         1.00000000e+00,  1.00000000e+00,  1.00000000e+00,\n",
              "         1.00000000e+00,  1.00000000e+00,  0.00000000e+00],\n",
              "       [ 0.00000000e+00, -3.79947183e-17, -3.79947183e-17,\n",
              "        -3.79947183e-17,  1.00000000e+00,  1.00000000e+00,\n",
              "         1.00000000e+00,  1.00000000e+00, -3.79947183e-17,\n",
              "        -3.79947183e-17, -3.79947183e-17,  0.00000000e+00],\n",
              "       [ 0.00000000e+00, -3.79947183e-17, -3.79947183e-17,\n",
              "        -3.79947183e-17,  1.00000000e+00,  1.00000000e+00,\n",
              "         1.00000000e+00,  1.00000000e+00, -3.79947183e-17,\n",
              "        -3.79947183e-17, -3.79947183e-17,  0.00000000e+00],\n",
              "       [ 0.00000000e+00, -3.79947183e-17, -3.79947183e-17,\n",
              "        -3.79947183e-17,  1.00000000e+00,  1.00000000e+00,\n",
              "         1.00000000e+00,  1.00000000e+00, -3.79947183e-17,\n",
              "        -3.79947183e-17, -3.79947183e-17,  0.00000000e+00],\n",
              "       [ 0.00000000e+00,  0.00000000e+00,  0.00000000e+00,\n",
              "         0.00000000e+00,  0.00000000e+00,  0.00000000e+00,\n",
              "         0.00000000e+00,  0.00000000e+00,  0.00000000e+00,\n",
              "         0.00000000e+00,  0.00000000e+00,  0.00000000e+00]])"
            ]
          },
          "metadata": {},
          "execution_count": 53
        }
      ]
    },
    {
      "cell_type": "code",
      "source": [
        "core, factors = tucker(tensor, rank=[2, 3])\n",
        "print('core.shape:', core.shape)\n",
        "print('length of factors:', len(factors))\n",
        "[f.shape for f in factors]"
      ],
      "metadata": {
        "colab": {
          "base_uri": "https://localhost:8080/"
        },
        "outputId": "cae7072b-e9ec-4ac6-e37b-af0dc2715cc1",
        "id": "DFD16FmHlXs7"
      },
      "execution_count": 54,
      "outputs": [
        {
          "output_type": "stream",
          "name": "stdout",
          "text": [
            "core.shape: (2, 3)\n",
            "length of factors: 2\n"
          ]
        },
        {
          "output_type": "execute_result",
          "data": {
            "text/plain": [
              "[(12, 2), (12, 3)]"
            ]
          },
          "metadata": {},
          "execution_count": 54
        }
      ]
    },
    {
      "cell_type": "code",
      "source": [
        "factors = matrix_product_state(tensor, rank=[1,2,1])\n",
        "print('length of factors:', len(factors))\n",
        "[f.shape for f in factors]\n"
      ],
      "metadata": {
        "colab": {
          "base_uri": "https://localhost:8080/"
        },
        "id": "uG6EPyp3mYed",
        "outputId": "2fe57185-ad19-4962-854b-bc853c9066bd"
      },
      "execution_count": 55,
      "outputs": [
        {
          "output_type": "stream",
          "name": "stdout",
          "text": [
            "length of factors: 2\n"
          ]
        },
        {
          "output_type": "execute_result",
          "data": {
            "text/plain": [
              "[(1, 12, 2), (2, 12, 1)]"
            ]
          },
          "metadata": {},
          "execution_count": 55
        }
      ]
    },
    {
      "cell_type": "code",
      "source": [
        "print('Reconstruction:')\n",
        "print(np.round(tt_to_tensor(factors), decimals=10))"
      ],
      "metadata": {
        "colab": {
          "base_uri": "https://localhost:8080/"
        },
        "id": "4uA56S_an6bh",
        "outputId": "95ea3424-e207-4e2f-ced2-64284c8a5cf2"
      },
      "execution_count": 56,
      "outputs": [
        {
          "output_type": "stream",
          "name": "stdout",
          "text": [
            "Reconstruction:\n",
            "[[ 0.  0.  0.  0.  0.  0.  0.  0.  0.  0.  0.  0.]\n",
            " [ 0.  0.  0.  0.  1.  1.  1.  1.  0.  0.  0. -0.]\n",
            " [ 0.  0.  0.  0.  1.  1.  1.  1.  0.  0.  0. -0.]\n",
            " [ 0.  0.  0.  0.  1.  1.  1.  1.  0.  0.  0. -0.]\n",
            " [-0.  1.  1.  1.  1.  1.  1.  1.  1.  1.  1.  0.]\n",
            " [-0.  1.  1.  1.  1.  1.  1.  1.  1.  1.  1.  0.]\n",
            " [-0.  1.  1.  1.  1.  1.  1.  1.  1.  1.  1.  0.]\n",
            " [-0.  1.  1.  1.  1.  1.  1.  1.  1.  1.  1.  0.]\n",
            " [ 0.  0.  0.  0.  1.  1.  1.  1.  0.  0.  0. -0.]\n",
            " [ 0.  0.  0.  0.  1.  1.  1.  1.  0.  0.  0. -0.]\n",
            " [ 0.  0.  0.  0.  1.  1.  1.  1.  0.  0.  0. -0.]\n",
            " [ 0.  0.  0.  0.  0.  0.  0.  0.  0.  0.  0.  0.]]\n"
          ]
        }
      ]
    },
    {
      "cell_type": "code",
      "source": [
        ""
      ],
      "metadata": {
        "id": "Uk4VuNRfn_vp"
      },
      "execution_count": null,
      "outputs": []
    }
  ]
}