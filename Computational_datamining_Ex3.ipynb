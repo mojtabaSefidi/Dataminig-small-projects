{
  "cells": [
    {
      "cell_type": "markdown",
      "metadata": {
        "id": "view-in-github",
        "colab_type": "text"
      },
      "source": [
        "<a href=\"https://colab.research.google.com/github/mojtabaSefidi/Dataminig-small-projects/blob/main/Computational_datamining_Ex3.ipynb\" target=\"_parent\"><img src=\"https://colab.research.google.com/assets/colab-badge.svg\" alt=\"Open In Colab\"/></a>"
      ]
    },
    {
      "cell_type": "markdown",
      "metadata": {
        "id": "PCfVuDeDw5pk"
      },
      "source": [
        "# QR Decomposition Functions"
      ]
    },
    {
      "cell_type": "code",
      "execution_count": 20,
      "metadata": {
        "id": "7KvScg_4w5pq"
      },
      "outputs": [],
      "source": [
        "from math import copysign, hypot\n",
        "import numpy as np\n",
        "import time"
      ]
    },
    {
      "cell_type": "markdown",
      "metadata": {
        "id": "GLuH_NAww5ps"
      },
      "source": [
        "## Gram Schmidt"
      ]
    },
    {
      "cell_type": "code",
      "execution_count": 2,
      "metadata": {
        "id": "EVNg3UBEw5pt"
      },
      "outputs": [],
      "source": [
        "def gram_schmidt_process(A):\n",
        "    m, n = A.shape\n",
        "    Q = np.zeros((m, n))\n",
        "    R = np.zeros((n, n))\n",
        "\n",
        "    for j in range(n):\n",
        "        v = A[:, j]\n",
        "\n",
        "        for i in range(j - 1):\n",
        "            q = Q[:, i]\n",
        "            R[i, j] = q.dot(v)\n",
        "            v = v - R[i, j] * q\n",
        "\n",
        "        norm = np.linalg.norm(v)\n",
        "        Q[:, j] = v / norm\n",
        "        R[j, j] = norm\n",
        "    return Q, R"
      ]
    },
    {
      "cell_type": "markdown",
      "metadata": {
        "id": "np217jRLw5pu"
      },
      "source": [
        "## Gram Schmidt Test"
      ]
    },
    {
      "cell_type": "code",
      "execution_count": 3,
      "metadata": {
        "colab": {
          "base_uri": "https://localhost:8080/"
        },
        "id": "KXDz75Cvw5pv",
        "outputId": "6271310e-962a-48d0-bd2b-9cb3dcc94cc0"
      },
      "outputs": [
        {
          "output_type": "stream",
          "name": "stdout",
          "text": [
            "A is: \n",
            " [[ 12. -51.   4.]\n",
            " [  6. 167. -68.]\n",
            " [ -4.  24. -41.]]\n",
            "\n",
            " Q is: \n",
            " [[ 0.85714286 -0.28935268  0.2044405 ]\n",
            " [ 0.42857143  0.94748818 -0.79220694]\n",
            " [-0.28571429  0.13616597 -0.57498891]]\n",
            "\n",
            " R is: \n",
            " [[ 14.           0.         -14.        ]\n",
            " [  0.         176.25549637   0.        ]\n",
            " [  0.           0.          78.26237921]]\n"
          ]
        }
      ],
      "source": [
        "# Input matrix\n",
        "A = np.array([[12, -51, 4],\n",
        "             [6, 167, -68],\n",
        "             [-4, 24, -41]], dtype=np.float64)\n",
        "\n",
        "# Print input matrix\n",
        "print('A is: \\n', A)\n",
        "\n",
        "# Compute QR decomposition using Givens rotation\n",
        "(Q, R) = gram_schmidt_process(A)\n",
        "\n",
        "# Print orthogonal matrix Q\n",
        "print('\\n Q is: \\n', Q)\n",
        "\n",
        "# Print upper triangular matrix R\n",
        "print('\\n R is: \\n', R)"
      ]
    },
    {
      "cell_type": "markdown",
      "metadata": {
        "id": "0FgIVs6Ow5px"
      },
      "source": [
        "## Givens Rotation"
      ]
    },
    {
      "cell_type": "code",
      "source": [
        "def _givens_rotation_matrix_entries(a, b):\n",
        "    r = hypot(a, b)\n",
        "    c = a/r\n",
        "    s = -b/r\n",
        "    return (c, s)\n",
        "\n",
        "def givens_rotation(A):\n",
        "    (num_rows, num_cols) = np.shape(A)\n",
        "    Q = np.identity(num_rows)\n",
        "    R = np.copy(A)\n",
        "    (rows, cols) = np.tril_indices(num_rows, -1, num_cols)\n",
        "    for (row, col) in zip(rows, cols):\n",
        "        if R[row, col] != 0:\n",
        "            (c, s) = _givens_rotation_matrix_entries(R[col, col], R[row, col])\n",
        "            G = np.identity(num_rows)\n",
        "            G[[col, row], [col, row]] = c\n",
        "            G[row, col] = s\n",
        "            G[col, row] = -s\n",
        "            R = np.dot(G, R)\n",
        "            Q = np.dot(Q, G.T)\n",
        "    return (Q, R)\n"
      ],
      "metadata": {
        "id": "S-GtS2m-zVnP"
      },
      "execution_count": 11,
      "outputs": []
    },
    {
      "cell_type": "code",
      "source": [
        "np.set_printoptions(precision=4, suppress=True)\n",
        "\n",
        "# Input matrix\n",
        "A = np.array([[6, 5, 0],\n",
        "              [5, 1, 4],\n",
        "              [0, 4, 3]])\n",
        "\n",
        "# Print input matrix\n",
        "print('A is: \\n', A)\n",
        "\n",
        "# Compute QR decomposition using Givens rotation\n",
        "(Q, R) = givens_rotation(A)\n",
        "\n",
        "# Print orthogonal matrix Q\n",
        "print('\\n Q is: \\n', Q)\n",
        "\n",
        "# Print upper triangular matrix R\n",
        "print('\\n R is: \\n', R)"
      ],
      "metadata": {
        "colab": {
          "base_uri": "https://localhost:8080/"
        },
        "id": "bQ3D_121z5J-",
        "outputId": "ded4b1c5-5906-4017-a46d-b3ef144cbc01"
      },
      "execution_count": 16,
      "outputs": [
        {
          "output_type": "stream",
          "name": "stdout",
          "text": [
            "A is: \n",
            " [[6 5 0]\n",
            " [5 1 4]\n",
            " [0 4 3]]\n",
            "\n",
            " Q is: \n",
            " [[ 0.7682  0.3327  0.547 ]\n",
            " [ 0.6402 -0.3992 -0.6564]\n",
            " [ 0.      0.8544 -0.5196]]\n",
            "\n",
            " R is: \n",
            " [[ 7.8102  4.4813  2.5607]\n",
            " [ 0.      4.6817  0.9664]\n",
            " [ 0.      0.     -4.1843]]\n"
          ]
        }
      ]
    },
    {
      "cell_type": "markdown",
      "source": [
        "## Runtime Analysis"
      ],
      "metadata": {
        "id": "YETNalc3CBqR"
      }
    },
    {
      "cell_type": "code",
      "source": [
        "np.set_printoptions(precision=4, suppress=True)\n",
        "A = np.random.standard_normal(size=(100, 100))\n",
        "\n",
        "start_time = time.time()\n",
        "(Q, R) = givens_rotation(A)\n",
        "print('givens_rotation algortithm runtime on 100*100 matrix:',round((time.time() - start_time),2),'s')\n",
        "\n",
        "start_time = time.time()\n",
        "(Q, R) = gram_schmidt_process(A)\n",
        "print('gram_schmidt_process algortithm runtime on 100*100 matrix:',round((time.time() - start_time),2),'s')\n",
        "\n"
      ],
      "metadata": {
        "colab": {
          "base_uri": "https://localhost:8080/"
        },
        "id": "Wwf3-Pbw0h41",
        "outputId": "ec2fbd26-e3c5-471c-9c9c-5850211430c2"
      },
      "execution_count": 27,
      "outputs": [
        {
          "output_type": "stream",
          "name": "stdout",
          "text": [
            "givens_rotation algortithm runtime on 100*100 matrix: 1.46 s\n",
            "gram_schmidt_process algortithm runtime on 100*100 matrix: 0.04 s\n"
          ]
        }
      ]
    },
    {
      "cell_type": "code",
      "source": [
        "np.set_printoptions(precision=4, suppress=True)\n",
        "A = np.random.standard_normal(size=(250, 250))\n",
        "\n",
        "start_time = time.time()\n",
        "(Q, R) = givens_rotation(A)\n",
        "print('givens_rotation algortithm runtime on 250*250 matrix:',round((time.time() - start_time),2),'s')\n",
        "\n",
        "start_time = time.time()\n",
        "(Q, R) = gram_schmidt_process(A)\n",
        "print('gram_schmidt_process algortithm runtime on 250*250 matrix:',round((time.time() - start_time),2),'s')\n"
      ],
      "metadata": {
        "colab": {
          "base_uri": "https://localhost:8080/"
        },
        "id": "vS6n0G2B_vkV",
        "outputId": "c16b56ce-a12d-4a52-d764-796357be1d5e"
      },
      "execution_count": 33,
      "outputs": [
        {
          "output_type": "stream",
          "name": "stdout",
          "text": [
            "givens_rotation algortithm runtime on 250*250 matrix: 84.87s\n",
            "gram_schmidt_process algortithm runtime on 250*250 matrix: 0.21s\n"
          ]
        }
      ]
    },
    {
      "cell_type": "code",
      "source": [
        "np.set_printoptions(precision=4, suppress=True)\n",
        "A = np.random.standard_normal(size=(400, 400))\n",
        "\n",
        "start_time = time.time()\n",
        "(Q, R) = givens_rotation(A)\n",
        "print('givens_rotation algortithm runtime on 400*400 matrix:',round((time.time() - start_time),2),'s')\n",
        "\n",
        "start_time = time.time()\n",
        "(Q, R) = gram_schmidt_process(A)\n",
        "print('gram_schmidt_process algortithm runtime on 400*400 matrix:',round((time.time() - start_time),2),'s')"
      ],
      "metadata": {
        "colab": {
          "base_uri": "https://localhost:8080/"
        },
        "id": "wRdRT7jR_IZ_",
        "outputId": "54de80fc-038c-4fd3-d3a0-6ab2af3544f9"
      },
      "execution_count": 34,
      "outputs": [
        {
          "output_type": "stream",
          "name": "stdout",
          "text": [
            "givens_rotation algortithm runtime on 400*400 matrix: 747.56s\n",
            "gram_schmidt_process algortithm runtime on 400*400 matrix: 0.47s\n"
          ]
        }
      ]
    },
    {
      "cell_type": "code",
      "source": [
        "A = np.random.standard_normal(size=(1000, 1000))\n",
        "start_time = time.time()\n",
        "(Q, R) = gram_schmidt_process(A)\n",
        "print('gram_schmidt_process algortithm runtime on 1000*1000 matrix:',round((time.time() - start_time),2),'s')"
      ],
      "metadata": {
        "colab": {
          "base_uri": "https://localhost:8080/"
        },
        "id": "BAN88IDa_XL2",
        "outputId": "105ea795-d2a8-47f4-ca0e-b4f98e815095"
      },
      "execution_count": 35,
      "outputs": [
        {
          "output_type": "stream",
          "name": "stdout",
          "text": [
            "gram_schmidt_process algortithm runtime on 1000*1000 matrix: 7.73s\n"
          ]
        }
      ]
    },
    {
      "cell_type": "code",
      "source": [
        "A = np.random.standard_normal(size=(2500, 2500))\n",
        "start_time = time.time()\n",
        "(Q, R) = gram_schmidt_process(A)\n",
        "print('gram_schmidt_process algortithm runtime on 2500*2500 matrix:',round((time.time() - start_time),2),'s')\n",
        "\n"
      ],
      "metadata": {
        "colab": {
          "base_uri": "https://localhost:8080/"
        },
        "id": "uurfaANw_dEP",
        "outputId": "2731d368-5a70-4d10-edfd-8e8d01e60388"
      },
      "execution_count": 36,
      "outputs": [
        {
          "output_type": "stream",
          "name": "stdout",
          "text": [
            "gram_schmidt_process algortithm runtime on 2500*2500 matrix: 43.55s\n"
          ]
        }
      ]
    },
    {
      "cell_type": "code",
      "source": [
        "np.set_printoptions(precision=4, suppress=True)\n",
        "A = np.random.standard_normal(size=(5000, 5000))\n",
        "start_time = time.time()\n",
        "(Q, R) = gram_schmidt_process(A)\n",
        "print('gram_schmidt_process algortithm runtime on 100*100 matrix:',round((time.time() - start_time),2),'s')\n",
        "\n"
      ],
      "metadata": {
        "colab": {
          "base_uri": "https://localhost:8080/"
        },
        "id": "qoGGGFmjBvTz",
        "outputId": "b15fbae5-cc54-44bc-b5bd-7fc296a0f3be"
      },
      "execution_count": 37,
      "outputs": [
        {
          "output_type": "stream",
          "name": "stdout",
          "text": [
            "gram_schmidt_process algortithm runtime on 2500*2500 matrix: 1780.26 s\n"
          ]
        }
      ]
    },
    {
      "cell_type": "code",
      "source": [
        "import pandas as pd\n",
        "conclusion = pd.DataFrame([['100 * 100',0.04 ,1.46],\n",
        "              ['250 * 250',0.21 ,84.87],\n",
        "              ['400 * 400',0.47 ,747.56],\n",
        "              ['1000 * 1000',7.73 ,'runtime error'],\n",
        "              ['2500 * 2500',43.55 ,'runtime error'],\n",
        "              ['5000 * 5000',1780.26 ,'runtime error']],\n",
        "              columns=['Dimension of Matrix',\"Gram schmidt process\",\"Givens Rotation\"])\n",
        "conclusion\n",
        "\n"
      ],
      "metadata": {
        "colab": {
          "base_uri": "https://localhost:8080/",
          "height": 238
        },
        "id": "mp3whxYBCJPC",
        "outputId": "fc4bbd64-7766-4888-a01a-282f2b7ed26e"
      },
      "execution_count": 41,
      "outputs": [
        {
          "output_type": "execute_result",
          "data": {
            "text/plain": [
              "  Dimension of Matrix  Gram schmidt process Givens Rotation\n",
              "0           100 * 100                  0.04            1.46\n",
              "1           250 * 250                  0.21           84.87\n",
              "2           400 * 400                  0.47          747.56\n",
              "3         1000 * 1000                  7.73   runtime error\n",
              "4         2500 * 2500                 43.55   runtime error\n",
              "5         5000 * 5000               1780.26   runtime error"
            ],
            "text/html": [
              "\n",
              "  <div id=\"df-dae43bf7-e4fd-4afe-abb5-fe75a4197ca6\">\n",
              "    <div class=\"colab-df-container\">\n",
              "      <div>\n",
              "<style scoped>\n",
              "    .dataframe tbody tr th:only-of-type {\n",
              "        vertical-align: middle;\n",
              "    }\n",
              "\n",
              "    .dataframe tbody tr th {\n",
              "        vertical-align: top;\n",
              "    }\n",
              "\n",
              "    .dataframe thead th {\n",
              "        text-align: right;\n",
              "    }\n",
              "</style>\n",
              "<table border=\"1\" class=\"dataframe\">\n",
              "  <thead>\n",
              "    <tr style=\"text-align: right;\">\n",
              "      <th></th>\n",
              "      <th>Dimension of Matrix</th>\n",
              "      <th>Gram schmidt process</th>\n",
              "      <th>Givens Rotation</th>\n",
              "    </tr>\n",
              "  </thead>\n",
              "  <tbody>\n",
              "    <tr>\n",
              "      <th>0</th>\n",
              "      <td>100 * 100</td>\n",
              "      <td>0.04</td>\n",
              "      <td>1.46</td>\n",
              "    </tr>\n",
              "    <tr>\n",
              "      <th>1</th>\n",
              "      <td>250 * 250</td>\n",
              "      <td>0.21</td>\n",
              "      <td>84.87</td>\n",
              "    </tr>\n",
              "    <tr>\n",
              "      <th>2</th>\n",
              "      <td>400 * 400</td>\n",
              "      <td>0.47</td>\n",
              "      <td>747.56</td>\n",
              "    </tr>\n",
              "    <tr>\n",
              "      <th>3</th>\n",
              "      <td>1000 * 1000</td>\n",
              "      <td>7.73</td>\n",
              "      <td>runtime error</td>\n",
              "    </tr>\n",
              "    <tr>\n",
              "      <th>4</th>\n",
              "      <td>2500 * 2500</td>\n",
              "      <td>43.55</td>\n",
              "      <td>runtime error</td>\n",
              "    </tr>\n",
              "    <tr>\n",
              "      <th>5</th>\n",
              "      <td>5000 * 5000</td>\n",
              "      <td>1780.26</td>\n",
              "      <td>runtime error</td>\n",
              "    </tr>\n",
              "  </tbody>\n",
              "</table>\n",
              "</div>\n",
              "      <button class=\"colab-df-convert\" onclick=\"convertToInteractive('df-dae43bf7-e4fd-4afe-abb5-fe75a4197ca6')\"\n",
              "              title=\"Convert this dataframe to an interactive table.\"\n",
              "              style=\"display:none;\">\n",
              "        \n",
              "  <svg xmlns=\"http://www.w3.org/2000/svg\" height=\"24px\"viewBox=\"0 0 24 24\"\n",
              "       width=\"24px\">\n",
              "    <path d=\"M0 0h24v24H0V0z\" fill=\"none\"/>\n",
              "    <path d=\"M18.56 5.44l.94 2.06.94-2.06 2.06-.94-2.06-.94-.94-2.06-.94 2.06-2.06.94zm-11 1L8.5 8.5l.94-2.06 2.06-.94-2.06-.94L8.5 2.5l-.94 2.06-2.06.94zm10 10l.94 2.06.94-2.06 2.06-.94-2.06-.94-.94-2.06-.94 2.06-2.06.94z\"/><path d=\"M17.41 7.96l-1.37-1.37c-.4-.4-.92-.59-1.43-.59-.52 0-1.04.2-1.43.59L10.3 9.45l-7.72 7.72c-.78.78-.78 2.05 0 2.83L4 21.41c.39.39.9.59 1.41.59.51 0 1.02-.2 1.41-.59l7.78-7.78 2.81-2.81c.8-.78.8-2.07 0-2.86zM5.41 20L4 18.59l7.72-7.72 1.47 1.35L5.41 20z\"/>\n",
              "  </svg>\n",
              "      </button>\n",
              "      \n",
              "  <style>\n",
              "    .colab-df-container {\n",
              "      display:flex;\n",
              "      flex-wrap:wrap;\n",
              "      gap: 12px;\n",
              "    }\n",
              "\n",
              "    .colab-df-convert {\n",
              "      background-color: #E8F0FE;\n",
              "      border: none;\n",
              "      border-radius: 50%;\n",
              "      cursor: pointer;\n",
              "      display: none;\n",
              "      fill: #1967D2;\n",
              "      height: 32px;\n",
              "      padding: 0 0 0 0;\n",
              "      width: 32px;\n",
              "    }\n",
              "\n",
              "    .colab-df-convert:hover {\n",
              "      background-color: #E2EBFA;\n",
              "      box-shadow: 0px 1px 2px rgba(60, 64, 67, 0.3), 0px 1px 3px 1px rgba(60, 64, 67, 0.15);\n",
              "      fill: #174EA6;\n",
              "    }\n",
              "\n",
              "    [theme=dark] .colab-df-convert {\n",
              "      background-color: #3B4455;\n",
              "      fill: #D2E3FC;\n",
              "    }\n",
              "\n",
              "    [theme=dark] .colab-df-convert:hover {\n",
              "      background-color: #434B5C;\n",
              "      box-shadow: 0px 1px 3px 1px rgba(0, 0, 0, 0.15);\n",
              "      filter: drop-shadow(0px 1px 2px rgba(0, 0, 0, 0.3));\n",
              "      fill: #FFFFFF;\n",
              "    }\n",
              "  </style>\n",
              "\n",
              "      <script>\n",
              "        const buttonEl =\n",
              "          document.querySelector('#df-dae43bf7-e4fd-4afe-abb5-fe75a4197ca6 button.colab-df-convert');\n",
              "        buttonEl.style.display =\n",
              "          google.colab.kernel.accessAllowed ? 'block' : 'none';\n",
              "\n",
              "        async function convertToInteractive(key) {\n",
              "          const element = document.querySelector('#df-dae43bf7-e4fd-4afe-abb5-fe75a4197ca6');\n",
              "          const dataTable =\n",
              "            await google.colab.kernel.invokeFunction('convertToInteractive',\n",
              "                                                     [key], {});\n",
              "          if (!dataTable) return;\n",
              "\n",
              "          const docLinkHtml = 'Like what you see? Visit the ' +\n",
              "            '<a target=\"_blank\" href=https://colab.research.google.com/notebooks/data_table.ipynb>data table notebook</a>'\n",
              "            + ' to learn more about interactive tables.';\n",
              "          element.innerHTML = '';\n",
              "          dataTable['output_type'] = 'display_data';\n",
              "          await google.colab.output.renderOutput(dataTable, element);\n",
              "          const docLink = document.createElement('div');\n",
              "          docLink.innerHTML = docLinkHtml;\n",
              "          element.appendChild(docLink);\n",
              "        }\n",
              "      </script>\n",
              "    </div>\n",
              "  </div>\n",
              "  "
            ]
          },
          "metadata": {},
          "execution_count": 41
        }
      ]
    }
  ],
  "metadata": {
    "kernelspec": {
      "display_name": "Python 3",
      "language": "python",
      "name": "python3"
    },
    "language_info": {
      "codemirror_mode": {
        "name": "ipython",
        "version": 3
      },
      "file_extension": ".py",
      "mimetype": "text/x-python",
      "name": "python",
      "nbconvert_exporter": "python",
      "pygments_lexer": "ipython3",
      "version": "3.8.5"
    },
    "colab": {
      "name": "Computational_datamining_Ex3.ipynb",
      "provenance": [],
      "collapsed_sections": [],
      "include_colab_link": true
    }
  },
  "nbformat": 4,
  "nbformat_minor": 0
}