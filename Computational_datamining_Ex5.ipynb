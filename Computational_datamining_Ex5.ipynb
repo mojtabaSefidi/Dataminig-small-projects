{
  "nbformat": 4,
  "nbformat_minor": 0,
  "metadata": {
    "colab": {
      "name": "Computational_datamining_Ex5.ipynb",
      "provenance": [],
      "authorship_tag": "ABX9TyMbneB601i0VpKsGfKMVAkQ",
      "include_colab_link": true
    },
    "kernelspec": {
      "name": "python3",
      "display_name": "Python 3"
    },
    "language_info": {
      "name": "python"
    }
  },
  "cells": [
    {
      "cell_type": "markdown",
      "metadata": {
        "id": "view-in-github",
        "colab_type": "text"
      },
      "source": [
        "<a href=\"https://colab.research.google.com/github/mojtabaSefidi/Dataminig-small-projects/blob/main/Computational_datamining_Ex5.ipynb\" target=\"_parent\"><img src=\"https://colab.research.google.com/assets/colab-badge.svg\" alt=\"Open In Colab\"/></a>"
      ]
    },
    {
      "cell_type": "code",
      "execution_count": 43,
      "metadata": {
        "id": "6YgT8Nc7x41N"
      },
      "outputs": [],
      "source": [
        "from sklearn.model_selection import RepeatedStratifiedKFold\n",
        "from sklearn.model_selection import cross_val_score\n",
        "from sklearn.datasets import make_classification\n",
        "from sklearn.decomposition import TruncatedSVD\n",
        "from sklearn.pipeline import Pipeline\n",
        "from numpy.linalg import svd\n",
        "from sklearn import svm\n",
        "from numpy import mean\n",
        "from numpy import std\n",
        "from numpy import dot\n",
        "import numpy as np\n",
        "import time"
      ]
    },
    {
      "cell_type": "code",
      "source": [
        "A = np.array([[1, 2], [3, 4], [5, 6]])\n",
        "print('A is:\\n', A)\n",
        "\n",
        "U, s, VT = svd(A)\n",
        "print()\n",
        "print('U is:\\n', U)\n",
        "print()\n",
        "print('S is:\\n', s)\n",
        "print()\n",
        "print('VT is:\\n', VT)"
      ],
      "metadata": {
        "colab": {
          "base_uri": "https://localhost:8080/"
        },
        "id": "TBucNBj7jiP_",
        "outputId": "4cc0defc-decd-486f-8697-7577a4fe71c1"
      },
      "execution_count": 47,
      "outputs": [
        {
          "output_type": "stream",
          "name": "stdout",
          "text": [
            "A is:\n",
            " [[1 2]\n",
            " [3 4]\n",
            " [5 6]]\n",
            "\n",
            "U is:\n",
            " [[-0.2298477   0.88346102  0.40824829]\n",
            " [-0.52474482  0.24078249 -0.81649658]\n",
            " [-0.81964194 -0.40189603  0.40824829]]\n",
            "\n",
            "S is:\n",
            " [9.52551809 0.51430058]\n",
            "\n",
            "VT is:\n",
            " [[-0.61962948 -0.78489445]\n",
            " [-0.78489445  0.61962948]]\n"
          ]
        }
      ]
    },
    {
      "cell_type": "code",
      "source": [
        "A = np.array([[1, 2], [3, 4], [5, 6]])\n",
        "print('A is:\\n', A)\n",
        "\n",
        "U, s, VT = svd(A)\n",
        "Sigma = np.zeros((A.shape[0], A.shape[1]))\n",
        "Sigma[:A.shape[1], :A.shape[1]] = np.diag(s)\n",
        "print()\n",
        "B = U.dot(Sigma.dot(VT))\n",
        "print('B is:\\n', B)"
      ],
      "metadata": {
        "colab": {
          "base_uri": "https://localhost:8080/"
        },
        "id": "nWqr7-O8juV_",
        "outputId": "d4ed4983-cb5a-4049-d1d8-b411bf8899f8"
      },
      "execution_count": 49,
      "outputs": [
        {
          "output_type": "stream",
          "name": "stdout",
          "text": [
            "A is:\n",
            " [[1 2]\n",
            " [3 4]\n",
            " [5 6]]\n",
            "\n",
            "B is:\n",
            " [[1. 2.]\n",
            " [3. 4.]\n",
            " [5. 6.]]\n"
          ]
        }
      ]
    },
    {
      "cell_type": "code",
      "source": [
        "A = np.array([\n",
        "\t[1,2,3,4,5,6,7,8,9,10],\n",
        "\t[11,12,13,14,15,16,17,18,19,20],\n",
        "\t[21,22,23,24,25,26,27,28,29,30]])\n",
        "print('A is:\\n', A)\n",
        "print()\n",
        "\n",
        "U, s, VT = svd(A)\n",
        "Sigma = np.zeros((A.shape[0], A.shape[1]))\n",
        "Sigma[:A.shape[0], :A.shape[0]] = np.diag(s)\n",
        "n_elements = 2\n",
        "Sigma = Sigma[:, :n_elements]\n",
        "VT = VT[:n_elements, :]\n",
        "\n",
        "B = U.dot(Sigma.dot(VT))\n",
        "print('B is:\\n',B)\n",
        "print()\n",
        "\n",
        "T = U.dot(Sigma)\n",
        "print('T is:\\n',T)\n",
        "print()\n",
        "\n",
        "T = A.dot(VT.T)\n",
        "print('Reconstructed T is:\\n',T)"
      ],
      "metadata": {
        "colab": {
          "base_uri": "https://localhost:8080/"
        },
        "id": "dNv7HV6Pkn8E",
        "outputId": "620cacd5-84e7-4253-de7a-dc5916ea7d59"
      },
      "execution_count": 51,
      "outputs": [
        {
          "output_type": "stream",
          "name": "stdout",
          "text": [
            "A is:\n",
            " [[ 1  2  3  4  5  6  7  8  9 10]\n",
            " [11 12 13 14 15 16 17 18 19 20]\n",
            " [21 22 23 24 25 26 27 28 29 30]]\n",
            "\n",
            "B is:\n",
            " [[ 1.  2.  3.  4.  5.  6.  7.  8.  9. 10.]\n",
            " [11. 12. 13. 14. 15. 16. 17. 18. 19. 20.]\n",
            " [21. 22. 23. 24. 25. 26. 27. 28. 29. 30.]]\n",
            "\n",
            "T is:\n",
            " [[-18.52157747   6.47697214]\n",
            " [-49.81310011   1.91182038]\n",
            " [-81.10462276  -2.65333138]]\n",
            "\n",
            "Reconstructed T is:\n",
            " [[-18.52157747   6.47697214]\n",
            " [-49.81310011   1.91182038]\n",
            " [-81.10462276  -2.65333138]]\n"
          ]
        }
      ]
    },
    {
      "cell_type": "code",
      "source": [
        "A = np.array([\n",
        "\t[1,2,3,4,5,6,7,8,9,10],\n",
        "\t[11,12,13,14,15,16,17,18,19,20],\n",
        "\t[21,22,23,24,25,26,27,28,29,30]])\n",
        "print('A is:\\n', A)\n",
        "print()\n",
        "\n",
        "svd = TruncatedSVD(n_components=2)\n",
        "svd.fit(A)\n",
        "result = svd.transform(A)\n",
        "print('T is:\\n',result)"
      ],
      "metadata": {
        "colab": {
          "base_uri": "https://localhost:8080/"
        },
        "id": "XBmnin9wlAWS",
        "outputId": "e5c96f00-a137-4101-e709-a99557657677"
      },
      "execution_count": 53,
      "outputs": [
        {
          "output_type": "stream",
          "name": "stdout",
          "text": [
            "A is:\n",
            " [[ 1  2  3  4  5  6  7  8  9 10]\n",
            " [11 12 13 14 15 16 17 18 19 20]\n",
            " [21 22 23 24 25 26 27 28 29 30]]\n",
            "\n",
            "T is:\n",
            " [[18.52157747  6.47697214]\n",
            " [49.81310011  1.91182038]\n",
            " [81.10462276 -2.65333138]]\n"
          ]
        }
      ]
    },
    {
      "cell_type": "code",
      "source": [
        "X, y = make_classification(n_samples=10000, n_features=20, n_informative=15, n_redundant=5, random_state=7)\n",
        "print(X.shape, y.shape)"
      ],
      "metadata": {
        "colab": {
          "base_uri": "https://localhost:8080/"
        },
        "id": "T4-raDZhh6kc",
        "outputId": "0e704826-6baf-4098-c489-b402eac352f1"
      },
      "execution_count": 60,
      "outputs": [
        {
          "output_type": "stream",
          "name": "stdout",
          "text": [
            "(10000, 20) (10000,)\n"
          ]
        }
      ]
    },
    {
      "cell_type": "code",
      "source": [
        "start_time = time.time()\n",
        "cv = RepeatedStratifiedKFold(n_splits=10, n_repeats=3, random_state=1)\n",
        "n_scores = cross_val_score(svm.SVC(), X, y, scoring='accuracy', cv=cv, n_jobs=-1, error_score='raise')\n",
        "print('Time duration before using TruncatedSVD:',round((time.time() - start_time),2),'s')\n",
        "print('Accuracy before using TruncatedSVD: %.3f' % (mean(n_scores)))"
      ],
      "metadata": {
        "colab": {
          "base_uri": "https://localhost:8080/"
        },
        "id": "Qnf6NdBziY1C",
        "outputId": "a7490b3e-2f27-4239-acba-23c509d2864e"
      },
      "execution_count": 61,
      "outputs": [
        {
          "output_type": "stream",
          "name": "stdout",
          "text": [
            "Time duration before using TruncatedSVD: 29.51 s\n",
            "Accuracy before using TruncatedSVD: 0.986\n"
          ]
        }
      ]
    },
    {
      "cell_type": "code",
      "source": [
        "start_time = time.time()\n",
        "steps = [('svd', TruncatedSVD(n_components=10)), ('m', svm.SVC())]\n",
        "model = Pipeline(steps=steps)\n",
        "cv = RepeatedStratifiedKFold(n_splits=10, n_repeats=3, random_state=1)\n",
        "n_scores = cross_val_score(model, X, y, scoring='accuracy', cv=cv, n_jobs=-1, error_score='raise')\n",
        "print('Time duration After using TruncatedSVD:',round((time.time() - start_time),2),'s')\n",
        "print('Accuracy After using TruncatedSVD: %.3f' % (mean(n_scores)))"
      ],
      "metadata": {
        "colab": {
          "base_uri": "https://localhost:8080/"
        },
        "id": "QBdi5gXtiBOr",
        "outputId": "1bf5aee3-2e74-4bbc-d704-7d5f1445dcac"
      },
      "execution_count": 62,
      "outputs": [
        {
          "output_type": "stream",
          "name": "stdout",
          "text": [
            "Time duration After using TruncatedSVD: 28.7 s\n",
            "Accuracy After using TruncatedSVD: 0.962\n"
          ]
        }
      ]
    },
    {
      "cell_type": "code",
      "source": [
        "X, y = make_classification(n_samples=10000, n_features=100, n_informative=15, n_redundant=5, random_state=7)\n",
        "print(X.shape, y.shape)"
      ],
      "metadata": {
        "colab": {
          "base_uri": "https://localhost:8080/"
        },
        "outputId": "476a9969-b7fb-408d-e1f1-dd87ae77e1c1",
        "id": "QfH0YB9jlXlm"
      },
      "execution_count": 63,
      "outputs": [
        {
          "output_type": "stream",
          "name": "stdout",
          "text": [
            "(10000, 100) (10000,)\n"
          ]
        }
      ]
    },
    {
      "cell_type": "code",
      "source": [
        "start_time = time.time()\n",
        "cv = RepeatedStratifiedKFold(n_splits=10, n_repeats=3, random_state=1)\n",
        "n_scores = cross_val_score(svm.SVC(), X, y, scoring='accuracy', cv=cv, n_jobs=-1, error_score='raise')\n",
        "print('Time duration before using TruncatedSVD:',round((time.time() - start_time),2),'s')\n",
        "print('Accuracy before using TruncatedSVD: %.3f' % (mean(n_scores)))"
      ],
      "metadata": {
        "colab": {
          "base_uri": "https://localhost:8080/"
        },
        "outputId": "9b683085-0c91-477f-d1f0-fb497b1a02d8",
        "id": "0mm39g3ilXlw"
      },
      "execution_count": 64,
      "outputs": [
        {
          "output_type": "stream",
          "name": "stdout",
          "text": [
            "Time duration before using TruncatedSVD: 57.88 s\n",
            "Accuracy before using TruncatedSVD: 0.980\n"
          ]
        }
      ]
    },
    {
      "cell_type": "code",
      "source": [
        "start_time = time.time()\n",
        "steps = [('svd', TruncatedSVD(n_components=10)), ('m', svm.SVC())]\n",
        "model = Pipeline(steps=steps)\n",
        "cv = RepeatedStratifiedKFold(n_splits=10, n_repeats=3, random_state=1)\n",
        "n_scores = cross_val_score(model, X, y, scoring='accuracy', cv=cv, n_jobs=-1, error_score='raise')\n",
        "print('Time duration After using TruncatedSVD:',round((time.time() - start_time),2),'s')\n",
        "print('Accuracy After using TruncatedSVD: %.3f' % (mean(n_scores)))"
      ],
      "metadata": {
        "colab": {
          "base_uri": "https://localhost:8080/"
        },
        "outputId": "47c4bc7a-74b0-4ddd-a3a3-f3e1d6572a8b",
        "id": "9r7AocqglXlw"
      },
      "execution_count": 65,
      "outputs": [
        {
          "output_type": "stream",
          "name": "stdout",
          "text": [
            "Time duration After using TruncatedSVD: 30.21 s\n",
            "Accuracy After using TruncatedSVD: 0.961\n"
          ]
        }
      ]
    },
    {
      "cell_type": "code",
      "source": [
        "X, y = make_classification(n_samples=10000, n_features=500, n_informative=15, n_redundant=5, random_state=7)\n",
        "print(X.shape, y.shape)"
      ],
      "metadata": {
        "colab": {
          "base_uri": "https://localhost:8080/"
        },
        "outputId": "72928256-ab87-4073-85c4-63c4c1e7edc8",
        "id": "DFD16FmHlXs7"
      },
      "execution_count": 66,
      "outputs": [
        {
          "output_type": "stream",
          "name": "stdout",
          "text": [
            "(10000, 500) (10000,)\n"
          ]
        }
      ]
    },
    {
      "cell_type": "code",
      "source": [
        "start_time = time.time()\n",
        "cv = RepeatedStratifiedKFold(n_splits=10, n_repeats=3, random_state=1)\n",
        "n_scores = cross_val_score(svm.SVC(), X, y, scoring='accuracy', cv=cv, n_jobs=-1, error_score='raise')\n",
        "print('Time duration before using TruncatedSVD:',round((time.time() - start_time),2),'s')\n",
        "print('Accuracy before using TruncatedSVD: %.3f' % (mean(n_scores)))"
      ],
      "metadata": {
        "colab": {
          "base_uri": "https://localhost:8080/"
        },
        "outputId": "6956efa5-fd70-40d3-b9b2-c36bb417d472",
        "id": "kS2O4gKplXs8"
      },
      "execution_count": 67,
      "outputs": [
        {
          "output_type": "stream",
          "name": "stdout",
          "text": [
            "Time duration before using TruncatedSVD: 639.68 s\n",
            "Accuracy before using TruncatedSVD: 0.957\n"
          ]
        }
      ]
    },
    {
      "cell_type": "code",
      "source": [
        "start_time = time.time()\n",
        "steps = [('svd', TruncatedSVD(n_components=10)), ('m', svm.SVC())]\n",
        "model = Pipeline(steps=steps)\n",
        "cv = RepeatedStratifiedKFold(n_splits=10, n_repeats=3, random_state=1)\n",
        "n_scores = cross_val_score(model, X, y, scoring='accuracy', cv=cv, n_jobs=-1, error_score='raise')\n",
        "print('Time duration After using TruncatedSVD:',round((time.time() - start_time),2),'s')\n",
        "print('Accuracy After using TruncatedSVD: %.3f' % (mean(n_scores)))"
      ],
      "metadata": {
        "colab": {
          "base_uri": "https://localhost:8080/"
        },
        "outputId": "ce7b141e-a924-491d-acea-d35c569d7937",
        "id": "gci98zCJlXs8"
      },
      "execution_count": 68,
      "outputs": [
        {
          "output_type": "stream",
          "name": "stdout",
          "text": [
            "Time duration After using TruncatedSVD: 35.42 s\n",
            "Accuracy After using TruncatedSVD: 0.962\n"
          ]
        }
      ]
    },
    {
      "cell_type": "code",
      "source": [
        "X, y = make_classification(n_samples=10000, n_features=1000, n_informative=15, n_redundant=5, random_state=7)\n",
        "print(X.shape, y.shape)"
      ],
      "metadata": {
        "colab": {
          "base_uri": "https://localhost:8080/"
        },
        "outputId": "38e985f7-cef8-4343-8a55-7f32dc7d81bc",
        "id": "UckSTAH3lX0l"
      },
      "execution_count": 69,
      "outputs": [
        {
          "output_type": "stream",
          "name": "stdout",
          "text": [
            "(10000, 1000) (10000,)\n"
          ]
        }
      ]
    },
    {
      "cell_type": "code",
      "source": [
        "start_time = time.time()\n",
        "cv = RepeatedStratifiedKFold(n_splits=10, n_repeats=3, random_state=1)\n",
        "n_scores = cross_val_score(svm.SVC(), X, y, scoring='accuracy', cv=cv, n_jobs=-1, error_score='raise')\n",
        "print('Time duration before using TruncatedSVD:',round((time.time() - start_time),2),'s')\n",
        "print('Accuracy before using TruncatedSVD: %.3f' % (mean(n_scores)))"
      ],
      "metadata": {
        "colab": {
          "base_uri": "https://localhost:8080/"
        },
        "outputId": "f740769a-8a89-4c60-b86f-4ad7f6ddfdd7",
        "id": "Van7teKwvAXz"
      },
      "execution_count": null,
      "outputs": [
        {
          "output_type": "stream",
          "name": "stdout",
          "text": [
            "Time duration before using TruncatedSVD: 1038.59 s\n",
            "Accuracy before using TruncatedSVD: 0.931\n"
          ]
        }
      ]
    },
    {
      "cell_type": "code",
      "source": [
        "start_time = time.time()\n",
        "steps = [('svd', TruncatedSVD(n_components=10)), ('m', svm.SVC())]\n",
        "model = Pipeline(steps=steps)\n",
        "cv = RepeatedStratifiedKFold(n_splits=10, n_repeats=3, random_state=1)\n",
        "n_scores = cross_val_score(model, X, y, scoring='accuracy', cv=cv, n_jobs=-1, error_score='raise')\n",
        "print('Time duration After using TruncatedSVD:',round((time.time() - start_time),2),'s')\n",
        "print('Accuracy After using TruncatedSVD: %.3f' % (mean(n_scores)))"
      ],
      "metadata": {
        "colab": {
          "base_uri": "https://localhost:8080/"
        },
        "outputId": "fd80bf30-dfa1-44ee-9171-11ccb25f8998",
        "id": "EzX0RaJXlX0m"
      },
      "execution_count": 71,
      "outputs": [
        {
          "output_type": "stream",
          "name": "stdout",
          "text": [
            "Time duration After using TruncatedSVD: 42.17 s\n",
            "Accuracy After using TruncatedSVD: 0.962\n"
          ]
        }
      ]
    },
    {
      "cell_type": "code",
      "source": [
        "import pandas as pd\n",
        "conclusion = pd.DataFrame([['(10000, 20)',29.51 ,0.986,28.7,0.962],\n",
        "              ['(10000, 100)',57.88 ,0.980,30.21,0.961],\n",
        "              ['(10000, 500)',639.68 ,0.957,35.42,0.962],\n",
        "              ['(10000, 1000)',1038.59 ,0.931,42.17,0.962]],\n",
        "              columns=['Dimension of Matrix',\"Time duration\",\"Time duration After TruncatedSVD\",\"Acuuracy\",\"Acuuracy After TruncatedSVD\"])\n",
        "conclusion\n",
        "\n"
      ],
      "metadata": {
        "colab": {
          "base_uri": "https://localhost:8080/",
          "height": 175
        },
        "id": "XAd0bZPKrX1m",
        "outputId": "01ac77fb-c9ef-4a48-90c4-fc1bc4e41615"
      },
      "execution_count": 81,
      "outputs": [
        {
          "output_type": "execute_result",
          "data": {
            "text/plain": [
              "  Dimension of Matrix  Time duration  Time duration After TruncatedSVD  \\\n",
              "0         (10000, 20)          29.51                             0.986   \n",
              "1        (10000, 100)          57.88                             0.980   \n",
              "2        (10000, 500)         639.68                             0.957   \n",
              "3       (10000, 1000)        1038.59                             0.931   \n",
              "\n",
              "   Acuuracy  Acuuracy After TruncatedSVD  \n",
              "0     28.70                        0.962  \n",
              "1     30.21                        0.961  \n",
              "2     35.42                        0.962  \n",
              "3     42.17                        0.962  "
            ],
            "text/html": [
              "\n",
              "  <div id=\"df-163f979e-2b42-4a4b-9eea-706d0956045d\">\n",
              "    <div class=\"colab-df-container\">\n",
              "      <div>\n",
              "<style scoped>\n",
              "    .dataframe tbody tr th:only-of-type {\n",
              "        vertical-align: middle;\n",
              "    }\n",
              "\n",
              "    .dataframe tbody tr th {\n",
              "        vertical-align: top;\n",
              "    }\n",
              "\n",
              "    .dataframe thead th {\n",
              "        text-align: right;\n",
              "    }\n",
              "</style>\n",
              "<table border=\"1\" class=\"dataframe\">\n",
              "  <thead>\n",
              "    <tr style=\"text-align: right;\">\n",
              "      <th></th>\n",
              "      <th>Dimension of Matrix</th>\n",
              "      <th>Time duration</th>\n",
              "      <th>Time duration After TruncatedSVD</th>\n",
              "      <th>Acuuracy</th>\n",
              "      <th>Acuuracy After TruncatedSVD</th>\n",
              "    </tr>\n",
              "  </thead>\n",
              "  <tbody>\n",
              "    <tr>\n",
              "      <th>0</th>\n",
              "      <td>(10000, 20)</td>\n",
              "      <td>29.51</td>\n",
              "      <td>0.986</td>\n",
              "      <td>28.70</td>\n",
              "      <td>0.962</td>\n",
              "    </tr>\n",
              "    <tr>\n",
              "      <th>1</th>\n",
              "      <td>(10000, 100)</td>\n",
              "      <td>57.88</td>\n",
              "      <td>0.980</td>\n",
              "      <td>30.21</td>\n",
              "      <td>0.961</td>\n",
              "    </tr>\n",
              "    <tr>\n",
              "      <th>2</th>\n",
              "      <td>(10000, 500)</td>\n",
              "      <td>639.68</td>\n",
              "      <td>0.957</td>\n",
              "      <td>35.42</td>\n",
              "      <td>0.962</td>\n",
              "    </tr>\n",
              "    <tr>\n",
              "      <th>3</th>\n",
              "      <td>(10000, 1000)</td>\n",
              "      <td>1038.59</td>\n",
              "      <td>0.931</td>\n",
              "      <td>42.17</td>\n",
              "      <td>0.962</td>\n",
              "    </tr>\n",
              "  </tbody>\n",
              "</table>\n",
              "</div>\n",
              "      <button class=\"colab-df-convert\" onclick=\"convertToInteractive('df-163f979e-2b42-4a4b-9eea-706d0956045d')\"\n",
              "              title=\"Convert this dataframe to an interactive table.\"\n",
              "              style=\"display:none;\">\n",
              "        \n",
              "  <svg xmlns=\"http://www.w3.org/2000/svg\" height=\"24px\"viewBox=\"0 0 24 24\"\n",
              "       width=\"24px\">\n",
              "    <path d=\"M0 0h24v24H0V0z\" fill=\"none\"/>\n",
              "    <path d=\"M18.56 5.44l.94 2.06.94-2.06 2.06-.94-2.06-.94-.94-2.06-.94 2.06-2.06.94zm-11 1L8.5 8.5l.94-2.06 2.06-.94-2.06-.94L8.5 2.5l-.94 2.06-2.06.94zm10 10l.94 2.06.94-2.06 2.06-.94-2.06-.94-.94-2.06-.94 2.06-2.06.94z\"/><path d=\"M17.41 7.96l-1.37-1.37c-.4-.4-.92-.59-1.43-.59-.52 0-1.04.2-1.43.59L10.3 9.45l-7.72 7.72c-.78.78-.78 2.05 0 2.83L4 21.41c.39.39.9.59 1.41.59.51 0 1.02-.2 1.41-.59l7.78-7.78 2.81-2.81c.8-.78.8-2.07 0-2.86zM5.41 20L4 18.59l7.72-7.72 1.47 1.35L5.41 20z\"/>\n",
              "  </svg>\n",
              "      </button>\n",
              "      \n",
              "  <style>\n",
              "    .colab-df-container {\n",
              "      display:flex;\n",
              "      flex-wrap:wrap;\n",
              "      gap: 12px;\n",
              "    }\n",
              "\n",
              "    .colab-df-convert {\n",
              "      background-color: #E8F0FE;\n",
              "      border: none;\n",
              "      border-radius: 50%;\n",
              "      cursor: pointer;\n",
              "      display: none;\n",
              "      fill: #1967D2;\n",
              "      height: 32px;\n",
              "      padding: 0 0 0 0;\n",
              "      width: 32px;\n",
              "    }\n",
              "\n",
              "    .colab-df-convert:hover {\n",
              "      background-color: #E2EBFA;\n",
              "      box-shadow: 0px 1px 2px rgba(60, 64, 67, 0.3), 0px 1px 3px 1px rgba(60, 64, 67, 0.15);\n",
              "      fill: #174EA6;\n",
              "    }\n",
              "\n",
              "    [theme=dark] .colab-df-convert {\n",
              "      background-color: #3B4455;\n",
              "      fill: #D2E3FC;\n",
              "    }\n",
              "\n",
              "    [theme=dark] .colab-df-convert:hover {\n",
              "      background-color: #434B5C;\n",
              "      box-shadow: 0px 1px 3px 1px rgba(0, 0, 0, 0.15);\n",
              "      filter: drop-shadow(0px 1px 2px rgba(0, 0, 0, 0.3));\n",
              "      fill: #FFFFFF;\n",
              "    }\n",
              "  </style>\n",
              "\n",
              "      <script>\n",
              "        const buttonEl =\n",
              "          document.querySelector('#df-163f979e-2b42-4a4b-9eea-706d0956045d button.colab-df-convert');\n",
              "        buttonEl.style.display =\n",
              "          google.colab.kernel.accessAllowed ? 'block' : 'none';\n",
              "\n",
              "        async function convertToInteractive(key) {\n",
              "          const element = document.querySelector('#df-163f979e-2b42-4a4b-9eea-706d0956045d');\n",
              "          const dataTable =\n",
              "            await google.colab.kernel.invokeFunction('convertToInteractive',\n",
              "                                                     [key], {});\n",
              "          if (!dataTable) return;\n",
              "\n",
              "          const docLinkHtml = 'Like what you see? Visit the ' +\n",
              "            '<a target=\"_blank\" href=https://colab.research.google.com/notebooks/data_table.ipynb>data table notebook</a>'\n",
              "            + ' to learn more about interactive tables.';\n",
              "          element.innerHTML = '';\n",
              "          dataTable['output_type'] = 'display_data';\n",
              "          await google.colab.output.renderOutput(dataTable, element);\n",
              "          const docLink = document.createElement('div');\n",
              "          docLink.innerHTML = docLinkHtml;\n",
              "          element.appendChild(docLink);\n",
              "        }\n",
              "      </script>\n",
              "    </div>\n",
              "  </div>\n",
              "  "
            ]
          },
          "metadata": {},
          "execution_count": 81
        }
      ]
    },
    {
      "cell_type": "code",
      "source": [
        "def CUR(A, n): \n",
        "    A_sq = A ** 2\n",
        "    sum_A_sq = np.sum(A_sq)\n",
        "    sum_A_sq_0 = np.sum(A_sq, axis=0)\n",
        "    sum_A_sq_1 = np.sum(A_sq, axis=1)\n",
        "    \n",
        "    P_x_c = sum_A_sq_0 / sum_A_sq\n",
        "    P_x_r = sum_A_sq_1 / sum_A_sq\n",
        "    \n",
        "    r, c = A.shape\n",
        "    \n",
        "    c_index = [np.random.choice(np.arange(0, c), p=P_x_c) for i in range(n)]\n",
        "    r_index = [np.random.choice(np.arange(0, r), p=P_x_r) for i in range(n)]\n",
        "#     print(c_index, r_index)\n",
        "    C = A[:, c_index]\n",
        "    R = A[r_index, :]\n",
        "    W = C[r_index]\n",
        "#     print(C, R, W)\n",
        "\n",
        "    X, sigma, Y = linalg.svd(W, n)\n",
        "    for i in range(len(sigma)):\n",
        "        if sigma[i] == 0:\n",
        "            continue\n",
        "        else:\n",
        "            sigma[i] = 1 / sigma[i]\n",
        "    sigma = np.diag(sigma)\n",
        "    U = np.dot(np.dot(Y, sigma), X.T)\n",
        "    return np.dot(np.dot(C, U), R)"
      ],
      "metadata": {
        "id": "11OnTkgoeOzg"
      },
      "execution_count": 76,
      "outputs": []
    },
    {
      "cell_type": "code",
      "source": [
        "A = np.linspace(0, 14, 15).reshape((3, -1))\n",
        "A"
      ],
      "metadata": {
        "colab": {
          "base_uri": "https://localhost:8080/"
        },
        "id": "0RvR6iCle2zt",
        "outputId": "cc6fffab-c386-416b-dc00-0d4485f82e42"
      },
      "execution_count": 77,
      "outputs": [
        {
          "output_type": "execute_result",
          "data": {
            "text/plain": [
              "array([[ 0.,  1.,  2.,  3.,  4.],\n",
              "       [ 5.,  6.,  7.,  8.,  9.],\n",
              "       [10., 11., 12., 13., 14.]])"
            ]
          },
          "metadata": {},
          "execution_count": 77
        }
      ]
    },
    {
      "cell_type": "code",
      "source": [
        "CUR(A, 3)"
      ],
      "metadata": {
        "colab": {
          "base_uri": "https://localhost:8080/"
        },
        "id": "ckAwEZuFe4vs",
        "outputId": "7eb947fe-5c66-4515-ecf9-19eda449bc32"
      },
      "execution_count": 78,
      "outputs": [
        {
          "output_type": "execute_result",
          "data": {
            "text/plain": [
              "array([[0.9375 , 0.53125, 0.625  , 0.21875, 0.8125 ],\n",
              "       [1.875  , 2.0625 , 0.25   , 0.4375 , 1.625  ],\n",
              "       [1.75   , 3.625  , 4.5    , 3.375  , 4.25   ]])"
            ]
          },
          "metadata": {},
          "execution_count": 78
        }
      ]
    }
  ]
}