{
  "nbformat": 4,
  "nbformat_minor": 0,
  "metadata": {
    "colab": {
      "name": "clustering_datamining.ipynb",
      "provenance": [],
      "collapsed_sections": [],
      "authorship_tag": "ABX9TyNSvPFsoO4GqIkrlF9PgsNM",
      "include_colab_link": true
    },
    "kernelspec": {
      "name": "python3",
      "display_name": "Python 3"
    },
    "language_info": {
      "name": "python"
    }
  },
  "cells": [
    {
      "cell_type": "markdown",
      "metadata": {
        "id": "view-in-github",
        "colab_type": "text"
      },
      "source": [
        "<a href=\"https://colab.research.google.com/github/mojtabaSefidi/Dataminig-small-projects/blob/main/clustering_datamining.ipynb\" target=\"_parent\"><img src=\"https://colab.research.google.com/assets/colab-badge.svg\" alt=\"Open In Colab\"/></a>"
      ]
    },
    {
      "cell_type": "code",
      "execution_count": 2,
      "metadata": {
        "id": "TCPAJnbFX7KO"
      },
      "outputs": [],
      "source": [
        "from sklearn.cluster import AgglomerativeClustering ,OPTICS,Birch,DBSCAN,KMeans\n",
        "from sklearn.metrics import silhouette_score, davies_bouldin_score, calinski_harabasz_score\n",
        "from sklearn.mixture import GaussianMixture\n",
        "from sklearn.decomposition import PCA\n",
        "from sklearn.manifold import TSNE\n",
        "import matplotlib.pyplot as plt\n",
        "import seaborn as sn\n",
        "import pandas as pd\n",
        "import numpy as np\n",
        "sn.set()"
      ]
    },
    {
      "cell_type": "code",
      "source": [
        "!wget https://archive.ics.uci.edu/ml/machine-learning-databases/00512/AsianReligionsData.zip\n",
        "!unzip AsianReligionsData.zip"
      ],
      "metadata": {
        "colab": {
          "base_uri": "https://localhost:8080/"
        },
        "id": "tmEDD9ErY5i8",
        "outputId": "5ad0fd8b-400a-4fc7-e6ef-44dbdfc85da7"
      },
      "execution_count": null,
      "outputs": [
        {
          "output_type": "stream",
          "name": "stdout",
          "text": [
            "--2022-01-01 08:40:53--  https://archive.ics.uci.edu/ml/machine-learning-databases/00512/AsianReligionsData.zip\n",
            "Resolving archive.ics.uci.edu (archive.ics.uci.edu)... 128.195.10.252\n",
            "Connecting to archive.ics.uci.edu (archive.ics.uci.edu)|128.195.10.252|:443... connected.\n",
            "HTTP request sent, awaiting response... 200 OK\n",
            "Length: 644098 (629K) [application/x-httpd-php]\n",
            "Saving to: ‘AsianReligionsData.zip’\n",
            "\n",
            "AsianReligionsData. 100%[===================>] 629.00K  1.79MB/s    in 0.3s    \n",
            "\n",
            "2022-01-01 08:40:54 (1.79 MB/s) - ‘AsianReligionsData.zip’ saved [644098/644098]\n",
            "\n",
            "Archive:  AsianReligionsData.zip\n",
            "  inflating: AllBooks_baseline_DTM_Labelled.csv  \n",
            "  inflating: AllBooks_baseline_DTM_Unlabelled.csv  \n",
            "  inflating: Complete_data .txt      \n"
          ]
        }
      ]
    },
    {
      "cell_type": "code",
      "source": [
        "data = pd.read_csv('AllBooks_baseline_DTM_Unlabelled.csv')\n",
        "data = data.rename(columns={'# foolishness': 'foolishness'})\n",
        "data.head()"
      ],
      "metadata": {
        "colab": {
          "base_uri": "https://localhost:8080/",
          "height": 300
        },
        "id": "LiCe66lsZkps",
        "outputId": "7e059966-ef89-4546-a1ef-88b22db1c570"
      },
      "execution_count": 321,
      "outputs": [
        {
          "output_type": "execute_result",
          "data": {
            "text/html": [
              "\n",
              "  <div id=\"df-dbba1728-5c98-4cef-beda-5f368119be7a\">\n",
              "    <div class=\"colab-df-container\">\n",
              "      <div>\n",
              "<style scoped>\n",
              "    .dataframe tbody tr th:only-of-type {\n",
              "        vertical-align: middle;\n",
              "    }\n",
              "\n",
              "    .dataframe tbody tr th {\n",
              "        vertical-align: top;\n",
              "    }\n",
              "\n",
              "    .dataframe thead th {\n",
              "        text-align: right;\n",
              "    }\n",
              "</style>\n",
              "<table border=\"1\" class=\"dataframe\">\n",
              "  <thead>\n",
              "    <tr style=\"text-align: right;\">\n",
              "      <th></th>\n",
              "      <th>foolishness</th>\n",
              "      <th>hath</th>\n",
              "      <th>wholesome</th>\n",
              "      <th>takest</th>\n",
              "      <th>feelings</th>\n",
              "      <th>anger</th>\n",
              "      <th>vaivaswata</th>\n",
              "      <th>matrix</th>\n",
              "      <th>kindled</th>\n",
              "      <th>convict</th>\n",
              "      <th>diadem</th>\n",
              "      <th>rushed</th>\n",
              "      <th>saliva</th>\n",
              "      <th>revelation</th>\n",
              "      <th>indirectly</th>\n",
              "      <th>open</th>\n",
              "      <th>distortions</th>\n",
              "      <th>expecteth</th>\n",
              "      <th>perishing</th>\n",
              "      <th>rage</th>\n",
              "      <th>unbridled</th>\n",
              "      <th>looketh</th>\n",
              "      <th>washed</th>\n",
              "      <th>nursingmother</th>\n",
              "      <th>caper</th>\n",
              "      <th>prosperous</th>\n",
              "      <th>lightmindedness</th>\n",
              "      <th>imprisonment</th>\n",
              "      <th>maghavan</th>\n",
              "      <th>supported</th>\n",
              "      <th>distinctions</th>\n",
              "      <th>lambs</th>\n",
              "      <th>illumination</th>\n",
              "      <th>mercury</th>\n",
              "      <th>partakers</th>\n",
              "      <th>tell</th>\n",
              "      <th>build</th>\n",
              "      <th>neither</th>\n",
              "      <th>soft</th>\n",
              "      <th>detraction</th>\n",
              "      <th>...</th>\n",
              "      <th>budding</th>\n",
              "      <th>enjoyer</th>\n",
              "      <th>needs</th>\n",
              "      <th>sittest</th>\n",
              "      <th>eclipsed</th>\n",
              "      <th>engagement</th>\n",
              "      <th>exuberant</th>\n",
              "      <th>abandons</th>\n",
              "      <th>well</th>\n",
              "      <th>cheerfulness</th>\n",
              "      <th>hatest</th>\n",
              "      <th>state</th>\n",
              "      <th>stained</th>\n",
              "      <th>production</th>\n",
              "      <th>whitened</th>\n",
              "      <th>revered</th>\n",
              "      <th>developed</th>\n",
              "      <th>regarded</th>\n",
              "      <th>enactments</th>\n",
              "      <th>aromatical</th>\n",
              "      <th>admireth</th>\n",
              "      <th>foothold</th>\n",
              "      <th>shots</th>\n",
              "      <th>turner</th>\n",
              "      <th>inversion</th>\n",
              "      <th>lifeless</th>\n",
              "      <th>postponement</th>\n",
              "      <th>stout</th>\n",
              "      <th>taketh</th>\n",
              "      <th>kettle</th>\n",
              "      <th>erred</th>\n",
              "      <th>thinkest</th>\n",
              "      <th>modern</th>\n",
              "      <th>reigned</th>\n",
              "      <th>sparingly</th>\n",
              "      <th>visual</th>\n",
              "      <th>thoughts</th>\n",
              "      <th>illumines</th>\n",
              "      <th>attire</th>\n",
              "      <th>explains</th>\n",
              "    </tr>\n",
              "  </thead>\n",
              "  <tbody>\n",
              "    <tr>\n",
              "      <th>0</th>\n",
              "      <td>0.0</td>\n",
              "      <td>0.0</td>\n",
              "      <td>0.0</td>\n",
              "      <td>0.0</td>\n",
              "      <td>0.0</td>\n",
              "      <td>0.0</td>\n",
              "      <td>0.0</td>\n",
              "      <td>0.0</td>\n",
              "      <td>0.0</td>\n",
              "      <td>0.0</td>\n",
              "      <td>0.0</td>\n",
              "      <td>0.0</td>\n",
              "      <td>0.0</td>\n",
              "      <td>0.0</td>\n",
              "      <td>0.0</td>\n",
              "      <td>1.0</td>\n",
              "      <td>0.0</td>\n",
              "      <td>0.0</td>\n",
              "      <td>0.0</td>\n",
              "      <td>0.0</td>\n",
              "      <td>0.0</td>\n",
              "      <td>0.0</td>\n",
              "      <td>0.0</td>\n",
              "      <td>0.0</td>\n",
              "      <td>0.0</td>\n",
              "      <td>0.0</td>\n",
              "      <td>0.0</td>\n",
              "      <td>0.0</td>\n",
              "      <td>0.0</td>\n",
              "      <td>0.0</td>\n",
              "      <td>0.0</td>\n",
              "      <td>0.0</td>\n",
              "      <td>0.0</td>\n",
              "      <td>0.0</td>\n",
              "      <td>0.0</td>\n",
              "      <td>0.0</td>\n",
              "      <td>0.0</td>\n",
              "      <td>0.0</td>\n",
              "      <td>0.0</td>\n",
              "      <td>0.0</td>\n",
              "      <td>...</td>\n",
              "      <td>0.0</td>\n",
              "      <td>0.0</td>\n",
              "      <td>0.0</td>\n",
              "      <td>0.0</td>\n",
              "      <td>0.0</td>\n",
              "      <td>0.0</td>\n",
              "      <td>0.0</td>\n",
              "      <td>0.0</td>\n",
              "      <td>0.0</td>\n",
              "      <td>0.0</td>\n",
              "      <td>0.0</td>\n",
              "      <td>0.0</td>\n",
              "      <td>0.0</td>\n",
              "      <td>0.0</td>\n",
              "      <td>0.0</td>\n",
              "      <td>0.0</td>\n",
              "      <td>0.0</td>\n",
              "      <td>0.0</td>\n",
              "      <td>0.0</td>\n",
              "      <td>0.0</td>\n",
              "      <td>0.0</td>\n",
              "      <td>0.0</td>\n",
              "      <td>0.0</td>\n",
              "      <td>0.0</td>\n",
              "      <td>0.0</td>\n",
              "      <td>0.0</td>\n",
              "      <td>0.0</td>\n",
              "      <td>0.0</td>\n",
              "      <td>0.0</td>\n",
              "      <td>0.0</td>\n",
              "      <td>0.0</td>\n",
              "      <td>0.0</td>\n",
              "      <td>0.0</td>\n",
              "      <td>0.0</td>\n",
              "      <td>0.0</td>\n",
              "      <td>0.0</td>\n",
              "      <td>0.0</td>\n",
              "      <td>0.0</td>\n",
              "      <td>0.0</td>\n",
              "      <td>0.0</td>\n",
              "    </tr>\n",
              "    <tr>\n",
              "      <th>1</th>\n",
              "      <td>0.0</td>\n",
              "      <td>0.0</td>\n",
              "      <td>0.0</td>\n",
              "      <td>0.0</td>\n",
              "      <td>0.0</td>\n",
              "      <td>0.0</td>\n",
              "      <td>0.0</td>\n",
              "      <td>0.0</td>\n",
              "      <td>0.0</td>\n",
              "      <td>0.0</td>\n",
              "      <td>0.0</td>\n",
              "      <td>0.0</td>\n",
              "      <td>0.0</td>\n",
              "      <td>0.0</td>\n",
              "      <td>0.0</td>\n",
              "      <td>0.0</td>\n",
              "      <td>0.0</td>\n",
              "      <td>0.0</td>\n",
              "      <td>0.0</td>\n",
              "      <td>0.0</td>\n",
              "      <td>0.0</td>\n",
              "      <td>0.0</td>\n",
              "      <td>0.0</td>\n",
              "      <td>0.0</td>\n",
              "      <td>0.0</td>\n",
              "      <td>0.0</td>\n",
              "      <td>0.0</td>\n",
              "      <td>0.0</td>\n",
              "      <td>0.0</td>\n",
              "      <td>0.0</td>\n",
              "      <td>0.0</td>\n",
              "      <td>0.0</td>\n",
              "      <td>0.0</td>\n",
              "      <td>0.0</td>\n",
              "      <td>0.0</td>\n",
              "      <td>0.0</td>\n",
              "      <td>0.0</td>\n",
              "      <td>0.0</td>\n",
              "      <td>0.0</td>\n",
              "      <td>0.0</td>\n",
              "      <td>...</td>\n",
              "      <td>0.0</td>\n",
              "      <td>0.0</td>\n",
              "      <td>0.0</td>\n",
              "      <td>0.0</td>\n",
              "      <td>0.0</td>\n",
              "      <td>0.0</td>\n",
              "      <td>0.0</td>\n",
              "      <td>0.0</td>\n",
              "      <td>0.0</td>\n",
              "      <td>0.0</td>\n",
              "      <td>0.0</td>\n",
              "      <td>0.0</td>\n",
              "      <td>0.0</td>\n",
              "      <td>0.0</td>\n",
              "      <td>0.0</td>\n",
              "      <td>0.0</td>\n",
              "      <td>0.0</td>\n",
              "      <td>0.0</td>\n",
              "      <td>0.0</td>\n",
              "      <td>0.0</td>\n",
              "      <td>0.0</td>\n",
              "      <td>0.0</td>\n",
              "      <td>0.0</td>\n",
              "      <td>0.0</td>\n",
              "      <td>0.0</td>\n",
              "      <td>0.0</td>\n",
              "      <td>0.0</td>\n",
              "      <td>0.0</td>\n",
              "      <td>0.0</td>\n",
              "      <td>0.0</td>\n",
              "      <td>0.0</td>\n",
              "      <td>0.0</td>\n",
              "      <td>0.0</td>\n",
              "      <td>0.0</td>\n",
              "      <td>0.0</td>\n",
              "      <td>0.0</td>\n",
              "      <td>0.0</td>\n",
              "      <td>0.0</td>\n",
              "      <td>0.0</td>\n",
              "      <td>0.0</td>\n",
              "    </tr>\n",
              "    <tr>\n",
              "      <th>2</th>\n",
              "      <td>0.0</td>\n",
              "      <td>0.0</td>\n",
              "      <td>0.0</td>\n",
              "      <td>0.0</td>\n",
              "      <td>0.0</td>\n",
              "      <td>0.0</td>\n",
              "      <td>0.0</td>\n",
              "      <td>0.0</td>\n",
              "      <td>0.0</td>\n",
              "      <td>0.0</td>\n",
              "      <td>0.0</td>\n",
              "      <td>0.0</td>\n",
              "      <td>0.0</td>\n",
              "      <td>0.0</td>\n",
              "      <td>0.0</td>\n",
              "      <td>0.0</td>\n",
              "      <td>0.0</td>\n",
              "      <td>0.0</td>\n",
              "      <td>0.0</td>\n",
              "      <td>0.0</td>\n",
              "      <td>0.0</td>\n",
              "      <td>0.0</td>\n",
              "      <td>0.0</td>\n",
              "      <td>0.0</td>\n",
              "      <td>0.0</td>\n",
              "      <td>0.0</td>\n",
              "      <td>0.0</td>\n",
              "      <td>0.0</td>\n",
              "      <td>0.0</td>\n",
              "      <td>0.0</td>\n",
              "      <td>0.0</td>\n",
              "      <td>0.0</td>\n",
              "      <td>0.0</td>\n",
              "      <td>0.0</td>\n",
              "      <td>0.0</td>\n",
              "      <td>1.0</td>\n",
              "      <td>0.0</td>\n",
              "      <td>0.0</td>\n",
              "      <td>0.0</td>\n",
              "      <td>0.0</td>\n",
              "      <td>...</td>\n",
              "      <td>0.0</td>\n",
              "      <td>0.0</td>\n",
              "      <td>0.0</td>\n",
              "      <td>0.0</td>\n",
              "      <td>0.0</td>\n",
              "      <td>0.0</td>\n",
              "      <td>0.0</td>\n",
              "      <td>0.0</td>\n",
              "      <td>0.0</td>\n",
              "      <td>0.0</td>\n",
              "      <td>0.0</td>\n",
              "      <td>0.0</td>\n",
              "      <td>0.0</td>\n",
              "      <td>0.0</td>\n",
              "      <td>0.0</td>\n",
              "      <td>0.0</td>\n",
              "      <td>0.0</td>\n",
              "      <td>0.0</td>\n",
              "      <td>0.0</td>\n",
              "      <td>0.0</td>\n",
              "      <td>0.0</td>\n",
              "      <td>0.0</td>\n",
              "      <td>0.0</td>\n",
              "      <td>0.0</td>\n",
              "      <td>0.0</td>\n",
              "      <td>0.0</td>\n",
              "      <td>0.0</td>\n",
              "      <td>0.0</td>\n",
              "      <td>0.0</td>\n",
              "      <td>0.0</td>\n",
              "      <td>0.0</td>\n",
              "      <td>0.0</td>\n",
              "      <td>0.0</td>\n",
              "      <td>0.0</td>\n",
              "      <td>0.0</td>\n",
              "      <td>0.0</td>\n",
              "      <td>0.0</td>\n",
              "      <td>0.0</td>\n",
              "      <td>0.0</td>\n",
              "      <td>0.0</td>\n",
              "    </tr>\n",
              "    <tr>\n",
              "      <th>3</th>\n",
              "      <td>0.0</td>\n",
              "      <td>0.0</td>\n",
              "      <td>0.0</td>\n",
              "      <td>0.0</td>\n",
              "      <td>0.0</td>\n",
              "      <td>0.0</td>\n",
              "      <td>0.0</td>\n",
              "      <td>0.0</td>\n",
              "      <td>0.0</td>\n",
              "      <td>0.0</td>\n",
              "      <td>0.0</td>\n",
              "      <td>0.0</td>\n",
              "      <td>0.0</td>\n",
              "      <td>0.0</td>\n",
              "      <td>0.0</td>\n",
              "      <td>0.0</td>\n",
              "      <td>0.0</td>\n",
              "      <td>0.0</td>\n",
              "      <td>0.0</td>\n",
              "      <td>0.0</td>\n",
              "      <td>0.0</td>\n",
              "      <td>0.0</td>\n",
              "      <td>0.0</td>\n",
              "      <td>0.0</td>\n",
              "      <td>0.0</td>\n",
              "      <td>0.0</td>\n",
              "      <td>0.0</td>\n",
              "      <td>0.0</td>\n",
              "      <td>0.0</td>\n",
              "      <td>0.0</td>\n",
              "      <td>0.0</td>\n",
              "      <td>0.0</td>\n",
              "      <td>1.0</td>\n",
              "      <td>0.0</td>\n",
              "      <td>0.0</td>\n",
              "      <td>0.0</td>\n",
              "      <td>0.0</td>\n",
              "      <td>0.0</td>\n",
              "      <td>0.0</td>\n",
              "      <td>0.0</td>\n",
              "      <td>...</td>\n",
              "      <td>0.0</td>\n",
              "      <td>0.0</td>\n",
              "      <td>0.0</td>\n",
              "      <td>0.0</td>\n",
              "      <td>0.0</td>\n",
              "      <td>0.0</td>\n",
              "      <td>0.0</td>\n",
              "      <td>0.0</td>\n",
              "      <td>0.0</td>\n",
              "      <td>0.0</td>\n",
              "      <td>0.0</td>\n",
              "      <td>0.0</td>\n",
              "      <td>0.0</td>\n",
              "      <td>0.0</td>\n",
              "      <td>0.0</td>\n",
              "      <td>0.0</td>\n",
              "      <td>2.0</td>\n",
              "      <td>0.0</td>\n",
              "      <td>0.0</td>\n",
              "      <td>0.0</td>\n",
              "      <td>0.0</td>\n",
              "      <td>0.0</td>\n",
              "      <td>0.0</td>\n",
              "      <td>0.0</td>\n",
              "      <td>0.0</td>\n",
              "      <td>0.0</td>\n",
              "      <td>0.0</td>\n",
              "      <td>0.0</td>\n",
              "      <td>0.0</td>\n",
              "      <td>0.0</td>\n",
              "      <td>0.0</td>\n",
              "      <td>0.0</td>\n",
              "      <td>0.0</td>\n",
              "      <td>0.0</td>\n",
              "      <td>0.0</td>\n",
              "      <td>0.0</td>\n",
              "      <td>0.0</td>\n",
              "      <td>0.0</td>\n",
              "      <td>0.0</td>\n",
              "      <td>0.0</td>\n",
              "    </tr>\n",
              "    <tr>\n",
              "      <th>4</th>\n",
              "      <td>0.0</td>\n",
              "      <td>0.0</td>\n",
              "      <td>0.0</td>\n",
              "      <td>0.0</td>\n",
              "      <td>0.0</td>\n",
              "      <td>0.0</td>\n",
              "      <td>0.0</td>\n",
              "      <td>0.0</td>\n",
              "      <td>0.0</td>\n",
              "      <td>0.0</td>\n",
              "      <td>0.0</td>\n",
              "      <td>0.0</td>\n",
              "      <td>0.0</td>\n",
              "      <td>0.0</td>\n",
              "      <td>0.0</td>\n",
              "      <td>0.0</td>\n",
              "      <td>0.0</td>\n",
              "      <td>0.0</td>\n",
              "      <td>0.0</td>\n",
              "      <td>0.0</td>\n",
              "      <td>0.0</td>\n",
              "      <td>0.0</td>\n",
              "      <td>0.0</td>\n",
              "      <td>0.0</td>\n",
              "      <td>0.0</td>\n",
              "      <td>0.0</td>\n",
              "      <td>0.0</td>\n",
              "      <td>0.0</td>\n",
              "      <td>0.0</td>\n",
              "      <td>0.0</td>\n",
              "      <td>0.0</td>\n",
              "      <td>0.0</td>\n",
              "      <td>0.0</td>\n",
              "      <td>0.0</td>\n",
              "      <td>0.0</td>\n",
              "      <td>0.0</td>\n",
              "      <td>0.0</td>\n",
              "      <td>0.0</td>\n",
              "      <td>0.0</td>\n",
              "      <td>0.0</td>\n",
              "      <td>...</td>\n",
              "      <td>0.0</td>\n",
              "      <td>0.0</td>\n",
              "      <td>0.0</td>\n",
              "      <td>0.0</td>\n",
              "      <td>0.0</td>\n",
              "      <td>0.0</td>\n",
              "      <td>0.0</td>\n",
              "      <td>0.0</td>\n",
              "      <td>0.0</td>\n",
              "      <td>0.0</td>\n",
              "      <td>0.0</td>\n",
              "      <td>0.0</td>\n",
              "      <td>0.0</td>\n",
              "      <td>0.0</td>\n",
              "      <td>0.0</td>\n",
              "      <td>0.0</td>\n",
              "      <td>0.0</td>\n",
              "      <td>0.0</td>\n",
              "      <td>0.0</td>\n",
              "      <td>0.0</td>\n",
              "      <td>0.0</td>\n",
              "      <td>0.0</td>\n",
              "      <td>0.0</td>\n",
              "      <td>0.0</td>\n",
              "      <td>0.0</td>\n",
              "      <td>0.0</td>\n",
              "      <td>0.0</td>\n",
              "      <td>0.0</td>\n",
              "      <td>0.0</td>\n",
              "      <td>0.0</td>\n",
              "      <td>0.0</td>\n",
              "      <td>0.0</td>\n",
              "      <td>0.0</td>\n",
              "      <td>0.0</td>\n",
              "      <td>0.0</td>\n",
              "      <td>0.0</td>\n",
              "      <td>0.0</td>\n",
              "      <td>0.0</td>\n",
              "      <td>0.0</td>\n",
              "      <td>0.0</td>\n",
              "    </tr>\n",
              "  </tbody>\n",
              "</table>\n",
              "<p>5 rows × 8266 columns</p>\n",
              "</div>\n",
              "      <button class=\"colab-df-convert\" onclick=\"convertToInteractive('df-dbba1728-5c98-4cef-beda-5f368119be7a')\"\n",
              "              title=\"Convert this dataframe to an interactive table.\"\n",
              "              style=\"display:none;\">\n",
              "        \n",
              "  <svg xmlns=\"http://www.w3.org/2000/svg\" height=\"24px\"viewBox=\"0 0 24 24\"\n",
              "       width=\"24px\">\n",
              "    <path d=\"M0 0h24v24H0V0z\" fill=\"none\"/>\n",
              "    <path d=\"M18.56 5.44l.94 2.06.94-2.06 2.06-.94-2.06-.94-.94-2.06-.94 2.06-2.06.94zm-11 1L8.5 8.5l.94-2.06 2.06-.94-2.06-.94L8.5 2.5l-.94 2.06-2.06.94zm10 10l.94 2.06.94-2.06 2.06-.94-2.06-.94-.94-2.06-.94 2.06-2.06.94z\"/><path d=\"M17.41 7.96l-1.37-1.37c-.4-.4-.92-.59-1.43-.59-.52 0-1.04.2-1.43.59L10.3 9.45l-7.72 7.72c-.78.78-.78 2.05 0 2.83L4 21.41c.39.39.9.59 1.41.59.51 0 1.02-.2 1.41-.59l7.78-7.78 2.81-2.81c.8-.78.8-2.07 0-2.86zM5.41 20L4 18.59l7.72-7.72 1.47 1.35L5.41 20z\"/>\n",
              "  </svg>\n",
              "      </button>\n",
              "      \n",
              "  <style>\n",
              "    .colab-df-container {\n",
              "      display:flex;\n",
              "      flex-wrap:wrap;\n",
              "      gap: 12px;\n",
              "    }\n",
              "\n",
              "    .colab-df-convert {\n",
              "      background-color: #E8F0FE;\n",
              "      border: none;\n",
              "      border-radius: 50%;\n",
              "      cursor: pointer;\n",
              "      display: none;\n",
              "      fill: #1967D2;\n",
              "      height: 32px;\n",
              "      padding: 0 0 0 0;\n",
              "      width: 32px;\n",
              "    }\n",
              "\n",
              "    .colab-df-convert:hover {\n",
              "      background-color: #E2EBFA;\n",
              "      box-shadow: 0px 1px 2px rgba(60, 64, 67, 0.3), 0px 1px 3px 1px rgba(60, 64, 67, 0.15);\n",
              "      fill: #174EA6;\n",
              "    }\n",
              "\n",
              "    [theme=dark] .colab-df-convert {\n",
              "      background-color: #3B4455;\n",
              "      fill: #D2E3FC;\n",
              "    }\n",
              "\n",
              "    [theme=dark] .colab-df-convert:hover {\n",
              "      background-color: #434B5C;\n",
              "      box-shadow: 0px 1px 3px 1px rgba(0, 0, 0, 0.15);\n",
              "      filter: drop-shadow(0px 1px 2px rgba(0, 0, 0, 0.3));\n",
              "      fill: #FFFFFF;\n",
              "    }\n",
              "  </style>\n",
              "\n",
              "      <script>\n",
              "        const buttonEl =\n",
              "          document.querySelector('#df-dbba1728-5c98-4cef-beda-5f368119be7a button.colab-df-convert');\n",
              "        buttonEl.style.display =\n",
              "          google.colab.kernel.accessAllowed ? 'block' : 'none';\n",
              "\n",
              "        async function convertToInteractive(key) {\n",
              "          const element = document.querySelector('#df-dbba1728-5c98-4cef-beda-5f368119be7a');\n",
              "          const dataTable =\n",
              "            await google.colab.kernel.invokeFunction('convertToInteractive',\n",
              "                                                     [key], {});\n",
              "          if (!dataTable) return;\n",
              "\n",
              "          const docLinkHtml = 'Like what you see? Visit the ' +\n",
              "            '<a target=\"_blank\" href=https://colab.research.google.com/notebooks/data_table.ipynb>data table notebook</a>'\n",
              "            + ' to learn more about interactive tables.';\n",
              "          element.innerHTML = '';\n",
              "          dataTable['output_type'] = 'display_data';\n",
              "          await google.colab.output.renderOutput(dataTable, element);\n",
              "          const docLink = document.createElement('div');\n",
              "          docLink.innerHTML = docLinkHtml;\n",
              "          element.appendChild(docLink);\n",
              "        }\n",
              "      </script>\n",
              "    </div>\n",
              "  </div>\n",
              "  "
            ],
            "text/plain": [
              "   foolishness  hath  wholesome  takest  ...  thoughts  illumines  attire  explains\n",
              "0          0.0   0.0        0.0     0.0  ...       0.0        0.0     0.0       0.0\n",
              "1          0.0   0.0        0.0     0.0  ...       0.0        0.0     0.0       0.0\n",
              "2          0.0   0.0        0.0     0.0  ...       0.0        0.0     0.0       0.0\n",
              "3          0.0   0.0        0.0     0.0  ...       0.0        0.0     0.0       0.0\n",
              "4          0.0   0.0        0.0     0.0  ...       0.0        0.0     0.0       0.0\n",
              "\n",
              "[5 rows x 8266 columns]"
            ]
          },
          "metadata": {},
          "execution_count": 321
        }
      ]
    },
    {
      "cell_type": "code",
      "source": [
        "plt.figure(figsize=(12,4))\n",
        "plt.xlabel('Words')\n",
        "plt.ylabel('Occurance')\n",
        "plt.title('The most frequent words')\n",
        "data.sum(axis=0).sort_values(ascending=False).iloc[:25].plot(kind = 'bar',color='#85FF00')"
      ],
      "metadata": {
        "colab": {
          "base_uri": "https://localhost:8080/",
          "height": 368
        },
        "id": "WOShFWMYZ2rn",
        "outputId": "d4d08b5e-8dbd-4af1-fc74-8ec598ecd3d0"
      },
      "execution_count": 322,
      "outputs": [
        {
          "output_type": "execute_result",
          "data": {
            "text/plain": [
              "<matplotlib.axes._subplots.AxesSubplot at 0x7ffaa4876ad0>"
            ]
          },
          "metadata": {},
          "execution_count": 322
        },
        {
          "output_type": "display_data",
          "data": {
            "image/png": "[encoded data removed]",
            "text/plain": [
              "<Figure size 864x288 with 1 Axes>"
            ]
          },
          "metadata": {}
        }
      ]
    },
    {
      "cell_type": "code",
      "source": [
        "plt.figure(figsize=(12,4))\n",
        "plt.xlabel('Words')\n",
        "plt.ylabel('Occurance')\n",
        "plt.title('The Least frequent words')\n",
        "data.sum(axis=0).sort_values(ascending=False).iloc[-25:].plot(kind = 'bar',color='cyan')"
      ],
      "metadata": {
        "colab": {
          "base_uri": "https://localhost:8080/",
          "height": 392
        },
        "id": "-ISXaNM60Krn",
        "outputId": "5741d16e-1fc9-45cd-959a-e437802b35ff"
      },
      "execution_count": 323,
      "outputs": [
        {
          "output_type": "execute_result",
          "data": {
            "text/plain": [
              "<matplotlib.axes._subplots.AxesSubplot at 0x7ffaa40427d0>"
            ]
          },
          "metadata": {},
          "execution_count": 323
        },
        {
          "output_type": "display_data",
          "data": {
            "image/png": "[encoded data removed]",
            "text/plain": [
              "<Figure size 864x288 with 1 Axes>"
            ]
          },
          "metadata": {}
        }
      ]
    },
    {
      "cell_type": "code",
      "source": [
        "print('80% of words occur less than',np.percentile(data.sum(axis=0).sort_values(ascending=False),80),'times')\n",
        "print('60% of words occur less than',np.percentile(data.sum(axis=0).sort_values(ascending=False),60),'times')\n",
        "print('50% of words occur less than',np.percentile(data.sum(axis=0).sort_values(ascending=False),50),'times')\n",
        "print('The avarage occurance of the words is',int(data.sum(axis=0).sort_values(ascending=False).mean()),'times')"
      ],
      "metadata": {
        "colab": {
          "base_uri": "https://localhost:8080/"
        },
        "id": "Ycx6xURFAcT0",
        "outputId": "64fe2c36-df67-4372-a06c-2049a5fab859"
      },
      "execution_count": 459,
      "outputs": [
        {
          "output_type": "stream",
          "name": "stdout",
          "text": [
            "80% of words occur less than 6.0 times\n",
            "60% of words occur less than 3.0 times\n",
            "50% of words occur less than 2.0 times\n",
            "The avarage occurance of the words is 7 times\n"
          ]
        }
      ]
    },
    {
      "cell_type": "code",
      "source": [
        "Q1 = np.percentile(data.sum(axis=0).sort_values(ascending=False),80)\n",
        "Q2 = np.percentile(data.sum(axis=0).sort_values(ascending=False),60)\n",
        "dataQ1 = data.sum(axis=0).sort_values(ascending=False)<Q1\n",
        "dataQ2 = data.sum(axis=0).sort_values(ascending=False)>Q2\n",
        "condition = np.logical_and(dataQ1 , dataQ2).to_numpy()\n",
        "condition"
      ],
      "metadata": {
        "id": "Icm4vAF1bTSu",
        "colab": {
          "base_uri": "https://localhost:8080/"
        },
        "outputId": "ba617290-7a12-4e26-a0fe-fcd22c38620d"
      },
      "execution_count": 325,
      "outputs": [
        {
          "output_type": "execute_result",
          "data": {
            "text/plain": [
              "array([False, False, False, ..., False, False, False])"
            ]
          },
          "metadata": {},
          "execution_count": 325
        }
      ]
    },
    {
      "cell_type": "code",
      "source": [
        "dataset  = data.loc[:, condition]\n",
        "clustered_data = dataset.copy()\n",
        "dataset.shape"
      ],
      "metadata": {
        "colab": {
          "base_uri": "https://localhost:8080/"
        },
        "id": "l9zq_15aCAbQ",
        "outputId": "5fc03b87-f09a-4aad-e292-2e45f7aa4e5d"
      },
      "execution_count": 326,
      "outputs": [
        {
          "output_type": "execute_result",
          "data": {
            "text/plain": [
              "(590, 757)"
            ]
          },
          "metadata": {},
          "execution_count": 326
        }
      ]
    },
    {
      "cell_type": "code",
      "source": [
        "Kmeans_model = KMeans(8,random_state=1)\n",
        "Kmeans_model.fit(dataset)\n",
        "clustered_data[\"Kmeans_clusters\"] = Kmeans_model.fit_predict(dataset)\n",
        "\n",
        "print('Clustering Evaluation based on silhouette score score :',silhouette_score(dataset, clustered_data[\"Kmeans_clusters\"],metric='euclidean').round(2))\n",
        "print('Clustering Evaluation based on dunn_index score :',davies_bouldin_score(dataset, clustered_data[\"Kmeans_clusters\"]).round(2))\n",
        "print('Clustering Evaluation based on calinski_harabasz score :',calinski_harabasz_score(dataset, clustered_data[\"Kmeans_clusters\"]).round(2))"
      ],
      "metadata": {
        "colab": {
          "base_uri": "https://localhost:8080/"
        },
        "id": "PTgOgJlQVYoY",
        "outputId": "dd5d5836-89b4-4c55-e75b-385a24e3ae3b"
      },
      "execution_count": 327,
      "outputs": [
        {
          "output_type": "stream",
          "name": "stdout",
          "text": [
            "Clustering Evaluation based on silhouette score score : 0.39\n",
            "Clustering Evaluation based on dunn_index score : 1.51\n",
            "Clustering Evaluation based on calinski_harabasz score : 160.84\n"
          ]
        }
      ]
    },
    {
      "cell_type": "code",
      "source": [
        "GM_model = GaussianMixture(n_components=8,random_state=1)\n",
        "GM_model.fit(dataset)\n",
        "clustered_data[\"GM_clusters\"] = GM_model.predict(dataset)\n",
        "\n",
        "print('Clustering Evaluation based on silhouette score score :',silhouette_score(dataset, clustered_data[\"GM_clusters\"],metric='euclidean').round(2))\n",
        "print('Clustering Evaluation based on dunn_index score :',davies_bouldin_score(dataset, clustered_data[\"GM_clusters\"]).round(2))\n",
        "print('Clustering Evaluation based on calinski_harabasz score :',calinski_harabasz_score(dataset, clustered_data[\"GM_clusters\"]).round(2))"
      ],
      "metadata": {
        "colab": {
          "base_uri": "https://localhost:8080/"
        },
        "id": "S_YzQwiBF_C7",
        "outputId": "40c4e9c8-24c6-4914-b4a3-cc65ec32476f"
      },
      "execution_count": 328,
      "outputs": [
        {
          "output_type": "stream",
          "name": "stdout",
          "text": [
            "Clustering Evaluation based on silhouette score score : 0.45\n",
            "Clustering Evaluation based on dunn_index score : 1.37\n",
            "Clustering Evaluation based on calinski_harabasz score : 157.99\n"
          ]
        }
      ]
    },
    {
      "cell_type": "code",
      "source": [
        "Hierarchical_model = AgglomerativeClustering(n_clusters=8)\n",
        "clustered_data[\"Hierarchical_clusters\"] = Hierarchical_model.fit_predict(dataset)\n",
        "\n",
        "print('Clustering Evaluation based on silhouette score score :',silhouette_score(dataset, clustered_data[\"Hierarchical_clusters\"],metric='euclidean').round(2))\n",
        "print('Clustering Evaluation based on dunn_index score :',davies_bouldin_score(dataset, clustered_data[\"Hierarchical_clusters\"]).round(2))\n",
        "print('Clustering Evaluation based on calinski_harabasz score :',calinski_harabasz_score(dataset, clustered_data[\"Hierarchical_clusters\"]).round(2))"
      ],
      "metadata": {
        "colab": {
          "base_uri": "https://localhost:8080/"
        },
        "id": "vYnlhDpcfa4y",
        "outputId": "8b6654d5-e3c8-4244-ac73-ade1352b4cbc"
      },
      "execution_count": 329,
      "outputs": [
        {
          "output_type": "stream",
          "name": "stdout",
          "text": [
            "Clustering Evaluation based on silhouette score score : 0.31\n",
            "Clustering Evaluation based on dunn_index score : 1.56\n",
            "Clustering Evaluation based on calinski_harabasz score : 159.49\n"
          ]
        }
      ]
    },
    {
      "cell_type": "code",
      "source": [
        "birch_model = Birch(n_clusters=8)\n",
        "clustered_data[\"birch_clusters\"] = birch_model.fit_predict(dataset)\n",
        "\n",
        "print('Clustering Evaluation based on silhouette score score :',silhouette_score(dataset, clustered_data[\"birch_clusters\"],metric='euclidean').round(2))\n",
        "print('Clustering Evaluation based on dunn_index score :',davies_bouldin_score(dataset, clustered_data[\"birch_clusters\"]).round(2))\n",
        "print('Clustering Evaluation based on calinski_harabasz score :',calinski_harabasz_score(dataset, clustered_data[\"birch_clusters\"]).round(2))\n",
        "print()"
      ],
      "metadata": {
        "colab": {
          "base_uri": "https://localhost:8080/"
        },
        "id": "zJZI116yf_55",
        "outputId": "b1d1ac26-39d2-4eb7-fe44-c663f6ca7b56"
      },
      "execution_count": 330,
      "outputs": [
        {
          "output_type": "stream",
          "name": "stdout",
          "text": [
            "Clustering Evaluation based on silhouette score score : 0.3\n",
            "Clustering Evaluation based on dunn_index score : 1.57\n",
            "Clustering Evaluation based on calinski_harabasz score : 159.48\n",
            "\n"
          ]
        },
        {
          "output_type": "stream",
          "name": "stderr",
          "text": [
            "/usr/local/lib/python3.7/dist-packages/sklearn/base.py:446: UserWarning: X does not have valid feature names, but Birch was fitted with feature names\n",
            "  \"X does not have valid feature names, but\"\n"
          ]
        }
      ]
    },
    {
      "cell_type": "markdown",
      "source": [
        "Shuffle dataset"
      ],
      "metadata": {
        "id": "2gdc31SsfbxE"
      }
    },
    {
      "cell_type": "code",
      "source": [
        "new_dataset = dataset.sample(frac=1)\n",
        "clustered_shuffle_data = new_dataset.copy()\n"
      ],
      "metadata": {
        "id": "YUGvUszZZKj0"
      },
      "execution_count": 331,
      "outputs": []
    },
    {
      "cell_type": "code",
      "source": [
        "Kmeans_model = KMeans(8,random_state=1)\n",
        "Kmeans_model.fit(new_dataset)\n",
        "clustered_shuffle_data[\"Kmeans_clusters\"] = Kmeans_model.fit_predict(new_dataset)\n",
        "\n",
        "print('Clustering Evaluation based on silhouette score score :',silhouette_score(new_dataset, clustered_shuffle_data[\"Kmeans_clusters\"],metric='euclidean').round(2))\n",
        "print('Clustering Evaluation based on dunn_index score :',davies_bouldin_score(new_dataset, clustered_shuffle_data[\"Kmeans_clusters\"]).round(2))\n",
        "print('Clustering Evaluation based on calinski_harabasz score :',calinski_harabasz_score(new_dataset, clustered_shuffle_data[\"Kmeans_clusters\"]).round(2))"
      ],
      "metadata": {
        "colab": {
          "base_uri": "https://localhost:8080/"
        },
        "id": "zV3E_3cyXMzq",
        "outputId": "84aae0b9-83f3-40e9-e5a5-4fd3b672b207"
      },
      "execution_count": 332,
      "outputs": [
        {
          "output_type": "stream",
          "name": "stdout",
          "text": [
            "Clustering Evaluation based on silhouette score score : 0.47\n",
            "Clustering Evaluation based on dunn_index score : 1.29\n",
            "Clustering Evaluation based on calinski_harabasz score : 162.74\n"
          ]
        }
      ]
    },
    {
      "cell_type": "code",
      "source": [
        "GM_model = GaussianMixture(n_components=8,random_state=1)\n",
        "GM_model.fit(new_dataset)\n",
        "clustered_shuffle_data[\"GM_clusters\"] = GM_model.predict(new_dataset)\n",
        "\n",
        "print('Clustering Evaluation based on silhouette score score :',silhouette_score(new_dataset, clustered_shuffle_data[\"GM_clusters\"],metric='euclidean').round(2))\n",
        "print('Clustering Evaluation based on dunn_index score :',davies_bouldin_score(new_dataset, clustered_shuffle_data[\"GM_clusters\"]).round(2))\n",
        "print('Clustering Evaluation based on calinski_harabasz score :',calinski_harabasz_score(new_dataset, clustered_shuffle_data[\"GM_clusters\"]).round(2))"
      ],
      "metadata": {
        "colab": {
          "base_uri": "https://localhost:8080/"
        },
        "id": "ic5f9KxLYtfu",
        "outputId": "778d68cc-e586-4457-9ab6-a396c81d00f6"
      },
      "execution_count": 333,
      "outputs": [
        {
          "output_type": "stream",
          "name": "stdout",
          "text": [
            "Clustering Evaluation based on silhouette score score : 0.39\n",
            "Clustering Evaluation based on dunn_index score : 1.34\n",
            "Clustering Evaluation based on calinski_harabasz score : 157.71\n"
          ]
        }
      ]
    },
    {
      "cell_type": "code",
      "source": [
        "Hierarchical_model = AgglomerativeClustering(n_clusters=8)\n",
        "clustered_shuffle_data[\"Hierarchical_clusters\"] = Hierarchical_model.fit_predict(new_dataset)\n",
        "\n",
        "print('Clustering Evaluation based on silhouette score score :',silhouette_score(new_dataset, clustered_shuffle_data[\"Hierarchical_clusters\"],metric='euclidean').round(2))\n",
        "print('Clustering Evaluation based on dunn_index score :',davies_bouldin_score(new_dataset, clustered_shuffle_data[\"Hierarchical_clusters\"]).round(2))\n",
        "print('Clustering Evaluation based on calinski_harabasz score :',calinski_harabasz_score(new_dataset, clustered_shuffle_data[\"Hierarchical_clusters\"]).round(2))"
      ],
      "metadata": {
        "colab": {
          "base_uri": "https://localhost:8080/"
        },
        "id": "XgIiIGaafUBz",
        "outputId": "aa9125a9-c1b5-43a8-bd96-10fccae2b789"
      },
      "execution_count": 334,
      "outputs": [
        {
          "output_type": "stream",
          "name": "stdout",
          "text": [
            "Clustering Evaluation based on silhouette score score : 0.45\n",
            "Clustering Evaluation based on dunn_index score : 1.22\n",
            "Clustering Evaluation based on calinski_harabasz score : 159.6\n"
          ]
        }
      ]
    },
    {
      "cell_type": "code",
      "source": [
        "birch_model = Birch(n_clusters=8)\n",
        "clustered_shuffle_data[\"birch_clusters\"] = birch_model.fit_predict(new_dataset)\n",
        "\n",
        "print('Clustering Evaluation based on silhouette score score :',silhouette_score(new_dataset, clustered_shuffle_data[\"birch_clusters\"],metric='euclidean').round(2))\n",
        "print('Clustering Evaluation based on dunn_index score :',davies_bouldin_score(new_dataset, clustered_shuffle_data[\"birch_clusters\"]).round(2))\n",
        "print('Clustering Evaluation based on calinski_harabasz score :',calinski_harabasz_score(new_dataset, clustered_shuffle_data[\"birch_clusters\"]).round(2))\n",
        "print()"
      ],
      "metadata": {
        "colab": {
          "base_uri": "https://localhost:8080/"
        },
        "id": "zvbJUBPFgcfI",
        "outputId": "c5b2ba56-3677-4cba-8e47-4a9fb331d2d0"
      },
      "execution_count": 335,
      "outputs": [
        {
          "output_type": "stream",
          "name": "stdout",
          "text": [
            "Clustering Evaluation based on silhouette score score : 0.3\n",
            "Clustering Evaluation based on dunn_index score : 1.57\n",
            "Clustering Evaluation based on calinski_harabasz score : 159.48\n",
            "\n"
          ]
        },
        {
          "output_type": "stream",
          "name": "stderr",
          "text": [
            "/usr/local/lib/python3.7/dist-packages/sklearn/base.py:446: UserWarning: X does not have valid feature names, but Birch was fitted with feature names\n",
            "  \"X does not have valid feature names, but\"\n"
          ]
        }
      ]
    },
    {
      "cell_type": "markdown",
      "source": [
        "Dimonsionality reduction using PCA\n"
      ],
      "metadata": {
        "id": "XVoNUQ0tfixy"
      }
    },
    {
      "cell_type": "code",
      "source": [
        "clustered_data_pca = data.copy()\n",
        "pca = PCA(2)\n",
        "pca_result = pca.fit_transform(data)\n",
        "print(pca.explained_variance_ratio_)\n"
      ],
      "metadata": {
        "colab": {
          "base_uri": "https://localhost:8080/"
        },
        "id": "EeiZyvfcQ-p0",
        "outputId": "2da80b8b-2d18-49b9-f953-2557d0cbab0e"
      },
      "execution_count": 412,
      "outputs": [
        {
          "output_type": "stream",
          "name": "stdout",
          "text": [
            "[0.16802291 0.10736928]\n"
          ]
        }
      ]
    },
    {
      "cell_type": "code",
      "source": [
        "Kmeans_model = KMeans(8,random_state=1)\n",
        "Kmeans_model.fit(pca_result)\n",
        "clustered_data_pca[\"Kmeans_clusters\"] = Kmeans_model.fit_predict(pca_result)\n",
        "\n",
        "print('Clustering Evaluation based on silhouette score score :',silhouette_score(pca_result, clustered_data_pca[\"Kmeans_clusters\"],metric='euclidean').round(2))\n",
        "print('Clustering Evaluation based on dunn_index score :',davies_bouldin_score(pca_result, clustered_data_pca[\"Kmeans_clusters\"]).round(2))\n",
        "print('Clustering Evaluation based on calinski_harabasz score :',calinski_harabasz_score(pca_result, clustered_data_pca[\"Kmeans_clusters\"]).round(2))"
      ],
      "metadata": {
        "colab": {
          "base_uri": "https://localhost:8080/"
        },
        "id": "8a_m-GjJRag8",
        "outputId": "266df4a6-393e-4cc1-c2b0-e5459ef7aeb1"
      },
      "execution_count": 446,
      "outputs": [
        {
          "output_type": "stream",
          "name": "stdout",
          "text": [
            "Clustering Evaluation based on silhouette score score : 0.67\n",
            "Clustering Evaluation based on dunn_index score : 0.5\n",
            "Clustering Evaluation based on calinski_harabasz score : 4435.31\n"
          ]
        }
      ]
    },
    {
      "cell_type": "code",
      "source": [
        "GM_model = GaussianMixture(n_components=8,random_state=1)\n",
        "GM_model.fit(pca_result)\n",
        "clustered_data_pca[\"GM_clusters\"] = GM_model.predict(pca_result)\n",
        "\n",
        "print('Clustering Evaluation based on silhouette score score :',silhouette_score(pca_result, clustered_data_pca[\"GM_clusters\"],metric='euclidean').round(2))\n",
        "print('Clustering Evaluation based on dunn_index score :',davies_bouldin_score(pca_result, clustered_data_pca[\"GM_clusters\"]).round(2))\n",
        "print('Clustering Evaluation based on calinski_harabasz score :',calinski_harabasz_score(pca_result, clustered_data_pca[\"GM_clusters\"]).round(2))"
      ],
      "metadata": {
        "colab": {
          "base_uri": "https://localhost:8080/"
        },
        "outputId": "634bdd1c-1508-4230-988f-98a0f9d65fcf",
        "id": "VqtOlFkYRag9"
      },
      "execution_count": 387,
      "outputs": [
        {
          "output_type": "stream",
          "name": "stdout",
          "text": [
            "Clustering Evaluation based on silhouette score score : 0.24\n",
            "Clustering Evaluation based on dunn_index score : 1.23\n",
            "Clustering Evaluation based on calinski_harabasz score : 537.72\n"
          ]
        }
      ]
    },
    {
      "cell_type": "code",
      "source": [
        "Hierarchical_model = AgglomerativeClustering(n_clusters=8)\n",
        "clustered_data_pca[\"Hierarchical_clusters\"] = Hierarchical_model.fit_predict(pca_result)\n",
        "\n",
        "print('Clustering Evaluation based on silhouette score score :',silhouette_score(pca_result, clustered_data_pca[\"Hierarchical_clusters\"],metric='euclidean').round(2))\n",
        "print('Clustering Evaluation based on dunn_index score :',davies_bouldin_score(pca_result, clustered_data_pca[\"Hierarchical_clusters\"]).round(2))\n",
        "print('Clustering Evaluation based on calinski_harabasz score :',calinski_harabasz_score(pca_result, clustered_data_pca[\"Hierarchical_clusters\"]).round(2))"
      ],
      "metadata": {
        "colab": {
          "base_uri": "https://localhost:8080/"
        },
        "id": "71uI_Q0VdeAk",
        "outputId": "f2e4c1bc-ac59-4b5a-8b58-9c7d0f4dc662"
      },
      "execution_count": 388,
      "outputs": [
        {
          "output_type": "stream",
          "name": "stdout",
          "text": [
            "Clustering Evaluation based on silhouette score score : 0.76\n",
            "Clustering Evaluation based on dunn_index score : 0.5\n",
            "Clustering Evaluation based on calinski_harabasz score : 3817.59\n"
          ]
        }
      ]
    },
    {
      "cell_type": "code",
      "source": [
        "birch_model = Birch(n_clusters=8)\n",
        "clustered_data_pca[\"birch_clusters\"] = birch_model.fit_predict(pca_result)\n",
        "\n",
        "print('Clustering Evaluation based on silhouette score score :',silhouette_score(pca_result, clustered_data_pca[\"birch_clusters\"],metric='euclidean').round(2))\n",
        "print('Clustering Evaluation based on dunn_index score :',davies_bouldin_score(pca_result, clustered_data_pca[\"birch_clusters\"]).round(2))\n",
        "print('Clustering Evaluation based on calinski_harabasz score :',calinski_harabasz_score(pca_result, clustered_data_pca[\"birch_clusters\"]).round(2))\n",
        "print()"
      ],
      "metadata": {
        "colab": {
          "base_uri": "https://localhost:8080/"
        },
        "id": "Dv-6bX3XeYRr",
        "outputId": "adcf1602-13d8-4557-af64-d0724b2bdf79"
      },
      "execution_count": 389,
      "outputs": [
        {
          "output_type": "stream",
          "name": "stdout",
          "text": [
            "Clustering Evaluation based on silhouette score score : 0.76\n",
            "Clustering Evaluation based on dunn_index score : 0.43\n",
            "Clustering Evaluation based on calinski_harabasz score : 3927.61\n",
            "\n"
          ]
        }
      ]
    },
    {
      "cell_type": "markdown",
      "source": [
        "Dimonsionality reduction using TSNE\n"
      ],
      "metadata": {
        "id": "w9ErmB8mqyab"
      }
    },
    {
      "cell_type": "code",
      "source": [
        "clustered_data_tsne = data.copy()\n",
        "tsne = TSNE(n_components=2)\n",
        "tsne_result = tsne.fit_transform(data)"
      ],
      "metadata": {
        "id": "XBx9Tu-do-Bv"
      },
      "execution_count": 413,
      "outputs": []
    },
    {
      "cell_type": "code",
      "source": [
        "Kmeans_model = KMeans(8,random_state=1)\n",
        "Kmeans_model.fit(tsne_result)\n",
        "clustered_data_tsne[\"Kmeans_clusters\"] = Kmeans_model.fit_predict(tsne_result)\n",
        "\n",
        "print('Clustering Evaluation based on silhouette score score :',silhouette_score(tsne_result, clustered_data_tsne[\"Kmeans_clusters\"],metric='euclidean').round(2))\n",
        "print('Clustering Evaluation based on dunn_index score :',davies_bouldin_score(tsne_result, clustered_data_tsne[\"Kmeans_clusters\"]).round(2))\n",
        "print('Clustering Evaluation based on calinski_harabasz score :',calinski_harabasz_score(tsne_result, clustered_data_tsne[\"Kmeans_clusters\"]).round(2))"
      ],
      "metadata": {
        "colab": {
          "base_uri": "https://localhost:8080/"
        },
        "outputId": "0742fa63-d64b-4da9-be4e-671fedf4573a",
        "id": "Er1zWhHHqGzO"
      },
      "execution_count": 391,
      "outputs": [
        {
          "output_type": "stream",
          "name": "stdout",
          "text": [
            "Clustering Evaluation based on silhouette score score : 0.38\n",
            "Clustering Evaluation based on dunn_index score : 0.8\n",
            "Clustering Evaluation based on calinski_harabasz score : 544.32\n"
          ]
        }
      ]
    },
    {
      "cell_type": "code",
      "source": [
        "GM_model = GaussianMixture(n_components=8,random_state=1)\n",
        "GM_model.fit(tsne_result)\n",
        "clustered_data_tsne[\"GM_clusters\"] = GM_model.predict(tsne_result)\n",
        "\n",
        "print('Clustering Evaluation based on silhouette score score :',silhouette_score(tsne_result, clustered_data_tsne[\"GM_clusters\"],metric='euclidean').round(2))\n",
        "print('Clustering Evaluation based on dunn_index score :',davies_bouldin_score(tsne_result, clustered_data_tsne[\"GM_clusters\"]).round(2))\n",
        "print('Clustering Evaluation based on calinski_harabasz score :',calinski_harabasz_score(tsne_result, clustered_data_tsne[\"GM_clusters\"]).round(2))"
      ],
      "metadata": {
        "colab": {
          "base_uri": "https://localhost:8080/"
        },
        "outputId": "2043e117-15ff-4083-e96a-b010c99d6f6c",
        "id": "37_Onl9SqGzP"
      },
      "execution_count": 392,
      "outputs": [
        {
          "output_type": "stream",
          "name": "stdout",
          "text": [
            "Clustering Evaluation based on silhouette score score : 0.36\n",
            "Clustering Evaluation based on dunn_index score : 0.81\n",
            "Clustering Evaluation based on calinski_harabasz score : 491.44\n"
          ]
        }
      ]
    },
    {
      "cell_type": "code",
      "source": [
        "Hierarchical_model = AgglomerativeClustering(n_clusters=8)\n",
        "clustered_data_tsne[\"Hierarchical_clusters\"] = Hierarchical_model.fit_predict(tsne_result)\n",
        "\n",
        "print('Clustering Evaluation based on silhouette score score :',silhouette_score(tsne_result, clustered_data_tsne[\"Hierarchical_clusters\"],metric='euclidean').round(2))\n",
        "print('Clustering Evaluation based on dunn_index score :',davies_bouldin_score(tsne_result, clustered_data_tsne[\"Hierarchical_clusters\"]).round(2))\n",
        "print('Clustering Evaluation based on calinski_harabasz score :',calinski_harabasz_score(tsne_result, clustered_data_tsne[\"Hierarchical_clusters\"]).round(2))"
      ],
      "metadata": {
        "colab": {
          "base_uri": "https://localhost:8080/"
        },
        "outputId": "f21d21e7-405c-4803-d849-f0feeeae7b35",
        "id": "hL6a9i3_qGzQ"
      },
      "execution_count": 393,
      "outputs": [
        {
          "output_type": "stream",
          "name": "stdout",
          "text": [
            "Clustering Evaluation based on silhouette score score : 0.3\n",
            "Clustering Evaluation based on dunn_index score : 0.93\n",
            "Clustering Evaluation based on calinski_harabasz score : 422.34\n"
          ]
        }
      ]
    },
    {
      "cell_type": "code",
      "source": [
        "birch_model = Birch(n_clusters=8)\n",
        "clustered_data_tsne[\"birch_clusters\"] = birch_model.fit_predict(tsne_result)\n",
        "\n",
        "print('Clustering Evaluation based on silhouette score score :',silhouette_score(tsne_result, clustered_data_tsne[\"birch_clusters\"],metric='euclidean').round(2))\n",
        "print('Clustering Evaluation based on dunn_index score :',davies_bouldin_score(tsne_result, clustered_data_tsne[\"birch_clusters\"]).round(2))\n",
        "print('Clustering Evaluation based on calinski_harabasz score :',calinski_harabasz_score(tsne_result, clustered_data_tsne[\"birch_clusters\"]).round(2))\n",
        "print()"
      ],
      "metadata": {
        "colab": {
          "base_uri": "https://localhost:8080/"
        },
        "outputId": "18ddf623-1f21-4aeb-d3c5-3d596fc78936",
        "id": "zRE6hHAMqGzQ"
      },
      "execution_count": 394,
      "outputs": [
        {
          "output_type": "stream",
          "name": "stdout",
          "text": [
            "Clustering Evaluation based on silhouette score score : 0.32\n",
            "Clustering Evaluation based on dunn_index score : 0.92\n",
            "Clustering Evaluation based on calinski_harabasz score : 412.1\n",
            "\n"
          ]
        }
      ]
    },
    {
      "cell_type": "markdown",
      "source": [
        "DBScan Algorithm"
      ],
      "metadata": {
        "id": "rrCTGLSD1Xvd"
      }
    },
    {
      "cell_type": "code",
      "source": [
        "DBS_model = DBSCAN(eps=0.5, min_samples=3).fit(pca_result)\n",
        "DBS_labels = DBS_model.labels_\n",
        "n_clusters_ = len(set(DBS_labels)) - (1 if -1 in DBS_labels else 0) + 1\n",
        "n_noise_ = list(DBS_labels).count(-1)\n",
        "\n",
        "print(\"Estimated number of clusters: %d\" % n_clusters_)\n",
        "print(\"Estimated number of noise points: %d\" % n_noise_)"
      ],
      "metadata": {
        "colab": {
          "base_uri": "https://localhost:8080/"
        },
        "id": "O-taeNOKgtf1",
        "outputId": "d016f7d1-ecea-48e4-d27d-18794b39abd3"
      },
      "execution_count": 450,
      "outputs": [
        {
          "output_type": "stream",
          "name": "stdout",
          "text": [
            "Estimated number of clusters: 15\n",
            "Estimated number of noise points: 45\n"
          ]
        }
      ]
    },
    {
      "cell_type": "code",
      "source": [
        "print('Clustering Evaluation based on silhouette score score :',silhouette_score(pca_result, DBS_labels,metric='euclidean').round(2))\n",
        "print('Clustering Evaluation based on dunn_index score :',davies_bouldin_score(pca_result, DBS_labels).round(2))\n",
        "print('Clustering Evaluation based on calinski_harabasz score :',calinski_harabasz_score(pca_result, DBS_labels).round(2))"
      ],
      "metadata": {
        "colab": {
          "base_uri": "https://localhost:8080/"
        },
        "id": "E20-FCWpw0EJ",
        "outputId": "1f81e7c6-3587-4075-fa29-41c190a0b6fd"
      },
      "execution_count": 451,
      "outputs": [
        {
          "output_type": "stream",
          "name": "stdout",
          "text": [
            "Clustering Evaluation based on silhouette score score : 0.5\n",
            "Clustering Evaluation based on dunn_index score : 1.63\n",
            "Clustering Evaluation based on calinski_harabasz score : 45.21\n"
          ]
        }
      ]
    },
    {
      "cell_type": "code",
      "source": [
        "DBS_model_2 = DBSCAN(eps=1, min_samples=3).fit(pca_result)\n",
        "DBS_labels = DBS_model_2.labels_\n",
        "n_clusters_ = len(set(DBS_labels)) - (1 if -1 in DBS_labels else 0) + 1\n",
        "n_noise_ = list(DBS_labels).count(-1)\n",
        "\n",
        "print(\"Estimated number of clusters: %d\" % n_clusters_)\n",
        "print(\"Estimated number of noise points: %d\" % n_noise_)"
      ],
      "metadata": {
        "colab": {
          "base_uri": "https://localhost:8080/"
        },
        "id": "ixhYtLGBwQIb",
        "outputId": "4ac53f94-8413-4dfe-b548-6e9a4266e0d0"
      },
      "execution_count": 452,
      "outputs": [
        {
          "output_type": "stream",
          "name": "stdout",
          "text": [
            "Estimated number of clusters: 7\n",
            "Estimated number of noise points: 12\n"
          ]
        }
      ]
    },
    {
      "cell_type": "code",
      "source": [
        "print('Clustering Evaluation based on silhouette score score :',silhouette_score(pca_result, DBS_labels,metric='euclidean').round(2))\n",
        "print('Clustering Evaluation based on dunn_index score :',davies_bouldin_score(pca_result, DBS_labels).round(2))\n",
        "print('Clustering Evaluation based on calinski_harabasz score :',calinski_harabasz_score(pca_result, DBS_labels).round(2))"
      ],
      "metadata": {
        "colab": {
          "base_uri": "https://localhost:8080/"
        },
        "id": "mZ5lNQesq3lc",
        "outputId": "edc617d0-a2bd-48ef-9206-fe7f8facec18"
      },
      "execution_count": 453,
      "outputs": [
        {
          "output_type": "stream",
          "name": "stdout",
          "text": [
            "Clustering Evaluation based on silhouette score score : 0.73\n",
            "Clustering Evaluation based on dunn_index score : 1.53\n",
            "Clustering Evaluation based on calinski_harabasz score : 158.63\n"
          ]
        }
      ]
    },
    {
      "cell_type": "code",
      "source": [
        "conclusion = pd.DataFrame([['KMeans++ model defualt dataset',0.39,1.51,160.84],\n",
        "              ['GaussianMixture model defualt dataset',0.45,1.37,157.99],\n",
        "              ['Agglomerative model defualt dataset',0.31,1.56,159.49],\n",
        "              ['Birch model defualt dataset',0.3,1.57,159.48],\n",
        "              ['KMeans++ model shuffled dataset',0.47,1.29,162.74],\n",
        "              ['GaussianMixture model shuffled dataset',0.39,1.34,157.71],\n",
        "              ['Agglomerative model shuffled dataset',0.45,1.22,159.6],\n",
        "              ['Birch model shuffled dataset',0.3,1.57,159.48],\n",
        "              ['KMeans++ model & PCA',0.67,0.5,4435.31],\n",
        "              ['GaussianMixture & PCA',0.24,1.23,537.72],\n",
        "              ['Agglomerative model & PCA',0.76,0.5,3817.59],\n",
        "              ['Birch model & PCA',0.76,0.43,3927.61],\n",
        "              ['KMeans++ model & TSNE',0.38,0.8,544.32],\n",
        "              ['GaussianMixture & TSNE',0.36,0.81,491.44],\n",
        "              ['Agglomerative model & TSNE',0.3,0.93,422.34],\n",
        "              ['Birch & TSNE',0.32,0.92,412.1],\n",
        "              ['DBSCAN (eps=0.5)',0.5,1.63,45.21],\n",
        "              ['DBSCAN (eps=1)',0.73,1.53,158.63]],\n",
        "              columns=[\"Algorithm\",\"Silhouette \",\"Dunn index\",\"Calinski Harabasz\"])\n",
        "conclusion.style.background_gradient(cmap=\"YlOrRd\")"
      ],
      "metadata": {
        "colab": {
          "base_uri": "https://localhost:8080/",
          "height": 613
        },
        "id": "iQniA1Zj1xS8",
        "outputId": "e032a788-7473-4604-af56-117d679cfb8e"
      },
      "execution_count": 4,
      "outputs": [
        {
          "output_type": "execute_result",
          "data": {
            "text/html": [
              "<style  type=\"text/css\" >\n",
              "#T_08cc4e36_6b34_11ec_8c66_0242ac1c0002row0_col1,#T_08cc4e36_6b34_11ec_8c66_0242ac1c0002row5_col1{\n",
              "            background-color:  #fece6a;\n",
              "            color:  #000000;\n",
              "        }#T_08cc4e36_6b34_11ec_8c66_0242ac1c0002row0_col2{\n",
              "            background-color:  #b00026;\n",
              "            color:  #f1f1f1;\n",
              "        }#T_08cc4e36_6b34_11ec_8c66_0242ac1c0002row0_col3,#T_08cc4e36_6b34_11ec_8c66_0242ac1c0002row1_col3,#T_08cc4e36_6b34_11ec_8c66_0242ac1c0002row2_col3,#T_08cc4e36_6b34_11ec_8c66_0242ac1c0002row3_col3,#T_08cc4e36_6b34_11ec_8c66_0242ac1c0002row4_col3,#T_08cc4e36_6b34_11ec_8c66_0242ac1c0002row5_col3,#T_08cc4e36_6b34_11ec_8c66_0242ac1c0002row6_col3,#T_08cc4e36_6b34_11ec_8c66_0242ac1c0002row7_col3,#T_08cc4e36_6b34_11ec_8c66_0242ac1c0002row17_col3{\n",
              "            background-color:  #fffcc4;\n",
              "            color:  #000000;\n",
              "        }#T_08cc4e36_6b34_11ec_8c66_0242ac1c0002row1_col1,#T_08cc4e36_6b34_11ec_8c66_0242ac1c0002row6_col1{\n",
              "            background-color:  #fea948;\n",
              "            color:  #000000;\n",
              "        }#T_08cc4e36_6b34_11ec_8c66_0242ac1c0002row1_col2{\n",
              "            background-color:  #d9131f;\n",
              "            color:  #f1f1f1;\n",
              "        }#T_08cc4e36_6b34_11ec_8c66_0242ac1c0002row2_col1{\n",
              "            background-color:  #ffec9d;\n",
              "            color:  #000000;\n",
              "        }#T_08cc4e36_6b34_11ec_8c66_0242ac1c0002row2_col2,#T_08cc4e36_6b34_11ec_8c66_0242ac1c0002row17_col1{\n",
              "            background-color:  #9b0026;\n",
              "            color:  #f1f1f1;\n",
              "        }#T_08cc4e36_6b34_11ec_8c66_0242ac1c0002row3_col1,#T_08cc4e36_6b34_11ec_8c66_0242ac1c0002row7_col1,#T_08cc4e36_6b34_11ec_8c66_0242ac1c0002row12_col3,#T_08cc4e36_6b34_11ec_8c66_0242ac1c0002row14_col1{\n",
              "            background-color:  #ffefa4;\n",
              "            color:  #000000;\n",
              "        }#T_08cc4e36_6b34_11ec_8c66_0242ac1c0002row3_col2,#T_08cc4e36_6b34_11ec_8c66_0242ac1c0002row7_col2{\n",
              "            background-color:  #970026;\n",
              "            color:  #f1f1f1;\n",
              "        }#T_08cc4e36_6b34_11ec_8c66_0242ac1c0002row4_col1{\n",
              "            background-color:  #fd9e43;\n",
              "            color:  #000000;\n",
              "        }#T_08cc4e36_6b34_11ec_8c66_0242ac1c0002row4_col2{\n",
              "            background-color:  #e92720;\n",
              "            color:  #f1f1f1;\n",
              "        }#T_08cc4e36_6b34_11ec_8c66_0242ac1c0002row5_col2{\n",
              "            background-color:  #e0181d;\n",
              "            color:  #f1f1f1;\n",
              "        }#T_08cc4e36_6b34_11ec_8c66_0242ac1c0002row6_col2{\n",
              "            background-color:  #f54026;\n",
              "            color:  #f1f1f1;\n",
              "        }#T_08cc4e36_6b34_11ec_8c66_0242ac1c0002row8_col1{\n",
              "            background-color:  #cb0a22;\n",
              "            color:  #f1f1f1;\n",
              "        }#T_08cc4e36_6b34_11ec_8c66_0242ac1c0002row8_col2,#T_08cc4e36_6b34_11ec_8c66_0242ac1c0002row10_col2{\n",
              "            background-color:  #fff7b9;\n",
              "            color:  #000000;\n",
              "        }#T_08cc4e36_6b34_11ec_8c66_0242ac1c0002row8_col3,#T_08cc4e36_6b34_11ec_8c66_0242ac1c0002row10_col1,#T_08cc4e36_6b34_11ec_8c66_0242ac1c0002row11_col1,#T_08cc4e36_6b34_11ec_8c66_0242ac1c0002row16_col2{\n",
              "            background-color:  #800026;\n",
              "            color:  #f1f1f1;\n",
              "        }#T_08cc4e36_6b34_11ec_8c66_0242ac1c0002row9_col1,#T_08cc4e36_6b34_11ec_8c66_0242ac1c0002row11_col2,#T_08cc4e36_6b34_11ec_8c66_0242ac1c0002row16_col3{\n",
              "            background-color:  #ffffcc;\n",
              "            color:  #000000;\n",
              "        }#T_08cc4e36_6b34_11ec_8c66_0242ac1c0002row9_col2{\n",
              "            background-color:  #f43d25;\n",
              "            color:  #f1f1f1;\n",
              "        }#T_08cc4e36_6b34_11ec_8c66_0242ac1c0002row9_col3{\n",
              "            background-color:  #ffefa5;\n",
              "            color:  #000000;\n",
              "        }#T_08cc4e36_6b34_11ec_8c66_0242ac1c0002row10_col3{\n",
              "            background-color:  #c20325;\n",
              "            color:  #f1f1f1;\n",
              "        }#T_08cc4e36_6b34_11ec_8c66_0242ac1c0002row11_col3{\n",
              "            background-color:  #b70026;\n",
              "            color:  #f1f1f1;\n",
              "        }#T_08cc4e36_6b34_11ec_8c66_0242ac1c0002row12_col1{\n",
              "            background-color:  #fed470;\n",
              "            color:  #000000;\n",
              "        }#T_08cc4e36_6b34_11ec_8c66_0242ac1c0002row12_col2{\n",
              "            background-color:  #fec863;\n",
              "            color:  #000000;\n",
              "        }#T_08cc4e36_6b34_11ec_8c66_0242ac1c0002row13_col1{\n",
              "            background-color:  #fedc7c;\n",
              "            color:  #000000;\n",
              "        }#T_08cc4e36_6b34_11ec_8c66_0242ac1c0002row13_col2{\n",
              "            background-color:  #fec45f;\n",
              "            color:  #000000;\n",
              "        }#T_08cc4e36_6b34_11ec_8c66_0242ac1c0002row13_col3{\n",
              "            background-color:  #fff0a8;\n",
              "            color:  #000000;\n",
              "        }#T_08cc4e36_6b34_11ec_8c66_0242ac1c0002row14_col2{\n",
              "            background-color:  #fea647;\n",
              "            color:  #000000;\n",
              "        }#T_08cc4e36_6b34_11ec_8c66_0242ac1c0002row14_col3,#T_08cc4e36_6b34_11ec_8c66_0242ac1c0002row15_col3{\n",
              "            background-color:  #fff3af;\n",
              "            color:  #000000;\n",
              "        }#T_08cc4e36_6b34_11ec_8c66_0242ac1c0002row15_col1{\n",
              "            background-color:  #ffe997;\n",
              "            color:  #000000;\n",
              "        }#T_08cc4e36_6b34_11ec_8c66_0242ac1c0002row15_col2{\n",
              "            background-color:  #fea848;\n",
              "            color:  #000000;\n",
              "        }#T_08cc4e36_6b34_11ec_8c66_0242ac1c0002row16_col1{\n",
              "            background-color:  #fd8c3c;\n",
              "            color:  #000000;\n",
              "        }#T_08cc4e36_6b34_11ec_8c66_0242ac1c0002row17_col2{\n",
              "            background-color:  #a80026;\n",
              "            color:  #f1f1f1;\n",
              "        }</style><table id=\"T_08cc4e36_6b34_11ec_8c66_0242ac1c0002\" class=\"dataframe\"><thead>    <tr>        <th class=\"blank level0\" ></th>        <th class=\"col_heading level0 col0\" >Algorithm</th>        <th class=\"col_heading level0 col1\" >Silhouette </th>        <th class=\"col_heading level0 col2\" >Dunn index</th>        <th class=\"col_heading level0 col3\" >Calinski Harabasz</th>    </tr></thead><tbody>\n",
              "                <tr>\n",
              "                        <th id=\"T_08cc4e36_6b34_11ec_8c66_0242ac1c0002level0_row0\" class=\"row_heading level0 row0\" >0</th>\n",
              "                        <td id=\"T_08cc4e36_6b34_11ec_8c66_0242ac1c0002row0_col0\" class=\"data row0 col0\" >KMeans++ model defualt dataset</td>\n",
              "                        <td id=\"T_08cc4e36_6b34_11ec_8c66_0242ac1c0002row0_col1\" class=\"data row0 col1\" >0.390000</td>\n",
              "                        <td id=\"T_08cc4e36_6b34_11ec_8c66_0242ac1c0002row0_col2\" class=\"data row0 col2\" >1.510000</td>\n",
              "                        <td id=\"T_08cc4e36_6b34_11ec_8c66_0242ac1c0002row0_col3\" class=\"data row0 col3\" >160.840000</td>\n",
              "            </tr>\n",
              "            <tr>\n",
              "                        <th id=\"T_08cc4e36_6b34_11ec_8c66_0242ac1c0002level0_row1\" class=\"row_heading level0 row1\" >1</th>\n",
              "                        <td id=\"T_08cc4e36_6b34_11ec_8c66_0242ac1c0002row1_col0\" class=\"data row1 col0\" >GaussianMixture model defualt dataset</td>\n",
              "                        <td id=\"T_08cc4e36_6b34_11ec_8c66_0242ac1c0002row1_col1\" class=\"data row1 col1\" >0.450000</td>\n",
              "                        <td id=\"T_08cc4e36_6b34_11ec_8c66_0242ac1c0002row1_col2\" class=\"data row1 col2\" >1.370000</td>\n",
              "                        <td id=\"T_08cc4e36_6b34_11ec_8c66_0242ac1c0002row1_col3\" class=\"data row1 col3\" >157.990000</td>\n",
              "            </tr>\n",
              "            <tr>\n",
              "                        <th id=\"T_08cc4e36_6b34_11ec_8c66_0242ac1c0002level0_row2\" class=\"row_heading level0 row2\" >2</th>\n",
              "                        <td id=\"T_08cc4e36_6b34_11ec_8c66_0242ac1c0002row2_col0\" class=\"data row2 col0\" >Agglomerative model defualt dataset</td>\n",
              "                        <td id=\"T_08cc4e36_6b34_11ec_8c66_0242ac1c0002row2_col1\" class=\"data row2 col1\" >0.310000</td>\n",
              "                        <td id=\"T_08cc4e36_6b34_11ec_8c66_0242ac1c0002row2_col2\" class=\"data row2 col2\" >1.560000</td>\n",
              "                        <td id=\"T_08cc4e36_6b34_11ec_8c66_0242ac1c0002row2_col3\" class=\"data row2 col3\" >159.490000</td>\n",
              "            </tr>\n",
              "            <tr>\n",
              "                        <th id=\"T_08cc4e36_6b34_11ec_8c66_0242ac1c0002level0_row3\" class=\"row_heading level0 row3\" >3</th>\n",
              "                        <td id=\"T_08cc4e36_6b34_11ec_8c66_0242ac1c0002row3_col0\" class=\"data row3 col0\" >Birch model defualt dataset</td>\n",
              "                        <td id=\"T_08cc4e36_6b34_11ec_8c66_0242ac1c0002row3_col1\" class=\"data row3 col1\" >0.300000</td>\n",
              "                        <td id=\"T_08cc4e36_6b34_11ec_8c66_0242ac1c0002row3_col2\" class=\"data row3 col2\" >1.570000</td>\n",
              "                        <td id=\"T_08cc4e36_6b34_11ec_8c66_0242ac1c0002row3_col3\" class=\"data row3 col3\" >159.480000</td>\n",
              "            </tr>\n",
              "            <tr>\n",
              "                        <th id=\"T_08cc4e36_6b34_11ec_8c66_0242ac1c0002level0_row4\" class=\"row_heading level0 row4\" >4</th>\n",
              "                        <td id=\"T_08cc4e36_6b34_11ec_8c66_0242ac1c0002row4_col0\" class=\"data row4 col0\" >KMeans++ model shuffled dataset</td>\n",
              "                        <td id=\"T_08cc4e36_6b34_11ec_8c66_0242ac1c0002row4_col1\" class=\"data row4 col1\" >0.470000</td>\n",
              "                        <td id=\"T_08cc4e36_6b34_11ec_8c66_0242ac1c0002row4_col2\" class=\"data row4 col2\" >1.290000</td>\n",
              "                        <td id=\"T_08cc4e36_6b34_11ec_8c66_0242ac1c0002row4_col3\" class=\"data row4 col3\" >162.740000</td>\n",
              "            </tr>\n",
              "            <tr>\n",
              "                        <th id=\"T_08cc4e36_6b34_11ec_8c66_0242ac1c0002level0_row5\" class=\"row_heading level0 row5\" >5</th>\n",
              "                        <td id=\"T_08cc4e36_6b34_11ec_8c66_0242ac1c0002row5_col0\" class=\"data row5 col0\" >GaussianMixture model shuffled dataset</td>\n",
              "                        <td id=\"T_08cc4e36_6b34_11ec_8c66_0242ac1c0002row5_col1\" class=\"data row5 col1\" >0.390000</td>\n",
              "                        <td id=\"T_08cc4e36_6b34_11ec_8c66_0242ac1c0002row5_col2\" class=\"data row5 col2\" >1.340000</td>\n",
              "                        <td id=\"T_08cc4e36_6b34_11ec_8c66_0242ac1c0002row5_col3\" class=\"data row5 col3\" >157.710000</td>\n",
              "            </tr>\n",
              "            <tr>\n",
              "                        <th id=\"T_08cc4e36_6b34_11ec_8c66_0242ac1c0002level0_row6\" class=\"row_heading level0 row6\" >6</th>\n",
              "                        <td id=\"T_08cc4e36_6b34_11ec_8c66_0242ac1c0002row6_col0\" class=\"data row6 col0\" >Agglomerative model shuffled dataset</td>\n",
              "                        <td id=\"T_08cc4e36_6b34_11ec_8c66_0242ac1c0002row6_col1\" class=\"data row6 col1\" >0.450000</td>\n",
              "                        <td id=\"T_08cc4e36_6b34_11ec_8c66_0242ac1c0002row6_col2\" class=\"data row6 col2\" >1.220000</td>\n",
              "                        <td id=\"T_08cc4e36_6b34_11ec_8c66_0242ac1c0002row6_col3\" class=\"data row6 col3\" >159.600000</td>\n",
              "            </tr>\n",
              "            <tr>\n",
              "                        <th id=\"T_08cc4e36_6b34_11ec_8c66_0242ac1c0002level0_row7\" class=\"row_heading level0 row7\" >7</th>\n",
              "                        <td id=\"T_08cc4e36_6b34_11ec_8c66_0242ac1c0002row7_col0\" class=\"data row7 col0\" >Birch model shuffled dataset</td>\n",
              "                        <td id=\"T_08cc4e36_6b34_11ec_8c66_0242ac1c0002row7_col1\" class=\"data row7 col1\" >0.300000</td>\n",
              "                        <td id=\"T_08cc4e36_6b34_11ec_8c66_0242ac1c0002row7_col2\" class=\"data row7 col2\" >1.570000</td>\n",
              "                        <td id=\"T_08cc4e36_6b34_11ec_8c66_0242ac1c0002row7_col3\" class=\"data row7 col3\" >159.480000</td>\n",
              "            </tr>\n",
              "            <tr>\n",
              "                        <th id=\"T_08cc4e36_6b34_11ec_8c66_0242ac1c0002level0_row8\" class=\"row_heading level0 row8\" >8</th>\n",
              "                        <td id=\"T_08cc4e36_6b34_11ec_8c66_0242ac1c0002row8_col0\" class=\"data row8 col0\" >KMeans++ model & PCA</td>\n",
              "                        <td id=\"T_08cc4e36_6b34_11ec_8c66_0242ac1c0002row8_col1\" class=\"data row8 col1\" >0.670000</td>\n",
              "                        <td id=\"T_08cc4e36_6b34_11ec_8c66_0242ac1c0002row8_col2\" class=\"data row8 col2\" >0.500000</td>\n",
              "                        <td id=\"T_08cc4e36_6b34_11ec_8c66_0242ac1c0002row8_col3\" class=\"data row8 col3\" >4435.310000</td>\n",
              "            </tr>\n",
              "            <tr>\n",
              "                        <th id=\"T_08cc4e36_6b34_11ec_8c66_0242ac1c0002level0_row9\" class=\"row_heading level0 row9\" >9</th>\n",
              "                        <td id=\"T_08cc4e36_6b34_11ec_8c66_0242ac1c0002row9_col0\" class=\"data row9 col0\" >GaussianMixture & PCA</td>\n",
              "                        <td id=\"T_08cc4e36_6b34_11ec_8c66_0242ac1c0002row9_col1\" class=\"data row9 col1\" >0.240000</td>\n",
              "                        <td id=\"T_08cc4e36_6b34_11ec_8c66_0242ac1c0002row9_col2\" class=\"data row9 col2\" >1.230000</td>\n",
              "                        <td id=\"T_08cc4e36_6b34_11ec_8c66_0242ac1c0002row9_col3\" class=\"data row9 col3\" >537.720000</td>\n",
              "            </tr>\n",
              "            <tr>\n",
              "                        <th id=\"T_08cc4e36_6b34_11ec_8c66_0242ac1c0002level0_row10\" class=\"row_heading level0 row10\" >10</th>\n",
              "                        <td id=\"T_08cc4e36_6b34_11ec_8c66_0242ac1c0002row10_col0\" class=\"data row10 col0\" >Agglomerative model & PCA</td>\n",
              "                        <td id=\"T_08cc4e36_6b34_11ec_8c66_0242ac1c0002row10_col1\" class=\"data row10 col1\" >0.760000</td>\n",
              "                        <td id=\"T_08cc4e36_6b34_11ec_8c66_0242ac1c0002row10_col2\" class=\"data row10 col2\" >0.500000</td>\n",
              "                        <td id=\"T_08cc4e36_6b34_11ec_8c66_0242ac1c0002row10_col3\" class=\"data row10 col3\" >3817.590000</td>\n",
              "            </tr>\n",
              "            <tr>\n",
              "                        <th id=\"T_08cc4e36_6b34_11ec_8c66_0242ac1c0002level0_row11\" class=\"row_heading level0 row11\" >11</th>\n",
              "                        <td id=\"T_08cc4e36_6b34_11ec_8c66_0242ac1c0002row11_col0\" class=\"data row11 col0\" >Birch model & PCA</td>\n",
              "                        <td id=\"T_08cc4e36_6b34_11ec_8c66_0242ac1c0002row11_col1\" class=\"data row11 col1\" >0.760000</td>\n",
              "                        <td id=\"T_08cc4e36_6b34_11ec_8c66_0242ac1c0002row11_col2\" class=\"data row11 col2\" >0.430000</td>\n",
              "                        <td id=\"T_08cc4e36_6b34_11ec_8c66_0242ac1c0002row11_col3\" class=\"data row11 col3\" >3927.610000</td>\n",
              "            </tr>\n",
              "            <tr>\n",
              "                        <th id=\"T_08cc4e36_6b34_11ec_8c66_0242ac1c0002level0_row12\" class=\"row_heading level0 row12\" >12</th>\n",
              "                        <td id=\"T_08cc4e36_6b34_11ec_8c66_0242ac1c0002row12_col0\" class=\"data row12 col0\" >KMeans++ model & TSNE</td>\n",
              "                        <td id=\"T_08cc4e36_6b34_11ec_8c66_0242ac1c0002row12_col1\" class=\"data row12 col1\" >0.380000</td>\n",
              "                        <td id=\"T_08cc4e36_6b34_11ec_8c66_0242ac1c0002row12_col2\" class=\"data row12 col2\" >0.800000</td>\n",
              "                        <td id=\"T_08cc4e36_6b34_11ec_8c66_0242ac1c0002row12_col3\" class=\"data row12 col3\" >544.320000</td>\n",
              "            </tr>\n",
              "            <tr>\n",
              "                        <th id=\"T_08cc4e36_6b34_11ec_8c66_0242ac1c0002level0_row13\" class=\"row_heading level0 row13\" >13</th>\n",
              "                        <td id=\"T_08cc4e36_6b34_11ec_8c66_0242ac1c0002row13_col0\" class=\"data row13 col0\" >GaussianMixture & TSNE</td>\n",
              "                        <td id=\"T_08cc4e36_6b34_11ec_8c66_0242ac1c0002row13_col1\" class=\"data row13 col1\" >0.360000</td>\n",
              "                        <td id=\"T_08cc4e36_6b34_11ec_8c66_0242ac1c0002row13_col2\" class=\"data row13 col2\" >0.810000</td>\n",
              "                        <td id=\"T_08cc4e36_6b34_11ec_8c66_0242ac1c0002row13_col3\" class=\"data row13 col3\" >491.440000</td>\n",
              "            </tr>\n",
              "            <tr>\n",
              "                        <th id=\"T_08cc4e36_6b34_11ec_8c66_0242ac1c0002level0_row14\" class=\"row_heading level0 row14\" >14</th>\n",
              "                        <td id=\"T_08cc4e36_6b34_11ec_8c66_0242ac1c0002row14_col0\" class=\"data row14 col0\" >Agglomerative model & TSNE</td>\n",
              "                        <td id=\"T_08cc4e36_6b34_11ec_8c66_0242ac1c0002row14_col1\" class=\"data row14 col1\" >0.300000</td>\n",
              "                        <td id=\"T_08cc4e36_6b34_11ec_8c66_0242ac1c0002row14_col2\" class=\"data row14 col2\" >0.930000</td>\n",
              "                        <td id=\"T_08cc4e36_6b34_11ec_8c66_0242ac1c0002row14_col3\" class=\"data row14 col3\" >422.340000</td>\n",
              "            </tr>\n",
              "            <tr>\n",
              "                        <th id=\"T_08cc4e36_6b34_11ec_8c66_0242ac1c0002level0_row15\" class=\"row_heading level0 row15\" >15</th>\n",
              "                        <td id=\"T_08cc4e36_6b34_11ec_8c66_0242ac1c0002row15_col0\" class=\"data row15 col0\" >Birch & TSNE</td>\n",
              "                        <td id=\"T_08cc4e36_6b34_11ec_8c66_0242ac1c0002row15_col1\" class=\"data row15 col1\" >0.320000</td>\n",
              "                        <td id=\"T_08cc4e36_6b34_11ec_8c66_0242ac1c0002row15_col2\" class=\"data row15 col2\" >0.920000</td>\n",
              "                        <td id=\"T_08cc4e36_6b34_11ec_8c66_0242ac1c0002row15_col3\" class=\"data row15 col3\" >412.100000</td>\n",
              "            </tr>\n",
              "            <tr>\n",
              "                        <th id=\"T_08cc4e36_6b34_11ec_8c66_0242ac1c0002level0_row16\" class=\"row_heading level0 row16\" >16</th>\n",
              "                        <td id=\"T_08cc4e36_6b34_11ec_8c66_0242ac1c0002row16_col0\" class=\"data row16 col0\" >DBSCAN (eps=0.5)</td>\n",
              "                        <td id=\"T_08cc4e36_6b34_11ec_8c66_0242ac1c0002row16_col1\" class=\"data row16 col1\" >0.500000</td>\n",
              "                        <td id=\"T_08cc4e36_6b34_11ec_8c66_0242ac1c0002row16_col2\" class=\"data row16 col2\" >1.630000</td>\n",
              "                        <td id=\"T_08cc4e36_6b34_11ec_8c66_0242ac1c0002row16_col3\" class=\"data row16 col3\" >45.210000</td>\n",
              "            </tr>\n",
              "            <tr>\n",
              "                        <th id=\"T_08cc4e36_6b34_11ec_8c66_0242ac1c0002level0_row17\" class=\"row_heading level0 row17\" >17</th>\n",
              "                        <td id=\"T_08cc4e36_6b34_11ec_8c66_0242ac1c0002row17_col0\" class=\"data row17 col0\" >DBSCAN (eps=1)</td>\n",
              "                        <td id=\"T_08cc4e36_6b34_11ec_8c66_0242ac1c0002row17_col1\" class=\"data row17 col1\" >0.730000</td>\n",
              "                        <td id=\"T_08cc4e36_6b34_11ec_8c66_0242ac1c0002row17_col2\" class=\"data row17 col2\" >1.530000</td>\n",
              "                        <td id=\"T_08cc4e36_6b34_11ec_8c66_0242ac1c0002row17_col3\" class=\"data row17 col3\" >158.630000</td>\n",
              "            </tr>\n",
              "    </tbody></table>"
            ],
            "text/plain": [
              "<pandas.io.formats.style.Styler at 0x7f7cb0be5650>"
            ]
          },
          "metadata": {},
          "execution_count": 4
        }
      ]
    },
    {
      "cell_type": "code",
      "source": [
        "data2 = pd.read_csv('AllBooks_baseline_DTM_Labelled.csv')\n",
        "data2 = data2.rename(columns={'Unnamed: 0': 'label'})\n",
        "data2.label = data2.label.str.replace(r'_.*', r'')\n",
        "data2['label'].value_counts()"
      ],
      "metadata": {
        "colab": {
          "base_uri": "https://localhost:8080/"
        },
        "outputId": "edde3983-567b-4686-dd77-ab9b3f187c4d",
        "id": "eOJiCzhGO7Oc"
      },
      "execution_count": null,
      "outputs": [
        {
          "output_type": "execute_result",
          "data": {
            "text/plain": [
              "YogaSutra                189\n",
              "Upanishad                162\n",
              "TaoTeChing                81\n",
              "BookOfEccleasiasticus     50\n",
              "Buddhism                  46\n",
              "BookOfProverb             31\n",
              "BookOfWisdom              19\n",
              "BookOfEcclesiastes        12\n",
              "Name: label, dtype: int64"
            ]
          },
          "metadata": {},
          "execution_count": 35
        }
      ]
    },
    {
      "cell_type": "code",
      "source": [
        "unique, counts = np.unique(DBS_labels, return_counts=True)\n",
        "db_values = sorted(dict(zip(unique, counts)).values(),reverse=True)"
      ],
      "metadata": {
        "id": "1RqdyBP6O7Ol"
      },
      "execution_count": null,
      "outputs": []
    },
    {
      "cell_type": "code",
      "source": [
        "range1 = list(range(1,8))\n",
        "range2 = list(range(1,9))\n",
        "f, axes = plt.subplots(3, 2, figsize=(12, 9), sharex=True)\n",
        "sn.barplot(x=range2, y = list(data2['label'].value_counts()),palette=\"brg_r\",ax=axes[0, 0])\n",
        "sn.barplot(x=range2, y=clustered_data_pca[\"Kmeans_clusters\"].value_counts(),palette=\"brg_r\",ax=axes[0, 1])\n",
        "sn.barplot(x=range2, y=clustered_data_pca[\"GM_clusters\"].value_counts(),palette=\"brg_r\",ax=axes[1, 0])\n",
        "sn.barplot(x=range2, y=clustered_data_pca[\"Hierarchical_clusters\"].value_counts(),palette=\"brg_r\",ax=axes[1, 1])\n",
        "sn.barplot(x=range2, y=clustered_data_pca[\"birch_clusters\"].value_counts(),palette=\"brg_r\",ax=axes[2, 0])\n",
        "sn.barplot(x=range1, y = db_values,palette=\"brg_r\",ax=axes[2, 1])\n",
        "axes[0, 0].set_title(\"Real Labels\")\n",
        "axes[2, 1].set_title(\"DBscan\")"
      ],
      "metadata": {
        "colab": {
          "base_uri": "https://localhost:8080/",
          "height": 573
        },
        "outputId": "40967296-6bd4-41c2-fb54-cf0bb967bf7a",
        "id": "iBF_-fR-O7Om"
      },
      "execution_count": null,
      "outputs": [
        {
          "output_type": "execute_result",
          "data": {
            "text/plain": [
              "Text(0.5, 1.0, 'DBscan')"
            ]
          },
          "metadata": {},
          "execution_count": 69
        },
        {
          "output_type": "display_data",
          "data": {
            "image/png": "[encoded data removed]",
            "text/plain": [
              "<Figure size 864x648 with 6 Axes>"
            ]
          },
          "metadata": {
            "needs_background": "light"
          }
        }
      ]
    },
    {
      "cell_type": "code",
      "source": [
        ""
      ],
      "metadata": {
        "id": "a-CmQuk6JQXv"
      },
      "execution_count": null,
      "outputs": []
    }
  ]
}