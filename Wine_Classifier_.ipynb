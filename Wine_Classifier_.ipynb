{
  "nbformat": 4,
  "nbformat_minor": 0,
  "metadata": {
    "colab": {
      "name": "Wine_Classifier .ipynb",
      "provenance": [],
      "collapsed_sections": [],
      "authorship_tag": "ABX9TyM2RZwc9T6NlRaPyKfepXA2",
      "include_colab_link": true
    },
    "kernelspec": {
      "name": "python3",
      "display_name": "Python 3"
    },
    "language_info": {
      "name": "python"
    }
  },
  "cells": [
    {
      "cell_type": "markdown",
      "metadata": {
        "id": "view-in-github",
        "colab_type": "text"
      },
      "source": [
        "<a href=\"https://colab.research.google.com/github/mojtabaSefidi/Dataminig-small-projects/blob/main/Wine_Classifier_.ipynb\" target=\"_parent\"><img src=\"https://colab.research.google.com/assets/colab-badge.svg\" alt=\"Open In Colab\"/></a>"
      ]
    },
    {
      "cell_type": "code",
      "metadata": {
        "id": "S0tTsqpT66DT"
      },
      "source": [
        "import pandas as pd\n",
        "import numpy as np\n",
        "import matplotlib.pyplot as plt\n",
        "import seaborn as sn\n",
        "from sklearn.preprocessing import MinMaxScaler\n",
        "from sklearn.preprocessing import StandardScaler\n",
        "from sklearn.model_selection import train_test_split\n",
        "from sklearn.manifold import TSNE\n",
        "from sklearn.decomposition import PCA\n",
        "from sklearn.metrics import classification_report, confusion_matrix\n",
        "from sklearn.ensemble import RandomForestClassifier\n",
        "sn.set()\n"
      ],
      "execution_count": 565,
      "outputs": []
    },
    {
      "cell_type": "code",
      "metadata": {
        "colab": {
          "base_uri": "https://localhost:8080/"
        },
        "id": "O892WH3g8XxE",
        "outputId": "33ae1683-0288-47c7-94f2-a03d4998de90"
      },
      "source": [
        "!gdown --id 1Xw7WqDmbWiPQvK-Uyr8sJs5dLUD-pipq\n",
        "!gdown --id 12DiliESRRVYibZokLxEwTc6eXNShCkxM"
      ],
      "execution_count": 566,
      "outputs": [
        {
          "output_type": "stream",
          "name": "stdout",
          "text": [
            "Downloading...\n",
            "From: https://drive.google.com/uc?id=1Xw7WqDmbWiPQvK-Uyr8sJs5dLUD-pipq\n",
            "To: /content/winequality-white.csv\n",
            "100% 269k/269k [00:00<00:00, 38.8MB/s]\n",
            "Downloading...\n",
            "From: https://drive.google.com/uc?id=12DiliESRRVYibZokLxEwTc6eXNShCkxM\n",
            "To: /content/winequality-red.csv\n",
            "100% 85.8k/85.8k [00:00<00:00, 25.9MB/s]\n"
          ]
        }
      ]
    },
    {
      "cell_type": "code",
      "metadata": {
        "id": "wTpaAxwb86uc"
      },
      "source": [
        "red_wine =  pd.read_csv('winequality-red.csv')\n",
        "white_wine =  pd.read_csv('winequality-white.csv')"
      ],
      "execution_count": 587,
      "outputs": []
    },
    {
      "cell_type": "code",
      "metadata": {
        "colab": {
          "base_uri": "https://localhost:8080/",
          "height": 474
        },
        "id": "s0nkxPS09M46",
        "outputId": "4124b02f-3b39-47d8-d460-b119bb62462a"
      },
      "source": [
        "red_wine['type'] = 'red'\n",
        "white_wine['type'] = 'white'\n",
        "wine_data = pd.concat([red_wine, white_wine], axis = 0, ignore_index = False).reset_index(drop=True)\n",
        "wine_data = wine_data.sample(frac=1,axis=0).reset_index(drop=True)\n",
        "print(wine_data.shape)\n",
        "wine_data.head(5).T\n"
      ],
      "execution_count": 598,
      "outputs": [
        {
          "output_type": "stream",
          "name": "stdout",
          "text": [
            "(6497, 13)\n"
          ]
        },
        {
          "output_type": "execute_result",
          "data": {
            "text/html": [
              "<div>\n",
              "<style scoped>\n",
              "    .dataframe tbody tr th:only-of-type {\n",
              "        vertical-align: middle;\n",
              "    }\n",
              "\n",
              "    .dataframe tbody tr th {\n",
              "        vertical-align: top;\n",
              "    }\n",
              "\n",
              "    .dataframe thead th {\n",
              "        text-align: right;\n",
              "    }\n",
              "</style>\n",
              "<table border=\"1\" class=\"dataframe\">\n",
              "  <thead>\n",
              "    <tr style=\"text-align: right;\">\n",
              "      <th></th>\n",
              "      <th>0</th>\n",
              "      <th>1</th>\n",
              "      <th>2</th>\n",
              "      <th>3</th>\n",
              "      <th>4</th>\n",
              "    </tr>\n",
              "  </thead>\n",
              "  <tbody>\n",
              "    <tr>\n",
              "      <th>fixed acidity</th>\n",
              "      <td>6.7</td>\n",
              "      <td>6.2</td>\n",
              "      <td>6.4</td>\n",
              "      <td>6.7</td>\n",
              "      <td>7</td>\n",
              "    </tr>\n",
              "    <tr>\n",
              "      <th>volatile acidity</th>\n",
              "      <td>0.36</td>\n",
              "      <td>0.3</td>\n",
              "      <td>0.37</td>\n",
              "      <td>0.3</td>\n",
              "      <td>0.43</td>\n",
              "    </tr>\n",
              "    <tr>\n",
              "      <th>citric acid</th>\n",
              "      <td>0.28</td>\n",
              "      <td>0.32</td>\n",
              "      <td>0.2</td>\n",
              "      <td>0.35</td>\n",
              "      <td>0.3</td>\n",
              "    </tr>\n",
              "    <tr>\n",
              "      <th>residual sugar</th>\n",
              "      <td>8.3</td>\n",
              "      <td>1.3</td>\n",
              "      <td>5.6</td>\n",
              "      <td>1.4</td>\n",
              "      <td>2</td>\n",
              "    </tr>\n",
              "    <tr>\n",
              "      <th>chlorides</th>\n",
              "      <td>0.034</td>\n",
              "      <td>0.054</td>\n",
              "      <td>0.117</td>\n",
              "      <td>0.18</td>\n",
              "      <td>0.085</td>\n",
              "    </tr>\n",
              "    <tr>\n",
              "      <th>free sulfur dioxide</th>\n",
              "      <td>29</td>\n",
              "      <td>27</td>\n",
              "      <td>61</td>\n",
              "      <td>36</td>\n",
              "      <td>6</td>\n",
              "    </tr>\n",
              "    <tr>\n",
              "      <th>total sulfur dioxide</th>\n",
              "      <td>81</td>\n",
              "      <td>183</td>\n",
              "      <td>183</td>\n",
              "      <td>160</td>\n",
              "      <td>39</td>\n",
              "    </tr>\n",
              "    <tr>\n",
              "      <th>density</th>\n",
              "      <td>0.99151</td>\n",
              "      <td>0.99266</td>\n",
              "      <td>0.99459</td>\n",
              "      <td>0.9937</td>\n",
              "      <td>0.99346</td>\n",
              "    </tr>\n",
              "    <tr>\n",
              "      <th>pH</th>\n",
              "      <td>2.96</td>\n",
              "      <td>3.3</td>\n",
              "      <td>3.24</td>\n",
              "      <td>3.11</td>\n",
              "      <td>3.33</td>\n",
              "    </tr>\n",
              "    <tr>\n",
              "      <th>sulphates</th>\n",
              "      <td>0.39</td>\n",
              "      <td>0.43</td>\n",
              "      <td>0.43</td>\n",
              "      <td>0.54</td>\n",
              "      <td>0.46</td>\n",
              "    </tr>\n",
              "    <tr>\n",
              "      <th>alcohol</th>\n",
              "      <td>12.5</td>\n",
              "      <td>10.1</td>\n",
              "      <td>9.5</td>\n",
              "      <td>9.4</td>\n",
              "      <td>11.9</td>\n",
              "    </tr>\n",
              "    <tr>\n",
              "      <th>quality</th>\n",
              "      <td>6</td>\n",
              "      <td>5</td>\n",
              "      <td>5</td>\n",
              "      <td>6</td>\n",
              "      <td>6</td>\n",
              "    </tr>\n",
              "    <tr>\n",
              "      <th>type</th>\n",
              "      <td>white</td>\n",
              "      <td>white</td>\n",
              "      <td>white</td>\n",
              "      <td>white</td>\n",
              "      <td>red</td>\n",
              "    </tr>\n",
              "  </tbody>\n",
              "</table>\n",
              "</div>"
            ],
            "text/plain": [
              "                            0        1        2       3        4\n",
              "fixed acidity             6.7      6.2      6.4     6.7        7\n",
              "volatile acidity         0.36      0.3     0.37     0.3     0.43\n",
              "citric acid              0.28     0.32      0.2    0.35      0.3\n",
              "residual sugar            8.3      1.3      5.6     1.4        2\n",
              "chlorides               0.034    0.054    0.117    0.18    0.085\n",
              "free sulfur dioxide        29       27       61      36        6\n",
              "total sulfur dioxide       81      183      183     160       39\n",
              "density               0.99151  0.99266  0.99459  0.9937  0.99346\n",
              "pH                       2.96      3.3     3.24    3.11     3.33\n",
              "sulphates                0.39     0.43     0.43    0.54     0.46\n",
              "alcohol                  12.5     10.1      9.5     9.4     11.9\n",
              "quality                     6        5        5       6        6\n",
              "type                    white    white    white   white      red"
            ]
          },
          "metadata": {},
          "execution_count": 598
        }
      ]
    },
    {
      "cell_type": "code",
      "metadata": {
        "colab": {
          "base_uri": "https://localhost:8080/",
          "height": 426
        },
        "id": "91qYsTfK7WXZ",
        "outputId": "3011d34e-1d50-41bb-9cfd-c279e15e7f84"
      },
      "source": [
        "wine_data.describe().T"
      ],
      "execution_count": 589,
      "outputs": [
        {
          "output_type": "execute_result",
          "data": {
            "text/html": [
              "<div>\n",
              "<style scoped>\n",
              "    .dataframe tbody tr th:only-of-type {\n",
              "        vertical-align: middle;\n",
              "    }\n",
              "\n",
              "    .dataframe tbody tr th {\n",
              "        vertical-align: top;\n",
              "    }\n",
              "\n",
              "    .dataframe thead th {\n",
              "        text-align: right;\n",
              "    }\n",
              "</style>\n",
              "<table border=\"1\" class=\"dataframe\">\n",
              "  <thead>\n",
              "    <tr style=\"text-align: right;\">\n",
              "      <th></th>\n",
              "      <th>count</th>\n",
              "      <th>mean</th>\n",
              "      <th>std</th>\n",
              "      <th>min</th>\n",
              "      <th>25%</th>\n",
              "      <th>50%</th>\n",
              "      <th>75%</th>\n",
              "      <th>max</th>\n",
              "    </tr>\n",
              "  </thead>\n",
              "  <tbody>\n",
              "    <tr>\n",
              "      <th>fixed acidity</th>\n",
              "      <td>6497.0</td>\n",
              "      <td>7.215307</td>\n",
              "      <td>1.296434</td>\n",
              "      <td>3.80000</td>\n",
              "      <td>6.40000</td>\n",
              "      <td>7.00000</td>\n",
              "      <td>7.70000</td>\n",
              "      <td>15.90000</td>\n",
              "    </tr>\n",
              "    <tr>\n",
              "      <th>volatile acidity</th>\n",
              "      <td>6497.0</td>\n",
              "      <td>0.339666</td>\n",
              "      <td>0.164636</td>\n",
              "      <td>0.08000</td>\n",
              "      <td>0.23000</td>\n",
              "      <td>0.29000</td>\n",
              "      <td>0.40000</td>\n",
              "      <td>1.58000</td>\n",
              "    </tr>\n",
              "    <tr>\n",
              "      <th>citric acid</th>\n",
              "      <td>6497.0</td>\n",
              "      <td>0.318633</td>\n",
              "      <td>0.145318</td>\n",
              "      <td>0.00000</td>\n",
              "      <td>0.25000</td>\n",
              "      <td>0.31000</td>\n",
              "      <td>0.39000</td>\n",
              "      <td>1.66000</td>\n",
              "    </tr>\n",
              "    <tr>\n",
              "      <th>residual sugar</th>\n",
              "      <td>6497.0</td>\n",
              "      <td>5.443235</td>\n",
              "      <td>4.757804</td>\n",
              "      <td>0.60000</td>\n",
              "      <td>1.80000</td>\n",
              "      <td>3.00000</td>\n",
              "      <td>8.10000</td>\n",
              "      <td>65.80000</td>\n",
              "    </tr>\n",
              "    <tr>\n",
              "      <th>chlorides</th>\n",
              "      <td>6497.0</td>\n",
              "      <td>0.056034</td>\n",
              "      <td>0.035034</td>\n",
              "      <td>0.00900</td>\n",
              "      <td>0.03800</td>\n",
              "      <td>0.04700</td>\n",
              "      <td>0.06500</td>\n",
              "      <td>0.61100</td>\n",
              "    </tr>\n",
              "    <tr>\n",
              "      <th>free sulfur dioxide</th>\n",
              "      <td>6497.0</td>\n",
              "      <td>30.525319</td>\n",
              "      <td>17.749400</td>\n",
              "      <td>1.00000</td>\n",
              "      <td>17.00000</td>\n",
              "      <td>29.00000</td>\n",
              "      <td>41.00000</td>\n",
              "      <td>289.00000</td>\n",
              "    </tr>\n",
              "    <tr>\n",
              "      <th>total sulfur dioxide</th>\n",
              "      <td>6497.0</td>\n",
              "      <td>115.744574</td>\n",
              "      <td>56.521855</td>\n",
              "      <td>6.00000</td>\n",
              "      <td>77.00000</td>\n",
              "      <td>118.00000</td>\n",
              "      <td>156.00000</td>\n",
              "      <td>440.00000</td>\n",
              "    </tr>\n",
              "    <tr>\n",
              "      <th>density</th>\n",
              "      <td>6497.0</td>\n",
              "      <td>0.994697</td>\n",
              "      <td>0.002999</td>\n",
              "      <td>0.98711</td>\n",
              "      <td>0.99234</td>\n",
              "      <td>0.99489</td>\n",
              "      <td>0.99699</td>\n",
              "      <td>1.03898</td>\n",
              "    </tr>\n",
              "    <tr>\n",
              "      <th>pH</th>\n",
              "      <td>6497.0</td>\n",
              "      <td>3.218501</td>\n",
              "      <td>0.160787</td>\n",
              "      <td>2.72000</td>\n",
              "      <td>3.11000</td>\n",
              "      <td>3.21000</td>\n",
              "      <td>3.32000</td>\n",
              "      <td>4.01000</td>\n",
              "    </tr>\n",
              "    <tr>\n",
              "      <th>sulphates</th>\n",
              "      <td>6497.0</td>\n",
              "      <td>0.531268</td>\n",
              "      <td>0.148806</td>\n",
              "      <td>0.22000</td>\n",
              "      <td>0.43000</td>\n",
              "      <td>0.51000</td>\n",
              "      <td>0.60000</td>\n",
              "      <td>2.00000</td>\n",
              "    </tr>\n",
              "    <tr>\n",
              "      <th>alcohol</th>\n",
              "      <td>6497.0</td>\n",
              "      <td>10.491801</td>\n",
              "      <td>1.192712</td>\n",
              "      <td>8.00000</td>\n",
              "      <td>9.50000</td>\n",
              "      <td>10.30000</td>\n",
              "      <td>11.30000</td>\n",
              "      <td>14.90000</td>\n",
              "    </tr>\n",
              "    <tr>\n",
              "      <th>quality</th>\n",
              "      <td>6497.0</td>\n",
              "      <td>5.818378</td>\n",
              "      <td>0.873255</td>\n",
              "      <td>3.00000</td>\n",
              "      <td>5.00000</td>\n",
              "      <td>6.00000</td>\n",
              "      <td>6.00000</td>\n",
              "      <td>9.00000</td>\n",
              "    </tr>\n",
              "  </tbody>\n",
              "</table>\n",
              "</div>"
            ],
            "text/plain": [
              "                       count        mean  ...        75%        max\n",
              "fixed acidity         6497.0    7.215307  ...    7.70000   15.90000\n",
              "volatile acidity      6497.0    0.339666  ...    0.40000    1.58000\n",
              "citric acid           6497.0    0.318633  ...    0.39000    1.66000\n",
              "residual sugar        6497.0    5.443235  ...    8.10000   65.80000\n",
              "chlorides             6497.0    0.056034  ...    0.06500    0.61100\n",
              "free sulfur dioxide   6497.0   30.525319  ...   41.00000  289.00000\n",
              "total sulfur dioxide  6497.0  115.744574  ...  156.00000  440.00000\n",
              "density               6497.0    0.994697  ...    0.99699    1.03898\n",
              "pH                    6497.0    3.218501  ...    3.32000    4.01000\n",
              "sulphates             6497.0    0.531268  ...    0.60000    2.00000\n",
              "alcohol               6497.0   10.491801  ...   11.30000   14.90000\n",
              "quality               6497.0    5.818378  ...    6.00000    9.00000\n",
              "\n",
              "[12 rows x 8 columns]"
            ]
          },
          "metadata": {},
          "execution_count": 589
        }
      ]
    },
    {
      "cell_type": "code",
      "metadata": {
        "colab": {
          "base_uri": "https://localhost:8080/",
          "height": 759
        },
        "id": "_5jIl_-lJRlY",
        "outputId": "a837c852-99fc-49e8-8e92-80e72ee43dde"
      },
      "source": [
        "wine_data[\"type\"] = wine_data[\"type\"].map({'red':0,\"white\":1})\n",
        "feature_correlation = wine_data.corr()\n",
        "plt.figure(figsize=(12,12))\n",
        "plt.title('Correlation_matrix')\n",
        "sn.heatmap(feature_correlation, cbar=True, square= True, fmt='.1f', annot=True, annot_kws={'size':13}, cmap='YlOrRd')"
      ],
      "execution_count": 568,
      "outputs": [
        {
          "output_type": "execute_result",
          "data": {
            "text/plain": [
              "<matplotlib.axes._subplots.AxesSubplot at 0x7fea87b47310>"
            ]
          },
          "metadata": {},
          "execution_count": 568
        },
        {
          "output_type": "display_data",
          "data": {
            "image/png": "[encoded data removed]",
            "text/plain": [
              "<Figure size 864x864 with 2 Axes>"
            ]
          },
          "metadata": {}
        }
      ]
    },
    {
      "cell_type": "code",
      "metadata": {
        "colab": {
          "base_uri": "https://localhost:8080/"
        },
        "id": "_p7agnu8_5La",
        "outputId": "7ddde705-9a7e-4ba6-e2c9-4b2a09198ce9"
      },
      "source": [
        "wine_data[wine_data.columns].corr()['type'][:-1].abs().sort_values(ascending=False).drop_duplicates()"
      ],
      "execution_count": 569,
      "outputs": [
        {
          "output_type": "execute_result",
          "data": {
            "text/plain": [
              "total sulfur dioxide    0.700357\n",
              "volatile acidity        0.653036\n",
              "chlorides               0.512678\n",
              "sulphates               0.487218\n",
              "fixed acidity           0.486740\n",
              "free sulfur dioxide     0.471644\n",
              "density                 0.390645\n",
              "residual sugar          0.348821\n",
              "pH                      0.329129\n",
              "citric acid             0.187397\n",
              "quality                 0.119323\n",
              "alcohol                 0.032970\n",
              "Name: type, dtype: float64"
            ]
          },
          "metadata": {},
          "execution_count": 569
        }
      ]
    },
    {
      "cell_type": "code",
      "metadata": {
        "id": "BhBf2U1kE5Mf"
      },
      "source": [
        "X_wine_type = wine_data[['total sulfur dioxide','free sulfur dioxide','volatile acidity','fixed acidity','chlorides','sulphates']]\n",
        "Y_wine_type = wine_data['type']"
      ],
      "execution_count": 570,
      "outputs": []
    },
    {
      "cell_type": "code",
      "metadata": {
        "id": "xE6tVhAfR4pE"
      },
      "source": [
        "standard_scaler = StandardScaler()\n",
        "standard_scaler.fit(X_wine_type)\n",
        "X_standard_scaled = standard_scaler.transform(X_wine_type)"
      ],
      "execution_count": 571,
      "outputs": []
    },
    {
      "cell_type": "code",
      "metadata": {
        "colab": {
          "base_uri": "https://localhost:8080/"
        },
        "id": "UOBxhV1dSo1Z",
        "outputId": "6482f637-0ab8-46cc-f60e-eb46865982aa"
      },
      "source": [
        "pca = PCA(n_components=1)\n",
        "pca_result = pca.fit_transform(X_standard_scaled)\n",
        "X_pca = np.array((pca_result[:,0])).T\n",
        "y_pca = wine_data['type']\n",
        "print(pca.explained_variance_ratio_)"
      ],
      "execution_count": 572,
      "outputs": [
        {
          "output_type": "stream",
          "name": "stdout",
          "text": [
            "[0.44077556]\n"
          ]
        }
      ]
    },
    {
      "cell_type": "code",
      "metadata": {
        "id": "gehcLJOjSxjR"
      },
      "source": [
        "tsne = TSNE(n_components=1)\n",
        "X_tsne = tsne.fit_transform(X_standard_scaled)\n",
        "y_tsne = wine_data['type']"
      ],
      "execution_count": null,
      "outputs": []
    },
    {
      "cell_type": "code",
      "metadata": {
        "id": "FjApV0iSU1Qb"
      },
      "source": [
        "source = wine_data[['total sulfur dioxide','free sulfur dioxide','volatile acidity','fixed acidity']]\n",
        "source.set_axis(['total_sulfur_dioxide','free_sulfur_dioxide','volatile_acidity','fixed_acidity'], axis=1, inplace=True)\n",
        "feature_generation = pd.DataFrame()\n",
        "feature_generation['sulfur dioxide r2 '] = source.apply(\n",
        "        lambda row: np.sqrt((row.total_sulfur_dioxide ** 2 + row.free_sulfur_dioxide ** 2 )), axis=1)\n",
        "feature_generation['acidity r2 '] = source.apply(\n",
        "        lambda row: np.sqrt((row.volatile_acidity ** 2 + row.fixed_acidity ** 2 )), axis=1)\n",
        "feature_generation['chlorides'] = wine_data['chlorides']\n",
        "feature_generation['sulphates'] = wine_data['sulphates']\n",
        "\n",
        "standard_scaler.fit(feature_generation)\n",
        "generated_feature_standard_scaled = standard_scaler.transform(feature_generation)\n",
        "y_wine_generated = wine_data['type']\n"
      ],
      "execution_count": 574,
      "outputs": []
    },
    {
      "cell_type": "code",
      "metadata": {
        "id": "xY20oMFlc9n4"
      },
      "source": [
        "x_train, x_test, y_train, y_test = train_test_split(X_standard_scaled,Y_wine_type,test_size=0.33,shuffle=True)\n",
        "clf = RandomForestClassifier(max_depth=1, random_state=1)\n",
        "clf.fit(x_train, y_train)\n",
        "y_pred = clf.predict(x_test)\n"
      ],
      "execution_count": 575,
      "outputs": []
    },
    {
      "cell_type": "code",
      "metadata": {
        "colab": {
          "base_uri": "https://localhost:8080/"
        },
        "id": "3XAebkj1isGA",
        "outputId": "41d90293-2560-4a0b-848c-f0423c2e7365"
      },
      "source": [
        "print(\"score on test: \"  + str(clf.score(x_test, y_test)))\n",
        "print(\"score on train: \" + str(clf.score(x_train, y_train)))\n",
        "print(classification_report(y_test, y_pred))\n",
        "print(confusion_matrix(y_test, y_pred))"
      ],
      "execution_count": 576,
      "outputs": [
        {
          "output_type": "stream",
          "name": "stdout",
          "text": [
            "score on test: 0.9337995337995338\n",
            "score on train: 0.9409466911764706\n",
            "              precision    recall  f1-score   support\n",
            "\n",
            "           0       0.99      0.75      0.85       544\n",
            "           1       0.92      1.00      0.96      1601\n",
            "\n",
            "    accuracy                           0.93      2145\n",
            "   macro avg       0.95      0.87      0.90      2145\n",
            "weighted avg       0.94      0.93      0.93      2145\n",
            "\n",
            "[[ 408  136]\n",
            " [   6 1595]]\n"
          ]
        }
      ]
    },
    {
      "cell_type": "code",
      "metadata": {
        "id": "a5FkNiXGlmoj"
      },
      "source": [
        "x_train, x_test, y_train, y_test = train_test_split(X_pca.reshape(-1, 1),y_pca,test_size=0.33,shuffle=True)\n",
        "clf = RandomForestClassifier(max_depth=1, random_state=1)\n",
        "clf.fit(x_train, y_train)\n",
        "y_pred = clf.predict(x_test)\n"
      ],
      "execution_count": 577,
      "outputs": []
    },
    {
      "cell_type": "code",
      "metadata": {
        "colab": {
          "base_uri": "https://localhost:8080/"
        },
        "id": "KsXNc1d3lmoj",
        "outputId": "f5ee7049-b0cf-4594-c7c4-67c3c714e4db"
      },
      "source": [
        "print(\"score on test: \"  + str(clf.score(x_test, y_test)))\n",
        "print(\"score on train: \" + str(clf.score(x_train, y_train)))\n",
        "print(classification_report(y_test, y_pred))\n",
        "print(confusion_matrix(y_test, y_pred))"
      ],
      "execution_count": 578,
      "outputs": [
        {
          "output_type": "stream",
          "name": "stdout",
          "text": [
            "score on test: 0.9692307692307692\n",
            "score on train: 0.9715073529411765\n",
            "              precision    recall  f1-score   support\n",
            "\n",
            "           0       0.92      0.95      0.93       497\n",
            "           1       0.98      0.98      0.98      1648\n",
            "\n",
            "    accuracy                           0.97      2145\n",
            "   macro avg       0.95      0.96      0.96      2145\n",
            "weighted avg       0.97      0.97      0.97      2145\n",
            "\n",
            "[[ 472   25]\n",
            " [  41 1607]]\n"
          ]
        }
      ]
    },
    {
      "cell_type": "code",
      "metadata": {
        "id": "y7jNubWTlmyM"
      },
      "source": [
        "x_train, x_test, y_train, y_test = train_test_split(X_tsne,y_tsne,test_size=0.33,shuffle=True)\n",
        "clf = RandomForestClassifier(max_depth=1, random_state=1)\n",
        "clf.fit(x_train, y_train)\n",
        "y_pred = clf.predict(x_test)\n"
      ],
      "execution_count": 579,
      "outputs": []
    },
    {
      "cell_type": "code",
      "metadata": {
        "colab": {
          "base_uri": "https://localhost:8080/"
        },
        "id": "KBvWj1Y2lmyM",
        "outputId": "7a1e3d01-1bf9-4a40-f498-72fd1879eb81"
      },
      "source": [
        "print(\"score on test: \"  + str(clf.score(x_test, y_test)))\n",
        "print(\"score on train: \" + str(clf.score(x_train, y_train)))\n",
        "print(classification_report(y_test, y_pred))\n",
        "print(confusion_matrix(y_test, y_pred))"
      ],
      "execution_count": 580,
      "outputs": [
        {
          "output_type": "stream",
          "name": "stdout",
          "text": [
            "score on test: 0.9888111888111888\n",
            "score on train: 0.9885110294117647\n",
            "              precision    recall  f1-score   support\n",
            "\n",
            "           0       0.99      0.97      0.98       515\n",
            "           1       0.99      1.00      0.99      1630\n",
            "\n",
            "    accuracy                           0.99      2145\n",
            "   macro avg       0.99      0.98      0.98      2145\n",
            "weighted avg       0.99      0.99      0.99      2145\n",
            "\n",
            "[[ 498   17]\n",
            " [   7 1623]]\n"
          ]
        }
      ]
    },
    {
      "cell_type": "code",
      "metadata": {
        "id": "Vj_htg7rlm8t"
      },
      "source": [
        "x_train, x_test, y_train, y_test = train_test_split(generated_feature_standard_scaled,y_wine_generated,test_size=0.33,shuffle=True)\n",
        "clf = RandomForestClassifier(max_depth=1, random_state=1)\n",
        "clf.fit(x_train, y_train)\n",
        "y_pred = clf.predict(x_test)\n"
      ],
      "execution_count": 581,
      "outputs": []
    },
    {
      "cell_type": "code",
      "metadata": {
        "colab": {
          "base_uri": "https://localhost:8080/"
        },
        "id": "JhaXrfWKlm8t",
        "outputId": "06dcd15f-6849-4c9c-b02b-9a9c9332afd4"
      },
      "source": [
        "print(\"score on test: \"  + str(clf.score(x_test, y_test)))\n",
        "print(\"score on train: \" + str(clf.score(x_train, y_train)))\n",
        "print(classification_report(y_test, y_pred))\n",
        "print(confusion_matrix(y_test, y_pred))"
      ],
      "execution_count": 582,
      "outputs": [
        {
          "output_type": "stream",
          "name": "stdout",
          "text": [
            "score on test: 0.931934731934732\n",
            "score on train: 0.9227941176470589\n",
            "              precision    recall  f1-score   support\n",
            "\n",
            "           0       0.99      0.73      0.84       522\n",
            "           1       0.92      1.00      0.96      1623\n",
            "\n",
            "    accuracy                           0.93      2145\n",
            "   macro avg       0.96      0.86      0.90      2145\n",
            "weighted avg       0.94      0.93      0.93      2145\n",
            "\n",
            "[[ 379  143]\n",
            " [   3 1620]]\n"
          ]
        }
      ]
    },
    {
      "cell_type": "code",
      "metadata": {
        "id": "B9yDtq_QVBp-"
      },
      "source": [
        "min_max_scaler = MinMaxScaler()\n",
        "min_max_scaler.fit(X_wine_type)\n",
        "X_min_max_scaled = min_max_scaler.transform(X_wine_type)"
      ],
      "execution_count": 583,
      "outputs": []
    },
    {
      "cell_type": "code",
      "metadata": {
        "colab": {
          "base_uri": "https://localhost:8080/"
        },
        "id": "xFA_sOkzmvpw",
        "outputId": "55e3402f-da1a-4436-b2d2-faf72deeeb27"
      },
      "source": [
        "pca = PCA(n_components=1)\n",
        "pca_result = pca.fit_transform(X_min_max_scaled)\n",
        "X_pca = np.array((pca_result[:,0])).T\n",
        "y_pca = wine_data['type']\n",
        "print(pca.explained_variance_ratio_)"
      ],
      "execution_count": 584,
      "outputs": [
        {
          "output_type": "stream",
          "name": "stdout",
          "text": [
            "[0.49210136]\n"
          ]
        }
      ]
    },
    {
      "cell_type": "code",
      "metadata": {
        "colab": {
          "base_uri": "https://localhost:8080/"
        },
        "id": "mHmcSolRmvpw",
        "outputId": "00bfab35-408d-4d95-812c-2d31bfdccb91"
      },
      "source": [
        "tsne = TSNE(n_components=1)\n",
        "X_tsne = tsne.fit_transform(X_min_max_scaled)\n",
        "y_tsne = wine_data['type']"
      ],
      "execution_count": 539,
      "outputs": [
        {
          "output_type": "stream",
          "name": "stderr",
          "text": [
            "/usr/local/lib/python3.7/dist-packages/sklearn/manifold/_t_sne.py:783: FutureWarning: The default initialization in TSNE will change from 'random' to 'pca' in 1.2.\n",
            "  FutureWarning,\n",
            "/usr/local/lib/python3.7/dist-packages/sklearn/manifold/_t_sne.py:793: FutureWarning: The default learning rate in TSNE will change from 200.0 to 'auto' in 1.2.\n",
            "  FutureWarning,\n"
          ]
        }
      ]
    },
    {
      "cell_type": "code",
      "metadata": {
        "id": "VBCqsNqmmvpw"
      },
      "source": [
        "\n",
        "source = wine_data[['total sulfur dioxide','free sulfur dioxide','volatile acidity','fixed acidity']]\n",
        "source.set_axis(['total_sulfur_dioxide','free_sulfur_dioxide','volatile_acidity','fixed_acidity'], axis=1, inplace=True)\n",
        "feature_generation = pd.DataFrame()\n",
        "feature_generation['sulfur dioxide r2 '] = source.apply(\n",
        "        lambda row: np.sqrt((row.total_sulfur_dioxide ** 2 + row.free_sulfur_dioxide ** 2 )), axis=1)\n",
        "feature_generation['acidity r2 '] = source.apply(\n",
        "        lambda row: np.sqrt((row.volatile_acidity ** 2 + row.fixed_acidity ** 2 )), axis=1)\n",
        "feature_generation['chlorides'] = wine_data['chlorides']\n",
        "feature_generation['sulphates'] = wine_data['sulphates']\n",
        "\n",
        "min_max_scaler.fit(feature_generation)\n",
        "generated_feature_min_max_scaled = min_max_scaler.transform(feature_generation)\n",
        "y_wine_generated = wine_data['type']\n"
      ],
      "execution_count": 540,
      "outputs": []
    },
    {
      "cell_type": "code",
      "metadata": {
        "id": "eAL6MP30mvpw"
      },
      "source": [
        "x_train, x_test, y_train, y_test = train_test_split(X_min_max_scaled,Y_wine_type,test_size=0.33,shuffle=True)\n",
        "clf = RandomForestClassifier(max_depth=1, random_state=1)\n",
        "clf.fit(x_train, y_train)\n",
        "y_pred = clf.predict(x_test)\n"
      ],
      "execution_count": 541,
      "outputs": []
    },
    {
      "cell_type": "code",
      "metadata": {
        "colab": {
          "base_uri": "https://localhost:8080/"
        },
        "id": "ydT_gLsrmvpx",
        "outputId": "723729a8-99b2-4d44-c448-2c647086a99a"
      },
      "source": [
        "print(\"score on test: \"  + str(clf.score(x_test, y_test)))\n",
        "print(\"score on train: \" + str(clf.score(x_train, y_train)))\n",
        "print(classification_report(y_test, y_pred))\n",
        "print(confusion_matrix(y_test, y_pred))"
      ],
      "execution_count": 542,
      "outputs": [
        {
          "output_type": "stream",
          "name": "stdout",
          "text": [
            "score on test: 0.9417249417249417\n",
            "score on train: 0.9333639705882353\n",
            "              precision    recall  f1-score   support\n",
            "\n",
            "           0       0.99      0.77      0.87       528\n",
            "           1       0.93      1.00      0.96      1617\n",
            "\n",
            "    accuracy                           0.94      2145\n",
            "   macro avg       0.96      0.88      0.91      2145\n",
            "weighted avg       0.95      0.94      0.94      2145\n",
            "\n",
            "[[ 407  121]\n",
            " [   4 1613]]\n"
          ]
        }
      ]
    },
    {
      "cell_type": "code",
      "metadata": {
        "id": "LPA0DW-Tmvpx"
      },
      "source": [
        "x_train, x_test, y_train, y_test = train_test_split(X_pca.reshape(-1,1),y_pca,test_size=0.33,shuffle=True)\n",
        "clf = RandomForestClassifier(max_depth=1, random_state=1)\n",
        "clf.fit(x_train, y_train)\n",
        "y_pred = clf.predict(x_test)\n"
      ],
      "execution_count": 543,
      "outputs": []
    },
    {
      "cell_type": "code",
      "metadata": {
        "colab": {
          "base_uri": "https://localhost:8080/"
        },
        "id": "8R1zDYhymvpx",
        "outputId": "c42782da-e77d-4c8b-c876-f940d81e0482"
      },
      "source": [
        "print(\"score on test: \"  + str(clf.score(x_test, y_test)))\n",
        "print(\"score on train: \" + str(clf.score(x_train, y_train)))\n",
        "print(classification_report(y_test, y_pred))\n",
        "print(confusion_matrix(y_test, y_pred))"
      ],
      "execution_count": 544,
      "outputs": [
        {
          "output_type": "stream",
          "name": "stdout",
          "text": [
            "score on test: 0.9743589743589743\n",
            "score on train: 0.9701286764705882\n",
            "              precision    recall  f1-score   support\n",
            "\n",
            "           0       0.95      0.95      0.95       528\n",
            "           1       0.98      0.98      0.98      1617\n",
            "\n",
            "    accuracy                           0.97      2145\n",
            "   macro avg       0.97      0.97      0.97      2145\n",
            "weighted avg       0.97      0.97      0.97      2145\n",
            "\n",
            "[[ 500   28]\n",
            " [  27 1590]]\n"
          ]
        }
      ]
    },
    {
      "cell_type": "code",
      "metadata": {
        "id": "uGH71WZ3mvpy"
      },
      "source": [
        "x_train, x_test, y_train, y_test = train_test_split(X_tsne,y_tsne,test_size=0.33,shuffle=True)\n",
        "clf = RandomForestClassifier(max_depth=1, random_state=1)\n",
        "clf.fit(x_train, y_train)\n",
        "y_pred = clf.predict(x_test)\n"
      ],
      "execution_count": 545,
      "outputs": []
    },
    {
      "cell_type": "code",
      "metadata": {
        "colab": {
          "base_uri": "https://localhost:8080/"
        },
        "id": "JOpTkdGxmvpy",
        "outputId": "fe49f453-b045-4b0f-9d7d-3a5f88a3682f"
      },
      "source": [
        "print(\"score on test: \"  + str(clf.score(x_test, y_test)))\n",
        "print(\"score on train: \" + str(clf.score(x_train, y_train)))\n",
        "print(classification_report(y_test, y_pred))\n",
        "print(confusion_matrix(y_test, y_pred))"
      ],
      "execution_count": 546,
      "outputs": [
        {
          "output_type": "stream",
          "name": "stdout",
          "text": [
            "score on test: 0.9878787878787879\n",
            "score on train: 0.9848345588235294\n",
            "              precision    recall  f1-score   support\n",
            "\n",
            "           0       0.98      0.97      0.98       524\n",
            "           1       0.99      0.99      0.99      1621\n",
            "\n",
            "    accuracy                           0.99      2145\n",
            "   macro avg       0.98      0.98      0.98      2145\n",
            "weighted avg       0.99      0.99      0.99      2145\n",
            "\n",
            "[[ 510   14]\n",
            " [  12 1609]]\n"
          ]
        }
      ]
    },
    {
      "cell_type": "code",
      "metadata": {
        "id": "nIs2vM_2mvpy"
      },
      "source": [
        "x_train, x_test, y_train, y_test = train_test_split(generated_feature_min_max_scaled,y_wine_generated,test_size=0.33,shuffle=True)\n",
        "clf = RandomForestClassifier(max_depth=1, random_state=1)\n",
        "clf.fit(x_train, y_train)\n",
        "y_pred = clf.predict(x_test)\n"
      ],
      "execution_count": 547,
      "outputs": []
    },
    {
      "cell_type": "code",
      "metadata": {
        "colab": {
          "base_uri": "https://localhost:8080/"
        },
        "id": "9PVoRjFEmvpy",
        "outputId": "76ce7eff-43ed-4e0e-d08f-17d5f2dda7f8"
      },
      "source": [
        "print(\"score on test: \"  + str(clf.score(x_test, y_test)))\n",
        "print(\"score on train: \" + str(clf.score(x_train, y_train)))\n",
        "print(classification_report(y_test, y_pred))\n",
        "print(confusion_matrix(y_test, y_pred))"
      ],
      "execution_count": 548,
      "outputs": [
        {
          "output_type": "stream",
          "name": "stdout",
          "text": [
            "score on test: 0.9137529137529138\n",
            "score on train: 0.9306066176470589\n",
            "              precision    recall  f1-score   support\n",
            "\n",
            "           0       0.99      0.66      0.80       541\n",
            "           1       0.90      1.00      0.95      1604\n",
            "\n",
            "    accuracy                           0.91      2145\n",
            "   macro avg       0.94      0.83      0.87      2145\n",
            "weighted avg       0.92      0.91      0.91      2145\n",
            "\n",
            "[[ 359  182]\n",
            " [   3 1601]]\n"
          ]
        }
      ]
    },
    {
      "cell_type": "code",
      "metadata": {
        "id": "3S0oAt7Eoo5c"
      },
      "source": [
        "def Decimal_scale(dataframe):\n",
        "    for x in dataframe:\n",
        "        p = dataframe[x].max()\n",
        "        q = str(p).index('.')\n",
        "        if(int(p)<=0):\n",
        "          continue\n",
        "        else:\n",
        "          dataframe[x] = dataframe[x]/10**q\n",
        "    return dataframe"
      ],
      "execution_count": 549,
      "outputs": []
    },
    {
      "cell_type": "code",
      "metadata": {
        "id": "fU2khDz1oq1f"
      },
      "source": [
        "X_decimal_normalization = Decimal_scale(wine_data[['total sulfur dioxide','free sulfur dioxide','volatile acidity','fixed acidity','chlorides','sulphates']])"
      ],
      "execution_count": null,
      "outputs": []
    },
    {
      "cell_type": "code",
      "metadata": {
        "colab": {
          "base_uri": "https://localhost:8080/"
        },
        "id": "lGvHdPZ5qnzk",
        "outputId": "4cd724a4-8a94-4968-f79f-2f231d65eb0e"
      },
      "source": [
        "wine_data[['total sulfur dioxide','free sulfur dioxide','volatile acidity','fixed acidity','chlorides','sulphates']].max()"
      ],
      "execution_count": 551,
      "outputs": [
        {
          "output_type": "execute_result",
          "data": {
            "text/plain": [
              "total sulfur dioxide    440.000\n",
              "free sulfur dioxide     289.000\n",
              "volatile acidity          1.580\n",
              "fixed acidity            15.900\n",
              "chlorides                 0.611\n",
              "sulphates                 2.000\n",
              "dtype: float64"
            ]
          },
          "metadata": {},
          "execution_count": 551
        }
      ]
    },
    {
      "cell_type": "code",
      "metadata": {
        "colab": {
          "base_uri": "https://localhost:8080/"
        },
        "id": "ta-lc2P8pbqa",
        "outputId": "9d7a7d40-0ea8-4494-dece-8399b74291c6"
      },
      "source": [
        "X_decimal_normalization.max()"
      ],
      "execution_count": 552,
      "outputs": [
        {
          "output_type": "execute_result",
          "data": {
            "text/plain": [
              "total sulfur dioxide    0.440\n",
              "free sulfur dioxide     0.289\n",
              "volatile acidity        0.158\n",
              "fixed acidity           0.159\n",
              "chlorides               0.611\n",
              "sulphates               0.200\n",
              "dtype: float64"
            ]
          },
          "metadata": {},
          "execution_count": 552
        }
      ]
    },
    {
      "cell_type": "code",
      "metadata": {
        "colab": {
          "base_uri": "https://localhost:8080/"
        },
        "id": "xn6nayR5ucUK",
        "outputId": "2e9590c2-fbfc-4fe3-e229-cde1931ac48e"
      },
      "source": [
        "pca = PCA(n_components=1)\n",
        "pca_result = pca.fit_transform(X_decimal_normalization)\n",
        "X_pca = np.array((pca_result[:,0])).T\n",
        "y_pca = wine_data['type']\n",
        "print(pca.explained_variance_ratio_)"
      ],
      "execution_count": 553,
      "outputs": [
        {
          "output_type": "stream",
          "name": "stdout",
          "text": [
            "[0.66944629]\n"
          ]
        }
      ]
    },
    {
      "cell_type": "code",
      "metadata": {
        "id": "MThnMJdkucUK"
      },
      "source": [
        "tsne = TSNE(n_components=1)\n",
        "X_tsne = tsne.fit_transform(X_decimal_normalization)\n",
        "y_tsne = wine_data['type']"
      ],
      "execution_count": null,
      "outputs": []
    },
    {
      "cell_type": "code",
      "metadata": {
        "id": "SyvZ3U0qucUK"
      },
      "source": [
        "source = wine_data[['total sulfur dioxide','free sulfur dioxide','volatile acidity','fixed acidity']]\n",
        "source.set_axis(['total_sulfur_dioxide','free_sulfur_dioxide','volatile_acidity','fixed_acidity'], axis=1, inplace=True)\n",
        "feature_generation = pd.DataFrame()\n",
        "feature_generation['sulfur dioxide r2 '] = source.apply(\n",
        "        lambda row: np.sqrt((row.total_sulfur_dioxide ** 2 + row.free_sulfur_dioxide ** 2 )), axis=1)\n",
        "feature_generation['acidity r2 '] = source.apply(\n",
        "        lambda row: np.sqrt((row.volatile_acidity ** 2 + row.fixed_acidity ** 2 )), axis=1)\n",
        "feature_generation['chlorides'] = wine_data['chlorides']\n",
        "feature_generation['sulphates'] = wine_data['sulphates']\n",
        "generated_feature_Decimal_scale = Decimal_scale(feature_generation)\n",
        "\n",
        "y_wine_generated = wine_data['type']"
      ],
      "execution_count": 555,
      "outputs": []
    },
    {
      "cell_type": "code",
      "metadata": {
        "id": "p7gqRgPhucUK"
      },
      "source": [
        "x_train, x_test, y_train, y_test = train_test_split(X_decimal_normalization,Y_wine_type,test_size=0.33,shuffle=True)\n",
        "clf = RandomForestClassifier(max_depth=1, random_state=1)\n",
        "clf.fit(x_train, y_train)\n",
        "y_pred = clf.predict(x_test)\n"
      ],
      "execution_count": 556,
      "outputs": []
    },
    {
      "cell_type": "code",
      "metadata": {
        "colab": {
          "base_uri": "https://localhost:8080/"
        },
        "id": "dk_jYgXKucUL",
        "outputId": "96604bd7-11fd-4ac4-89e8-d60e4a294ba2"
      },
      "source": [
        "print(\"score on test: \"  + str(clf.score(x_test, y_test)))\n",
        "print(\"score on train: \" + str(clf.score(x_train, y_train)))\n",
        "print(classification_report(y_test, y_pred))\n",
        "print(confusion_matrix(y_test, y_pred))"
      ],
      "execution_count": 557,
      "outputs": [
        {
          "output_type": "stream",
          "name": "stdout",
          "text": [
            "score on test: 0.9328671328671329\n",
            "score on train: 0.9411764705882353\n",
            "              precision    recall  f1-score   support\n",
            "\n",
            "           0       0.99      0.73      0.84       518\n",
            "           1       0.92      1.00      0.96      1627\n",
            "\n",
            "    accuracy                           0.93      2145\n",
            "   macro avg       0.95      0.86      0.90      2145\n",
            "weighted avg       0.94      0.93      0.93      2145\n",
            "\n",
            "[[ 379  139]\n",
            " [   5 1622]]\n"
          ]
        }
      ]
    },
    {
      "cell_type": "code",
      "metadata": {
        "id": "BrxVA5NducUL"
      },
      "source": [
        "x_train, x_test, y_train, y_test = train_test_split(X_pca.reshape(-1,1),y_pca,test_size=0.33,shuffle=True)\n",
        "clf = RandomForestClassifier(max_depth=1, random_state=1)\n",
        "clf.fit(x_train, y_train)\n",
        "y_pred = clf.predict(x_test)\n"
      ],
      "execution_count": 558,
      "outputs": []
    },
    {
      "cell_type": "code",
      "metadata": {
        "colab": {
          "base_uri": "https://localhost:8080/"
        },
        "id": "CLVWDrJZucUL",
        "outputId": "a79685a1-cece-4325-a2cf-515506d6fd46"
      },
      "source": [
        "print(\"score on test: \"  + str(clf.score(x_test, y_test)))\n",
        "print(\"score on train: \" + str(clf.score(x_train, y_train)))\n",
        "print(classification_report(y_test, y_pred))\n",
        "print(confusion_matrix(y_test, y_pred))"
      ],
      "execution_count": 559,
      "outputs": [
        {
          "output_type": "stream",
          "name": "stdout",
          "text": [
            "score on test: 0.9468531468531468\n",
            "score on train: 0.9432444852941176\n",
            "              precision    recall  f1-score   support\n",
            "\n",
            "           0       0.93      0.84      0.88       519\n",
            "           1       0.95      0.98      0.97      1626\n",
            "\n",
            "    accuracy                           0.95      2145\n",
            "   macro avg       0.94      0.91      0.93      2145\n",
            "weighted avg       0.95      0.95      0.95      2145\n",
            "\n",
            "[[ 438   81]\n",
            " [  33 1593]]\n"
          ]
        }
      ]
    },
    {
      "cell_type": "code",
      "metadata": {
        "id": "fUEReUeVucUL"
      },
      "source": [
        "x_train, x_test, y_train, y_test = train_test_split(X_tsne,y_tsne,test_size=0.33,shuffle=True)\n",
        "clf = RandomForestClassifier(max_depth=1, random_state=1)\n",
        "clf.fit(x_train, y_train)\n",
        "y_pred = clf.predict(x_test)\n"
      ],
      "execution_count": 560,
      "outputs": []
    },
    {
      "cell_type": "code",
      "metadata": {
        "colab": {
          "base_uri": "https://localhost:8080/"
        },
        "id": "vy-gKyviucUL",
        "outputId": "37605fba-f2f4-40e5-933b-4755a9378e0e"
      },
      "source": [
        "print(\"score on test: \"  + str(clf.score(x_test, y_test)))\n",
        "print(\"score on train: \" + str(clf.score(x_train, y_train)))\n",
        "print(classification_report(y_test, y_pred))\n",
        "print(confusion_matrix(y_test, y_pred))"
      ],
      "execution_count": 561,
      "outputs": [
        {
          "output_type": "stream",
          "name": "stdout",
          "text": [
            "score on test: 0.9874125874125874\n",
            "score on train: 0.9875919117647058\n",
            "              precision    recall  f1-score   support\n",
            "\n",
            "           0       0.97      0.97      0.97       520\n",
            "           1       0.99      0.99      0.99      1625\n",
            "\n",
            "    accuracy                           0.99      2145\n",
            "   macro avg       0.98      0.98      0.98      2145\n",
            "weighted avg       0.99      0.99      0.99      2145\n",
            "\n",
            "[[ 506   14]\n",
            " [  13 1612]]\n"
          ]
        }
      ]
    },
    {
      "cell_type": "code",
      "metadata": {
        "id": "wIzBnbEyucUM"
      },
      "source": [
        "x_train, x_test, y_train, y_test = train_test_split(generated_feature_Decimal_scale,y_wine_generated,test_size=0.33,shuffle=True)\n",
        "clf = RandomForestClassifier(max_depth=1, random_state=1)\n",
        "clf.fit(x_train, y_train)\n",
        "y_pred = clf.predict(x_test)\n"
      ],
      "execution_count": 562,
      "outputs": []
    },
    {
      "cell_type": "code",
      "metadata": {
        "colab": {
          "base_uri": "https://localhost:8080/"
        },
        "id": "BSdy3dYRucUM",
        "outputId": "fd3b107b-60c0-45ec-ca78-56cb3bcf9edf"
      },
      "source": [
        "print(\"score on test: \"  + str(clf.score(x_test, y_test)))\n",
        "print(\"score on train: \" + str(clf.score(x_train, y_train)))\n",
        "print(classification_report(y_test, y_pred))\n",
        "print(confusion_matrix(y_test, y_pred))"
      ],
      "execution_count": 563,
      "outputs": [
        {
          "output_type": "stream",
          "name": "stdout",
          "text": [
            "score on test: 0.9268065268065268\n",
            "score on train: 0.9299172794117647\n",
            "              precision    recall  f1-score   support\n",
            "\n",
            "           0       0.98      0.72      0.83       536\n",
            "           1       0.91      1.00      0.95      1609\n",
            "\n",
            "    accuracy                           0.93      2145\n",
            "   macro avg       0.95      0.86      0.89      2145\n",
            "weighted avg       0.93      0.93      0.92      2145\n",
            "\n",
            "[[ 387  149]\n",
            " [   8 1601]]\n"
          ]
        }
      ]
    },
    {
      "cell_type": "code",
      "metadata": {
        "colab": {
          "base_uri": "https://localhost:8080/",
          "height": 175
        },
        "id": "kK2PMrXXEJQS",
        "outputId": "af0b5440-2383-4976-864f-bf562190ac31"
      },
      "source": [
        "conclusion = pd.DataFrame([['Z-Score Normalization', 0.93379 , 0.96923 , 0.98881 , 0.93193],\n",
        "              ['Min-Max Normalization', 0.94172 , 0.97435 , 0.98787 , 0.91375],\n",
        "              ['Decimal Scaling', 0.93286 , 0.94685 , 0.98741 , 0.92680]],\n",
        "              columns =[\"Normalization Algorithm\",\"Default Features\",\"Using PCA Algorithm \",\"Using TSNE Algorithm\",\"Generated Features\"])\n",
        "conclusion = conclusion.set_index('Normalization Algorithm')\n",
        "conclusion.style.background_gradient(cmap=\"YlOrRd\")"
      ],
      "execution_count": 597,
      "outputs": [
        {
          "output_type": "execute_result",
          "data": {
            "text/html": [
              "<style  type=\"text/css\" >\n",
              "#T_8a98a2c6_4f9a_11ec_9b31_0242ac1c0002row0_col0{\n",
              "            background-color:  #fff0a8;\n",
              "            color:  #000000;\n",
              "        }#T_8a98a2c6_4f9a_11ec_9b31_0242ac1c0002row0_col1{\n",
              "            background-color:  #cf0c21;\n",
              "            color:  #f1f1f1;\n",
              "        }#T_8a98a2c6_4f9a_11ec_9b31_0242ac1c0002row0_col2,#T_8a98a2c6_4f9a_11ec_9b31_0242ac1c0002row0_col3,#T_8a98a2c6_4f9a_11ec_9b31_0242ac1c0002row1_col0,#T_8a98a2c6_4f9a_11ec_9b31_0242ac1c0002row1_col1{\n",
              "            background-color:  #800026;\n",
              "            color:  #f1f1f1;\n",
              "        }#T_8a98a2c6_4f9a_11ec_9b31_0242ac1c0002row1_col2{\n",
              "            background-color:  #fec05b;\n",
              "            color:  #000000;\n",
              "        }#T_8a98a2c6_4f9a_11ec_9b31_0242ac1c0002row1_col3,#T_8a98a2c6_4f9a_11ec_9b31_0242ac1c0002row2_col0,#T_8a98a2c6_4f9a_11ec_9b31_0242ac1c0002row2_col1,#T_8a98a2c6_4f9a_11ec_9b31_0242ac1c0002row2_col2{\n",
              "            background-color:  #ffffcc;\n",
              "            color:  #000000;\n",
              "        }#T_8a98a2c6_4f9a_11ec_9b31_0242ac1c0002row2_col3{\n",
              "            background-color:  #e92720;\n",
              "            color:  #f1f1f1;\n",
              "        }</style><table id=\"T_8a98a2c6_4f9a_11ec_9b31_0242ac1c0002\" class=\"dataframe\"><thead>    <tr>        <th class=\"blank level0\" ></th>        <th class=\"col_heading level0 col0\" >Default Features</th>        <th class=\"col_heading level0 col1\" >Using PCA Algorithm </th>        <th class=\"col_heading level0 col2\" >Using TSNE Algorithm</th>        <th class=\"col_heading level0 col3\" >Generated Features</th>    </tr>    <tr>        <th class=\"index_name level0\" >Normalization Algorithm</th>        <th class=\"blank\" ></th>        <th class=\"blank\" ></th>        <th class=\"blank\" ></th>        <th class=\"blank\" ></th>    </tr></thead><tbody>\n",
              "                <tr>\n",
              "                        <th id=\"T_8a98a2c6_4f9a_11ec_9b31_0242ac1c0002level0_row0\" class=\"row_heading level0 row0\" >Z-Score Normalization</th>\n",
              "                        <td id=\"T_8a98a2c6_4f9a_11ec_9b31_0242ac1c0002row0_col0\" class=\"data row0 col0\" >0.933790</td>\n",
              "                        <td id=\"T_8a98a2c6_4f9a_11ec_9b31_0242ac1c0002row0_col1\" class=\"data row0 col1\" >0.969230</td>\n",
              "                        <td id=\"T_8a98a2c6_4f9a_11ec_9b31_0242ac1c0002row0_col2\" class=\"data row0 col2\" >0.988810</td>\n",
              "                        <td id=\"T_8a98a2c6_4f9a_11ec_9b31_0242ac1c0002row0_col3\" class=\"data row0 col3\" >0.931930</td>\n",
              "            </tr>\n",
              "            <tr>\n",
              "                        <th id=\"T_8a98a2c6_4f9a_11ec_9b31_0242ac1c0002level0_row1\" class=\"row_heading level0 row1\" >Min-Max Normalization</th>\n",
              "                        <td id=\"T_8a98a2c6_4f9a_11ec_9b31_0242ac1c0002row1_col0\" class=\"data row1 col0\" >0.941720</td>\n",
              "                        <td id=\"T_8a98a2c6_4f9a_11ec_9b31_0242ac1c0002row1_col1\" class=\"data row1 col1\" >0.974350</td>\n",
              "                        <td id=\"T_8a98a2c6_4f9a_11ec_9b31_0242ac1c0002row1_col2\" class=\"data row1 col2\" >0.987870</td>\n",
              "                        <td id=\"T_8a98a2c6_4f9a_11ec_9b31_0242ac1c0002row1_col3\" class=\"data row1 col3\" >0.913750</td>\n",
              "            </tr>\n",
              "            <tr>\n",
              "                        <th id=\"T_8a98a2c6_4f9a_11ec_9b31_0242ac1c0002level0_row2\" class=\"row_heading level0 row2\" >Decimal Scaling</th>\n",
              "                        <td id=\"T_8a98a2c6_4f9a_11ec_9b31_0242ac1c0002row2_col0\" class=\"data row2 col0\" >0.932860</td>\n",
              "                        <td id=\"T_8a98a2c6_4f9a_11ec_9b31_0242ac1c0002row2_col1\" class=\"data row2 col1\" >0.946850</td>\n",
              "                        <td id=\"T_8a98a2c6_4f9a_11ec_9b31_0242ac1c0002row2_col2\" class=\"data row2 col2\" >0.987410</td>\n",
              "                        <td id=\"T_8a98a2c6_4f9a_11ec_9b31_0242ac1c0002row2_col3\" class=\"data row2 col3\" >0.926800</td>\n",
              "            </tr>\n",
              "    </tbody></table>"
            ],
            "text/plain": [
              "<pandas.io.formats.style.Styler at 0x7fea89196710>"
            ]
          },
          "metadata": {},
          "execution_count": 597
        }
      ]
    },
    {
      "cell_type": "code",
      "metadata": {
        "id": "kjPz3BYeGnNX"
      },
      "source": [
        ""
      ],
      "execution_count": null,
      "outputs": []
    }
  ]
}