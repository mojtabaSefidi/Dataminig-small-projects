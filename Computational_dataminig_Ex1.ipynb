{
  "nbformat": 4,
  "nbformat_minor": 0,
  "metadata": {
    "colab": {
      "name": "Computational_dataminig_Ex1.ipynb",
      "provenance": [],
      "collapsed_sections": [],
      "authorship_tag": "ABX9TyMEdn56+QGP8Y197vW3Bop8",
      "include_colab_link": true
    },
    "kernelspec": {
      "name": "python3",
      "display_name": "Python 3"
    },
    "language_info": {
      "name": "python"
    }
  },
  "cells": [
    {
      "cell_type": "markdown",
      "metadata": {
        "id": "view-in-github",
        "colab_type": "text"
      },
      "source": [
        "<a href=\"https://colab.research.google.com/github/mojtabaSefidi/Dataminig-small-projects/blob/main/Computational_dataminig_Ex1.ipynb\" target=\"_parent\"><img src=\"https://colab.research.google.com/assets/colab-badge.svg\" alt=\"Open In Colab\"/></a>"
      ]
    },
    {
      "cell_type": "code",
      "execution_count": 1,
      "metadata": {
        "id": "pMEMwK2KbmSM"
      },
      "outputs": [],
      "source": [
        "import numpy as np\n",
        "from scipy.sparse import diags\n",
        "from scipy.linalg import norm\n",
        "from scipy.sparse.linalg import bicg"
      ]
    },
    {
      "cell_type": "code",
      "source": [
        "A = np.array([\n",
        "[2.001,1,1,1,1,1],\n",
        "[1,2.001,1,1,4.999,1],\n",
        "[1,1,1,2.001,1,1],\n",
        "[1,1,1,1,2.001,1],\n",
        "[0.001,1,1,1,1,2.001],\n",
        "[0.001,1,1,1,1,2.001]\n",
        "])\n",
        "\n",
        "print('Shape of matrix A:',A.shape)\n",
        "print()\n",
        "A"
      ],
      "metadata": {
        "colab": {
          "base_uri": "https://localhost:8080/"
        },
        "id": "kpmZFrHBcd3y",
        "outputId": "cf0b82c6-a1bf-4280-ee8b-c89907d20892"
      },
      "execution_count": 2,
      "outputs": [
        {
          "output_type": "stream",
          "name": "stdout",
          "text": [
            "Shape of matrix A: (6, 6)\n",
            "\n"
          ]
        },
        {
          "output_type": "execute_result",
          "data": {
            "text/plain": [
              "array([[2.001e+00, 1.000e+00, 1.000e+00, 1.000e+00, 1.000e+00, 1.000e+00],\n",
              "       [1.000e+00, 2.001e+00, 1.000e+00, 1.000e+00, 4.999e+00, 1.000e+00],\n",
              "       [1.000e+00, 1.000e+00, 1.000e+00, 2.001e+00, 1.000e+00, 1.000e+00],\n",
              "       [1.000e+00, 1.000e+00, 1.000e+00, 1.000e+00, 2.001e+00, 1.000e+00],\n",
              "       [1.000e-03, 1.000e+00, 1.000e+00, 1.000e+00, 1.000e+00, 2.001e+00],\n",
              "       [1.000e-03, 1.000e+00, 1.000e+00, 1.000e+00, 1.000e+00, 2.001e+00]])"
            ]
          },
          "metadata": {},
          "execution_count": 2
        }
      ]
    },
    {
      "cell_type": "code",
      "source": [
        "print('condition number of matrix A is :',np.linalg.cond(A,2).round(4))"
      ],
      "metadata": {
        "colab": {
          "base_uri": "https://localhost:8080/"
        },
        "id": "IRNpVC4Bd7Fv",
        "outputId": "c5343357-dc5a-4c82-b007-25d1d9f5adf0"
      },
      "execution_count": 3,
      "outputs": [
        {
          "output_type": "stream",
          "name": "stdout",
          "text": [
            "condition number of matrix A is : 1.208732104844498e+18\n"
          ]
        }
      ]
    },
    {
      "cell_type": "code",
      "source": [
        "B = np.array([[1],[1],[1],[1],[1],[1]])\n",
        "print('Shape of matrix B:',B.shape)\n",
        "print()\n",
        "B"
      ],
      "metadata": {
        "colab": {
          "base_uri": "https://localhost:8080/"
        },
        "id": "UkMz1EPac5lB",
        "outputId": "d0db7c64-527e-4643-942a-c48473df6ad7"
      },
      "execution_count": 4,
      "outputs": [
        {
          "output_type": "stream",
          "name": "stdout",
          "text": [
            "Shape of matrix B: (6, 1)\n",
            "\n"
          ]
        },
        {
          "output_type": "execute_result",
          "data": {
            "text/plain": [
              "array([[1],\n",
              "       [1],\n",
              "       [1],\n",
              "       [1],\n",
              "       [1],\n",
              "       [1]])"
            ]
          },
          "metadata": {},
          "execution_count": 4
        }
      ]
    },
    {
      "cell_type": "code",
      "source": [
        "x = bicg(A,B)\n",
        "print('The solution of Ax = B is :')\n",
        "print()\n",
        "x[0]"
      ],
      "metadata": {
        "colab": {
          "base_uri": "https://localhost:8080/"
        },
        "id": "cUDE0gJ45bJ8",
        "outputId": "e29a0642-09f4-4922-d9a7-98b0a6017dc2"
      },
      "execution_count": 5,
      "outputs": [
        {
          "output_type": "stream",
          "name": "stdout",
          "text": [
            "The solution of Ax = B is :\n",
            "\n"
          ]
        },
        {
          "output_type": "execute_result",
          "data": {
            "text/plain": [
              "array([1.80327975e-13, 2.89768209e-13, 1.00000000e+00, 1.79523063e-13,\n",
              "       1.48658863e-13, 1.48658863e-13])"
            ]
          },
          "metadata": {},
          "execution_count": 5
        }
      ]
    },
    {
      "cell_type": "code",
      "source": [
        "error_A = np.array([\n",
        "[0,0,0,0,-0.001,0],\n",
        "[0,0,0,0,0.001,0],\n",
        "[0.001,0,0,0,0,0],\n",
        "[0,0,0,0,0,0],\n",
        "[0,0,0,0,0.001,0],\n",
        "[-0.001,0,0,0,0,0],\n",
        "])\n",
        "\n",
        "print('Error for A matrix:')\n",
        "print()\n",
        "error_A"
      ],
      "metadata": {
        "colab": {
          "base_uri": "https://localhost:8080/"
        },
        "id": "rKruYBPc5_xz",
        "outputId": "670596bd-5e97-4907-c8ba-362903856732"
      },
      "execution_count": 6,
      "outputs": [
        {
          "output_type": "stream",
          "name": "stdout",
          "text": [
            "Error for A matrix:\n",
            "\n"
          ]
        },
        {
          "output_type": "execute_result",
          "data": {
            "text/plain": [
              "array([[ 0.   ,  0.   ,  0.   ,  0.   , -0.001,  0.   ],\n",
              "       [ 0.   ,  0.   ,  0.   ,  0.   ,  0.001,  0.   ],\n",
              "       [ 0.001,  0.   ,  0.   ,  0.   ,  0.   ,  0.   ],\n",
              "       [ 0.   ,  0.   ,  0.   ,  0.   ,  0.   ,  0.   ],\n",
              "       [ 0.   ,  0.   ,  0.   ,  0.   ,  0.001,  0.   ],\n",
              "       [-0.001,  0.   ,  0.   ,  0.   ,  0.   ,  0.   ]])"
            ]
          },
          "metadata": {},
          "execution_count": 6
        }
      ]
    },
    {
      "cell_type": "code",
      "source": [
        "A_error = A + error_A\n",
        "\n",
        "print('Matrix A after adding error:')\n",
        "print()\n",
        "A_error"
      ],
      "metadata": {
        "colab": {
          "base_uri": "https://localhost:8080/"
        },
        "id": "D2SfJ_TH7BoY",
        "outputId": "105b802d-5318-49c8-eae6-d413c999fe29"
      },
      "execution_count": 7,
      "outputs": [
        {
          "output_type": "stream",
          "name": "stdout",
          "text": [
            "Matrix A after adding error:\n",
            "\n"
          ]
        },
        {
          "output_type": "execute_result",
          "data": {
            "text/plain": [
              "array([[2.001e+00, 1.000e+00, 1.000e+00, 1.000e+00, 9.990e-01, 1.000e+00],\n",
              "       [1.000e+00, 2.001e+00, 1.000e+00, 1.000e+00, 5.000e+00, 1.000e+00],\n",
              "       [1.001e+00, 1.000e+00, 1.000e+00, 2.001e+00, 1.000e+00, 1.000e+00],\n",
              "       [1.000e+00, 1.000e+00, 1.000e+00, 1.000e+00, 2.001e+00, 1.000e+00],\n",
              "       [1.000e-03, 1.000e+00, 1.000e+00, 1.000e+00, 1.001e+00, 2.001e+00],\n",
              "       [0.000e+00, 1.000e+00, 1.000e+00, 1.000e+00, 1.000e+00, 2.001e+00]])"
            ]
          },
          "metadata": {},
          "execution_count": 7
        }
      ]
    },
    {
      "cell_type": "code",
      "source": [
        "x_A_error = bicg(A_error,B)\n",
        "print('The solution of Ax = B after adding error to A is :')\n",
        "print()\n",
        "x_A_error[0]"
      ],
      "metadata": {
        "colab": {
          "base_uri": "https://localhost:8080/"
        },
        "id": "R0Kv7hoD7Tuw",
        "outputId": "dd6bce55-a2b7-47d8-b9bf-45183f4421a7"
      },
      "execution_count": 8,
      "outputs": [
        {
          "output_type": "stream",
          "name": "stdout",
          "text": [
            "The solution of Ax = B after adding error to A is :\n",
            "\n"
          ]
        },
        {
          "output_type": "execute_result",
          "data": {
            "text/plain": [
              "array([ 6.06832574e-06, -1.84945151e-05,  9.99981972e-01,  6.15654094e-06,\n",
              "        6.09881553e-06,  1.21336317e-05])"
            ]
          },
          "metadata": {},
          "execution_count": 8
        }
      ]
    },
    {
      "cell_type": "code",
      "source": [
        "Error_A_Error = np.linalg.norm(np.transpose(x[0]) - np.transpose(x_A_error)[0],2).round(5)\n",
        "print('Error of solution when A has error:',Error_A_Error)\n",
        "print()\n",
        "print()"
      ],
      "metadata": {
        "colab": {
          "base_uri": "https://localhost:8080/"
        },
        "id": "n7_lMhY0i0bP",
        "outputId": "ca412eac-7258-4b89-fe18-38e63edac860"
      },
      "execution_count": 9,
      "outputs": [
        {
          "output_type": "stream",
          "name": "stdout",
          "text": [
            "Error of solution when A has error: 3e-05\n",
            "\n",
            "\n"
          ]
        },
        {
          "output_type": "stream",
          "name": "stderr",
          "text": [
            "/usr/local/lib/python3.7/dist-packages/numpy/core/fromnumeric.py:43: VisibleDeprecationWarning: Creating an ndarray from ragged nested sequences (which is a list-or-tuple of lists-or-tuples-or ndarrays with different lengths or shapes) is deprecated. If you meant to do this, you must specify 'dtype=object' when creating the ndarray.\n",
            "  result = getattr(asarray(obj), method)(*args, **kwds)\n"
          ]
        }
      ]
    },
    {
      "cell_type": "code",
      "source": [
        "B"
      ],
      "metadata": {
        "colab": {
          "base_uri": "https://localhost:8080/"
        },
        "id": "gzkBKRTGAIII",
        "outputId": "559baa25-cc5f-4b7e-806f-51db08de5343"
      },
      "execution_count": 10,
      "outputs": [
        {
          "output_type": "execute_result",
          "data": {
            "text/plain": [
              "array([[1],\n",
              "       [1],\n",
              "       [1],\n",
              "       [1],\n",
              "       [1],\n",
              "       [1]])"
            ]
          },
          "metadata": {},
          "execution_count": 10
        }
      ]
    },
    {
      "cell_type": "code",
      "source": [
        "error_B = np.array([[0.001],[0],[-0.001],[0],[-0.001],[0.001]])\n",
        "print('Error for B matrix:')\n",
        "print()\n",
        "error_B"
      ],
      "metadata": {
        "colab": {
          "base_uri": "https://localhost:8080/"
        },
        "id": "MINwLePG_rVp",
        "outputId": "2fbaee07-3d5d-4a39-fa0f-84b54137e511"
      },
      "execution_count": 11,
      "outputs": [
        {
          "output_type": "stream",
          "name": "stdout",
          "text": [
            "Error for B matrix:\n",
            "\n"
          ]
        },
        {
          "output_type": "execute_result",
          "data": {
            "text/plain": [
              "array([[ 0.001],\n",
              "       [ 0.   ],\n",
              "       [-0.001],\n",
              "       [ 0.   ],\n",
              "       [-0.001],\n",
              "       [ 0.001]])"
            ]
          },
          "metadata": {},
          "execution_count": 11
        }
      ]
    },
    {
      "cell_type": "code",
      "source": [
        "B_error = B + error_B\n",
        "\n",
        "print('Matrix B after adding error:')\n",
        "print()\n",
        "B_error"
      ],
      "metadata": {
        "colab": {
          "base_uri": "https://localhost:8080/"
        },
        "id": "WFkjjqEPAZlH",
        "outputId": "d9cde333-04c1-4ca2-cffa-758a15ef1c3e"
      },
      "execution_count": 12,
      "outputs": [
        {
          "output_type": "stream",
          "name": "stdout",
          "text": [
            "Matrix B after adding error:\n",
            "\n"
          ]
        },
        {
          "output_type": "execute_result",
          "data": {
            "text/plain": [
              "array([[1.001],\n",
              "       [1.   ],\n",
              "       [0.999],\n",
              "       [1.   ],\n",
              "       [0.999],\n",
              "       [1.001]])"
            ]
          },
          "metadata": {},
          "execution_count": 12
        }
      ]
    },
    {
      "cell_type": "code",
      "source": [
        "x_B_error = bicg(A,B_error)\n",
        "print('The solution of Ax = B after adding error to B is :')\n",
        "print()\n",
        "x_B_error[0]\n"
      ],
      "metadata": {
        "colab": {
          "base_uri": "https://localhost:8080/"
        },
        "id": "5NSnTCav9JXd",
        "outputId": "a9a8e84a-6713-4cda-9115-882b96967370"
      },
      "execution_count": 13,
      "outputs": [
        {
          "output_type": "stream",
          "name": "stdout",
          "text": [
            "The solution of Ax = B after adding error to B is :\n",
            "\n"
          ]
        },
        {
          "output_type": "execute_result",
          "data": {
            "text/plain": [
              "array([ 8.35756685e+27, -2.50309545e+28, -2.51061058e+28,  8.35756685e+27,\n",
              "        8.35756685e+27,  1.66984353e+28])"
            ]
          },
          "metadata": {},
          "execution_count": 13
        }
      ]
    },
    {
      "cell_type": "code",
      "source": [
        "Error_B_Error = np.linalg.norm(np.transpose(x[0]) - np.transpose(x_B_error)[0],2).round(5)\n",
        "print('Error of solution when B has error:',Error_B_Error)\n",
        "print()\n",
        "print()"
      ],
      "metadata": {
        "colab": {
          "base_uri": "https://localhost:8080/"
        },
        "id": "jAKXEklFi4qf",
        "outputId": "a0032fc3-f9b5-4263-efcf-2143de4ccd9b"
      },
      "execution_count": 14,
      "outputs": [
        {
          "output_type": "stream",
          "name": "stdout",
          "text": [
            "Error of solution when B has error: 4.177618626279606e+28\n",
            "\n",
            "\n"
          ]
        },
        {
          "output_type": "stream",
          "name": "stderr",
          "text": [
            "/usr/local/lib/python3.7/dist-packages/numpy/core/fromnumeric.py:43: VisibleDeprecationWarning: Creating an ndarray from ragged nested sequences (which is a list-or-tuple of lists-or-tuples-or ndarrays with different lengths or shapes) is deprecated. If you meant to do this, you must specify 'dtype=object' when creating the ndarray.\n",
            "  result = getattr(asarray(obj), method)(*args, **kwds)\n"
          ]
        }
      ]
    },
    {
      "cell_type": "code",
      "source": [
        "x_Both_error = bicg(A_error,B_error)\n",
        "print('The solution of Ax = B after adding error to both A & B is :')\n",
        "print()\n",
        "x_Both_error[0]"
      ],
      "metadata": {
        "colab": {
          "base_uri": "https://localhost:8080/"
        },
        "id": "toeu0cBuAolY",
        "outputId": "97a3ab15-1af5-49cc-e2ab-6f8c2c5bb60d"
      },
      "execution_count": 15,
      "outputs": [
        {
          "output_type": "stream",
          "name": "stdout",
          "text": [
            "The solution of Ax = B after adding error to both A & B is :\n",
            "\n"
          ]
        },
        {
          "output_type": "execute_result",
          "data": {
            "text/plain": [
              "array([-1.      ,  2.996004,  4.002998, -1.      , -1.      , -1.998002])"
            ]
          },
          "metadata": {},
          "execution_count": 15
        }
      ]
    },
    {
      "cell_type": "code",
      "source": [
        "Error_both_Error = np.linalg.norm(np.transpose(x[0]) - np.transpose(x_Both_error)[0],2).round(5)\n",
        "print('Error of solution when both A & B has error:',Error_both_Error)\n",
        "print()\n",
        "print()"
      ],
      "metadata": {
        "colab": {
          "base_uri": "https://localhost:8080/"
        },
        "id": "MuAWishDeNkX",
        "outputId": "994cf8be-8347-440b-8c3a-29cfdd22136d"
      },
      "execution_count": 16,
      "outputs": [
        {
          "output_type": "stream",
          "name": "stdout",
          "text": [
            "Error of solution when both A & B has error: 4.9986\n",
            "\n",
            "\n"
          ]
        },
        {
          "output_type": "stream",
          "name": "stderr",
          "text": [
            "/usr/local/lib/python3.7/dist-packages/numpy/core/fromnumeric.py:43: VisibleDeprecationWarning: Creating an ndarray from ragged nested sequences (which is a list-or-tuple of lists-or-tuples-or ndarrays with different lengths or shapes) is deprecated. If you meant to do this, you must specify 'dtype=object' when creating the ndarray.\n",
            "  result = getattr(asarray(obj), method)(*args, **kwds)\n"
          ]
        }
      ]
    },
    {
      "cell_type": "code",
      "source": [
        "def splitMatrix(A):\n",
        "    n,m = A.shape\n",
        "    if (n == m):\n",
        "        diagval = np.diag(A)\n",
        "        D = diags(diagval,0).toarray()\n",
        "        L = (-1)*np.tril(A,-1)\n",
        "        U = (-1)*np.triu(A,1)\n",
        "    else: \n",
        "        print(\"A needs to be a square matrix\")\n",
        "    return (L,D,U)"
      ],
      "metadata": {
        "id": "IB-ORDMcU6zV"
      },
      "execution_count": 17,
      "outputs": []
    },
    {
      "cell_type": "code",
      "source": [
        "def P_SSOR(A,w): \n",
        "    L,D,U = splitMatrix(A)\n",
        "    P = w/(2-w) * (1/w*D+L)*np.linalg.inv(D)*(1/w*D+L).T\n",
        "    return P"
      ],
      "metadata": {
        "id": "MtQ0iZvZVsp8"
      },
      "execution_count": 18,
      "outputs": []
    },
    {
      "cell_type": "code",
      "source": [
        "def myGMRES_SSOR(A,x0, b, tol, maxit):\n",
        "    matrixSize = A.shape[0] \n",
        "    e = np.zeros((maxit+1,1))\n",
        "    rr = 1\n",
        "    rstart = 2\n",
        "    X = x0\n",
        "    w = 1.9 \n",
        "    P = P_SSOR(A,w) ### preconditioned matrix \n",
        "    for rs in range(0,rstart+1):\n",
        "        if rr<tol: \n",
        "            break \n",
        "        else: \n",
        "            r0 = (b-A.dot(x0))\n",
        "            rho = norm(r0)\n",
        "            e[0] = rho \n",
        "            H = np.zeros((maxit+1,maxit))\n",
        "            Qcol = np.zeros((matrixSize, maxit+1))\n",
        "            Qcol[:,0:1] = r0/rho \n",
        "        for k in range(1, maxit+1):\n",
        "            Qcol[:,k] =np.matmul(np.matmul(A,P), Qcol[:,k-1]) \n",
        "            for j in range(0,k):\n",
        "                H[j,k-1] = np.dot(np.transpose(Qcol[:,k]),Qcol[:,j])\n",
        "                Qcol[:,k] = Qcol[:,k] - (np.dot(H[j,k-1], Qcol[:,j]))\n",
        "            H[k,k-1] =norm(Qcol[:,k])\n",
        "            Qcol[:,k] = Qcol[:,k]/H[k,k-1]\n",
        "            n = k \n",
        "            Q = np.zeros((n+1, n))\n",
        "            R = np.zeros((n, n))\n",
        "            R[0, 0] = norm(H[0:n+2, 0])\n",
        "            Q[:, 0] = H[0:n+1, 0] / R[0,0]\n",
        "            for j in range (0, n+1):\n",
        "                t = H[0:n+1, j-1]\n",
        "                for i in range (0, j-1):\n",
        "                    R[i, j-1] = np.dot(Q[:, i], t)\n",
        "                    t = t - np.dot(R[i, j-1], Q[:, i])\n",
        "                R[j-1, j-1] = norm(t)\n",
        "                Q[:, j-1] = t / R[j-1, j-1]\n",
        "\n",
        "            g = np.dot(np.transpose(Q), e[0:k+1])\n",
        "            Y = np.dot(np.linalg.inv(R), g) \n",
        "\n",
        "            Res= e[0:n] - np.dot(H[0:n, 0:n], Y[0:n])\n",
        "            rr = norm(Res) \n",
        "            if rr < tol: \n",
        "                break \n",
        "        #### Updating the solution with the preconditioned matrix ####\n",
        "        X = X  + np.matmul(np.matmul(P,Qcol[:, 0:k]), Y) \n",
        "    return X "
      ],
      "metadata": {
        "id": "4efq5mRMVQJG"
      },
      "execution_count": 19,
      "outputs": []
    },
    {
      "cell_type": "code",
      "source": [
        "x0 = np.zeros((6,1))\n",
        "tol = 0.00001\n",
        "maxit = 100\n",
        "X_A_preconditioning = myGMRES_SSOR(A_error, x0, B , tol, maxit)\n",
        "X_A_preconditioning\n"
      ],
      "metadata": {
        "colab": {
          "base_uri": "https://localhost:8080/"
        },
        "id": "oCn883awAXpu",
        "outputId": "b4b615d8-032a-4d51-e4b4-95d22cef92c1"
      },
      "execution_count": 26,
      "outputs": [
        {
          "output_type": "stream",
          "name": "stderr",
          "text": [
            "/usr/local/lib/python3.7/dist-packages/ipykernel_launcher.py:37: RuntimeWarning: invalid value encountered in true_divide\n"
          ]
        },
        {
          "output_type": "execute_result",
          "data": {
            "text/plain": [
              "array([[ 3.05468817e-10],\n",
              "       [-9.14272684e-10],\n",
              "       [ 9.99999999e-01],\n",
              "       [ 3.04859741e-10],\n",
              "       [ 3.05164153e-10],\n",
              "       [ 6.10023205e-10]])"
            ]
          },
          "metadata": {},
          "execution_count": 26
        }
      ]
    },
    {
      "cell_type": "code",
      "source": [
        "left_Error_before_Preconditionig = np.linalg.norm(np.transpose(x[0]) - np.transpose(x_A_error)[0],2).round(5)\n",
        "left_Error_After_Preconditionig =np.linalg.norm(np.transpose(x[0]) - np.transpose(X_A_preconditioning)[0],2).round(9)\n",
        "print('Error Before Preconditionig:',left_Error_before_Preconditionig)\n",
        "print('Error After Preconditionig:',left_Error_After_Preconditionig)\n",
        "print()\n",
        "print()"
      ],
      "metadata": {
        "id": "BJ5g-lkXAjzz",
        "colab": {
          "base_uri": "https://localhost:8080/"
        },
        "outputId": "8acb3777-f75f-4887-c0c3-3d991cb65524"
      },
      "execution_count": 28,
      "outputs": [
        {
          "output_type": "stream",
          "name": "stdout",
          "text": [
            "Error Before Preconditionig: 3e-05\n",
            "Error After Preconditionig: 2e-09\n",
            "\n",
            "\n"
          ]
        },
        {
          "output_type": "stream",
          "name": "stderr",
          "text": [
            "/usr/local/lib/python3.7/dist-packages/numpy/core/fromnumeric.py:43: VisibleDeprecationWarning: Creating an ndarray from ragged nested sequences (which is a list-or-tuple of lists-or-tuples-or ndarrays with different lengths or shapes) is deprecated. If you meant to do this, you must specify 'dtype=object' when creating the ndarray.\n",
            "  result = getattr(asarray(obj), method)(*args, **kwds)\n"
          ]
        }
      ]
    },
    {
      "cell_type": "code",
      "source": [
        "X_A_B_preconditioning = myGMRES_SSOR(A_error, x0, B_error , tol, maxit)\n",
        "X_A_B_preconditioning"
      ],
      "metadata": {
        "colab": {
          "base_uri": "https://localhost:8080/"
        },
        "id": "BrhSPlNBZ1tO",
        "outputId": "3fbc0e1c-3ded-4fbd-e5a9-3d5dc12dc725"
      },
      "execution_count": 29,
      "outputs": [
        {
          "output_type": "stream",
          "name": "stderr",
          "text": [
            "/usr/local/lib/python3.7/dist-packages/ipykernel_launcher.py:37: RuntimeWarning: invalid value encountered in true_divide\n"
          ]
        },
        {
          "output_type": "execute_result",
          "data": {
            "text/plain": [
              "array([[-1.      ],\n",
              "       [ 2.996004],\n",
              "       [ 4.002998],\n",
              "       [-1.      ],\n",
              "       [-1.      ],\n",
              "       [-1.998002]])"
            ]
          },
          "metadata": {},
          "execution_count": 29
        }
      ]
    },
    {
      "cell_type": "code",
      "source": [
        "right_Error_before_Preconditionig = np.linalg.norm(np.transpose(x[0]) - np.transpose(x_Both_error)[0],2).round(5)\n",
        "right_Error_After_Preconditionig =np.linalg.norm(np.transpose(x[0]) - np.transpose(X_A_B_preconditioning)[0],2).round(7)\n",
        "print('Error Before Preconditionig:',right_Error_before_Preconditionig)\n",
        "print('Error After Preconditionig:',right_Error_After_Preconditionig)\n",
        "print()\n",
        "print()"
      ],
      "metadata": {
        "colab": {
          "base_uri": "https://localhost:8080/"
        },
        "id": "lqGqF8SzZ3GN",
        "outputId": "bd4fd7c8-9397-415a-a544-2f9d4ce9e66e"
      },
      "execution_count": 30,
      "outputs": [
        {
          "output_type": "stream",
          "name": "stdout",
          "text": [
            "Error Before Preconditionig: 4.9986\n",
            "Error After Preconditionig: 4.9986047\n",
            "\n",
            "\n"
          ]
        },
        {
          "output_type": "stream",
          "name": "stderr",
          "text": [
            "/usr/local/lib/python3.7/dist-packages/numpy/core/fromnumeric.py:43: VisibleDeprecationWarning: Creating an ndarray from ragged nested sequences (which is a list-or-tuple of lists-or-tuples-or ndarrays with different lengths or shapes) is deprecated. If you meant to do this, you must specify 'dtype=object' when creating the ndarray.\n",
            "  result = getattr(asarray(obj), method)(*args, **kwds)\n"
          ]
        }
      ]
    },
    {
      "cell_type": "code",
      "source": [
        "A_Rectangle = np.array([\n",
        "[1.001,1,1,1,1.001,1],\n",
        "[1,1.001,1,1.001,1,2.999],\n",
        "[1,1.001,1,1,1.001,1],\n",
        "[1,1,1.001,1,1,1.001],\n",
        "[3.001,1,1,1,1.001,1]\n",
        "])\n",
        "\n",
        "print('Shape of matrix A:',A_Rectangle.shape)\n",
        "print()\n",
        "A_Rectangle"
      ],
      "metadata": {
        "colab": {
          "base_uri": "https://localhost:8080/"
        },
        "id": "FFcm6Y24D2Eo",
        "outputId": "ec2b04f6-306c-4bf8-b302-37ff5e3e9b57"
      },
      "execution_count": 341,
      "outputs": [
        {
          "output_type": "stream",
          "name": "stdout",
          "text": [
            "Shape of matrix A: (5, 6)\n",
            "\n"
          ]
        },
        {
          "output_type": "execute_result",
          "data": {
            "text/plain": [
              "array([[1.001, 1.   , 1.   , 1.   , 1.001, 1.   ],\n",
              "       [1.   , 1.001, 1.   , 1.001, 1.   , 2.999],\n",
              "       [1.   , 1.001, 1.   , 1.   , 1.001, 1.   ],\n",
              "       [1.   , 1.   , 1.001, 1.   , 1.   , 1.001],\n",
              "       [3.001, 1.   , 1.   , 1.   , 1.001, 1.   ]])"
            ]
          },
          "metadata": {},
          "execution_count": 341
        }
      ]
    },
    {
      "cell_type": "code",
      "source": [
        "print('condition number of matrix A is :',np.linalg.cond(A_Rectangle,2).round(4))"
      ],
      "metadata": {
        "colab": {
          "base_uri": "https://localhost:8080/"
        },
        "id": "6yn4KFW1cLdh",
        "outputId": "4f0ed578-8e79-4c84-f2d1-c312942ad5e5"
      },
      "execution_count": 344,
      "outputs": [
        {
          "output_type": "stream",
          "name": "stdout",
          "text": [
            "condition number of matrix A is : 11072.9568\n"
          ]
        }
      ]
    },
    {
      "cell_type": "code",
      "source": [
        "B_Rectangle = np.array([[1],[1],[1],[1],[1]])\n",
        "print('Shape of matrix B:',B_Rectangle.shape)\n",
        "print()\n",
        "B_Rectangle"
      ],
      "metadata": {
        "colab": {
          "base_uri": "https://localhost:8080/"
        },
        "id": "8-dwN1jMD82f",
        "outputId": "f8b81b3d-4138-43ef-8bba-41f96b86f9b0"
      },
      "execution_count": 346,
      "outputs": [
        {
          "output_type": "stream",
          "name": "stdout",
          "text": [
            "Shape of matrix B: (5, 1)\n",
            "\n"
          ]
        },
        {
          "output_type": "execute_result",
          "data": {
            "text/plain": [
              "array([[1],\n",
              "       [1],\n",
              "       [1],\n",
              "       [1],\n",
              "       [1]])"
            ]
          },
          "metadata": {},
          "execution_count": 346
        }
      ]
    },
    {
      "cell_type": "code",
      "source": [
        "X_Rectangle = np.matmul(np.linalg.inv(np.matmul(np.transpose(A_Rectangle),A_Rectangle)),\n",
        "              np.matmul(np.transpose(A_Rectangle),B_Rectangle))\n",
        "print('The solution of Ax = B is :')\n",
        "print()\n",
        "X_Rectangle"
      ],
      "metadata": {
        "colab": {
          "base_uri": "https://localhost:8080/"
        },
        "id": "BCxL1d9bD_jG",
        "outputId": "967dc066-fa25-4eac-b9b4-f12b50d19297"
      },
      "execution_count": 347,
      "outputs": [
        {
          "output_type": "stream",
          "name": "stdout",
          "text": [
            "The solution of Ax = B is :\n",
            "\n"
          ]
        },
        {
          "output_type": "execute_result",
          "data": {
            "text/plain": [
              "array([[ 0.01758845],\n",
              "       [-1.42239947],\n",
              "       [ 2.        ],\n",
              "       [-8.        ],\n",
              "       [ 8.        ],\n",
              "       [ 0.        ]])"
            ]
          },
          "metadata": {},
          "execution_count": 347
        }
      ]
    },
    {
      "cell_type": "code",
      "source": [
        "left_error_A = np.array([\n",
        "[-0.001,0,0,0.002,0,0],\n",
        "[0,0,0,0.001,0.009,0.001],\n",
        "[0,0,0,0,0,0.008],\n",
        "[0,0.002,0,0,0,0],\n",
        "[0,0,0,0,0.001,0]\n",
        "])\n",
        "print('Error for Matrix A :')\n",
        "print()\n",
        "left_error_A"
      ],
      "metadata": {
        "colab": {
          "base_uri": "https://localhost:8080/"
        },
        "id": "mtia9EjgEVdg",
        "outputId": "004fab64-e1de-4d45-8ce9-91ae15bdc663"
      },
      "execution_count": 350,
      "outputs": [
        {
          "output_type": "stream",
          "name": "stdout",
          "text": [
            "Error for Matrix A :\n",
            "\n"
          ]
        },
        {
          "output_type": "execute_result",
          "data": {
            "text/plain": [
              "array([[-0.001,  0.   ,  0.   ,  0.002,  0.   ,  0.   ],\n",
              "       [ 0.   ,  0.   ,  0.   ,  0.001,  0.009,  0.001],\n",
              "       [ 0.   ,  0.   ,  0.   ,  0.   ,  0.   ,  0.008],\n",
              "       [ 0.   ,  0.002,  0.   ,  0.   ,  0.   ,  0.   ],\n",
              "       [ 0.   ,  0.   ,  0.   ,  0.   ,  0.001,  0.   ]])"
            ]
          },
          "metadata": {},
          "execution_count": 350
        }
      ]
    },
    {
      "cell_type": "code",
      "source": [
        "A_left_error = A_Rectangle + left_error_A\n",
        "print('Matrix A after adding Error :')\n",
        "print()\n",
        "A_left_error"
      ],
      "metadata": {
        "colab": {
          "base_uri": "https://localhost:8080/"
        },
        "id": "7p7Vg-DVFA0t",
        "outputId": "e5fc526d-7243-4d57-a634-49438c6ed00b"
      },
      "execution_count": 351,
      "outputs": [
        {
          "output_type": "stream",
          "name": "stdout",
          "text": [
            "Matrix A after adding Error :\n",
            "\n"
          ]
        },
        {
          "output_type": "execute_result",
          "data": {
            "text/plain": [
              "array([[1.   , 1.   , 1.   , 1.002, 1.001, 1.   ],\n",
              "       [1.   , 1.001, 1.   , 1.002, 1.009, 3.   ],\n",
              "       [1.   , 1.001, 1.   , 1.   , 1.001, 1.008],\n",
              "       [1.   , 1.002, 1.001, 1.   , 1.   , 1.001],\n",
              "       [3.001, 1.   , 1.   , 1.   , 1.002, 1.   ]])"
            ]
          },
          "metadata": {},
          "execution_count": 351
        }
      ]
    },
    {
      "cell_type": "code",
      "source": [
        "X_left_error = np.matmul(np.linalg.inv(np.matmul(np.transpose(A_left_error),A_left_error)),\n",
        "                np.matmul(np.transpose(A_left_error),B_Rectangle))\n",
        "print('Solution of equation after Adding Error: ')\n",
        "print()\n",
        "X_left_error"
      ],
      "metadata": {
        "colab": {
          "base_uri": "https://localhost:8080/"
        },
        "id": "kGIyASM6FFx6",
        "outputId": "6295271c-1260-45ae-952f-341700123d85"
      },
      "execution_count": 353,
      "outputs": [
        {
          "output_type": "stream",
          "name": "stdout",
          "text": [
            "Solution of equation after Adding Error: \n",
            "\n"
          ]
        },
        {
          "output_type": "execute_result",
          "data": {
            "text/plain": [
              "array([[ 2.84375   ],\n",
              "       [ 2.        ],\n",
              "       [-4.        ],\n",
              "       [ 3.        ],\n",
              "       [-0.75      ],\n",
              "       [-0.00463867]])"
            ]
          },
          "metadata": {},
          "execution_count": 353
        }
      ]
    },
    {
      "cell_type": "code",
      "source": [
        "I = np.identity(6)\n",
        "L = 0.005"
      ],
      "metadata": {
        "id": "khrsJfa1FY_J"
      },
      "execution_count": 334,
      "outputs": []
    },
    {
      "cell_type": "code",
      "source": [
        "X_A_Error = np.matmul(np.linalg.inv(np.matmul(np.transpose(A_left_error),A_left_error)+ L* I),\n",
        "                  np.matmul(np.transpose(A_Rectangle),B_Rectangle))\n",
        "print('Solution of equation after Regularization: ')\n",
        "print()\n",
        "X_A_Error"
      ],
      "metadata": {
        "colab": {
          "base_uri": "https://localhost:8080/"
        },
        "id": "WNvgRbzQFgok",
        "outputId": "63444b16-d710-4d5b-ec78-be87bdfb34e7"
      },
      "execution_count": 354,
      "outputs": [
        {
          "output_type": "stream",
          "name": "stdout",
          "text": [
            "Solution of equation after Regularization: \n",
            "\n"
          ]
        },
        {
          "output_type": "execute_result",
          "data": {
            "text/plain": [
              "array([[ 0.00374897],\n",
              "       [ 0.59687299],\n",
              "       [ 0.99582694],\n",
              "       [ 0.39765578],\n",
              "       [-1.00068982],\n",
              "       [ 0.00406338]])"
            ]
          },
          "metadata": {},
          "execution_count": 354
        }
      ]
    },
    {
      "cell_type": "code",
      "source": [
        "Error_before_regularization = np.linalg.norm(np.transpose(X_Rectangle) - np.transpose(X_left_error),2).round(4)\n",
        "Error_After_regularization = np.linalg.norm(np.transpose(X_Rectangle) - np.transpose(X_A_Error),2).round(4)\n",
        "print('Error Before regularization:',Error_before_regularization)\n",
        "print('Error After regularization:',Error_After_regularization)"
      ],
      "metadata": {
        "colab": {
          "base_uri": "https://localhost:8080/"
        },
        "id": "2vXcDUf4F1Uh",
        "outputId": "565910ea-a5d6-4132-ce8d-0a1fd88df287"
      },
      "execution_count": 355,
      "outputs": [
        {
          "output_type": "stream",
          "name": "stdout",
          "text": [
            "Error Before regularization: 15.9142\n",
            "Error After regularization: 12.5148\n"
          ]
        }
      ]
    },
    {
      "cell_type": "code",
      "source": [
        ""
      ],
      "metadata": {
        "id": "NKkhydFFiCM0"
      },
      "execution_count": null,
      "outputs": []
    }
  ]
}